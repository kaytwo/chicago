{
 "cells": [
  {
   "cell_type": "code",
   "execution_count": 5,
   "metadata": {},
   "outputs": [],
   "source": [
    "import pandas\n",
    "import numpy\n",
    "import matplotlib.pyplot as plt\n",
    "from collections import namedtuple\n",
    "from tqdm import tqdm"
   ]
  },
  {
   "cell_type": "code",
   "execution_count": 6,
   "metadata": {},
   "outputs": [],
   "source": [
    "class ElectionSampler:\n",
    "    cases = None\n",
    "    threshold = None\n",
    "    \n",
    "    def decide_case(self, groups: pandas.Series):\n",
    "        number_over_threshold = (groups > self.threshold).sum()\n",
    "        return self.cases[number_over_threshold]\n",
    "\n",
    "    def sample(self, groups: pandas.Series):\n",
    "        \"\"\"\n",
    "        :param pandas.Series groups: a single row of a DataFrame with the percentages\n",
    "            of each racial group in a ward.\n",
    "        \"\"\"\n",
    "        outcomes, probabilities = self.decide_case(groups)\n",
    "        outcome = numpy.random.choice(a=outcomes, p=probabilities)\n",
    "        groups_from_highest_to_lowest = groups.sort_values(ascending=False).keys()\n",
    "        result = zip(groups_from_highest_to_lowest, outcome)\n",
    "        return result\n",
    "\n",
    "class ElectionSamplerWithMajority(ElectionSampler):\n",
    "    def decide_case(self, groups: pandas.Series):\n",
    "        number_over_threshold = (groups > self.threshold).sum()\n",
    "        any_majority = (groups > 0.5).any()\n",
    "        if any_majority and number_over_threshold in self.cases[\"majority\"]:\n",
    "            return self.cases[\"majority\"][number_over_threshold]\n",
    "        else:\n",
    "            return self.cases[\"majority\"][number_over_threshold]\n"
   ]
  },
  {
   "cell_type": "code",
   "execution_count": 7,
   "metadata": {},
   "outputs": [],
   "source": [
    "Case = namedtuple(\"Case\", [\"outcomes\", \"probabilities\"])"
   ]
  },
  {
   "cell_type": "code",
   "execution_count": 8,
   "metadata": {},
   "outputs": [],
   "source": [
    "class TenByFiveSampler(ElectionSampler):\n",
    "    cases = {\n",
    "        1: Case(outcomes=((5,), (4,1)), probabilities=(0.5, 0.5)),\n",
    "        2: Case(((4, 1), (3, 2), (2, 3), (2, 2, 1), (3, 1, 1)), (0.25, 0.55, 0.1, 0.05, 0.05)),\n",
    "        3: Case(((3, 1, 1), (3, 2), (2, 3), (2, 2, 1), (2, 1, 2)), (0.25, 0.25, 0.15, 0.2, 0.15)),\n",
    "        4: Case(((3, 1, 1), (3, 2), (2, 3), (2, 2, 1), (2, 1, 2)), (0.2, 0.2, 0.2, 0.2, 0.2))\n",
    "    }\n",
    "    threshold = 1/6\n",
    "\n",
    "class FiftyByOneSampler(ElectionSamplerWithMajority):\n",
    "    \"\"\"\n",
    "    Tweaks:\n",
    "    if 2 groups over 25%:\n",
    "        if one over 50%: 90-10\n",
    "        else: 60-40\n",
    "    if 3:\n",
    "        if one over 50%: 80-18-2\n",
    "        else: 45-30-25\n",
    "    \"\"\"\n",
    "    cases = {\n",
    "        \"majority\": {\n",
    "            2: Case(((1, 0), (0,1)), (0.9, 0.1)),\n",
    "            3: Case(((1,0,0), (0,1,0), (0,0,1)), (0.8, 0.18, 0.02))\n",
    "        },\n",
    "        \"plurality\": {\n",
    "            1: Case(outcomes=((1,),), probabilities=(1,)),\n",
    "            2: Case(((1, 0), (0,1)), (0.6, 0.4)),\n",
    "            3: Case(((1,0,0), (0,1,0), (0,0,1)),(0.45, 0.3, 0.25))\n",
    "        }\n",
    "    }\n",
    "    threshold = 0.25\n",
    "    \n",
    "class TenByThreeSampler(ElectionSamplerWithMajority):\n",
    "    cases = {\n",
    "        \"majority\": {\n",
    "            1: Case(outcomes=((3,), (2,1)), probabilities=(0.9, 1)),\n",
    "            2: Case(((3,), (2,1)), (0.2, 0.8)),\n",
    "            3: Case(((3,), (2,1), (1,2), (1,1,1)), (0.1, 0.5, 0.3, 0.1)),\n",
    "            \n",
    "        },\n",
    "        \"plurality\": {\n",
    "            1: Case(((3,), (2,1)), (0.5, 0.5)),\n",
    "            2: Case(((3,), (2,1), (1,2), (1,1,1)), (0.1, 0.1, 0.8)),\n",
    "            3: Case(((3,), (2,1), (1,2), (1,1,1)), (0.05, 0.15, 0.1, 0.7))\n",
    "        }\n",
    "    }\n",
    "    threshold = 0.25"
   ]
  },
  {
   "cell_type": "code",
   "execution_count": 5,
   "metadata": {},
   "outputs": [],
   "source": [
    "def load_data(filename):\n",
    "    df = pandas.read_csv(filename)\n",
    "    data = pandas.DataFrame(\n",
    "        {\n",
    "            \"step\": df[\"step\"],\n",
    "            \"ward\": df[\"ward\"],\n",
    "            \"White\": df[\"NH_WHITE\"] / df[\"TOTPOP\"],\n",
    "            \"Black\": df[\"NH_BLACK\"] / df[\"TOTPOP\"],\n",
    "            \"Hispanic\": df[\"HISP\"] / df[\"TOTPOP\"],\n",
    "            \"Asian\": df[\"NH_ASIAN\"] / df[\"TOTPOP\"],\n",
    "        }\n",
    "    )\n",
    "    return data"
   ]
  },
  {
   "cell_type": "code",
   "execution_count": 9,
   "metadata": {},
   "outputs": [],
   "source": [
    "def random_sample(data, size, sampler):\n",
    "    groups = [\"White\", \"Black\", \"Hispanic\", \"Asian\"]\n",
    "    \n",
    "    plans = data[\"step\"].unique()\n",
    "    plan_indices = numpy.random.choice(plans, size=size)\n",
    "    for plan_index in tqdm(plan_indices):\n",
    "        wards = data[data[\"step\"] == plan_index]\n",
    "        results = {group: 0 for group in groups}\n",
    "        for index, ward in wards.iterrows():\n",
    "            for group, wins in sampler.sample(ward[groups]):\n",
    "                results[group] += wins\n",
    "        yield results"
   ]
  },
  {
   "cell_type": "code",
   "execution_count": 10,
   "metadata": {},
   "outputs": [],
   "source": [
    "data = load_data(\"./mggg_chicago/ca10/results_10x5_CAs.csv\")"
   ]
  },
  {
   "cell_type": "code",
   "execution_count": 11,
   "metadata": {},
   "outputs": [
    {
     "name": "stderr",
     "output_type": "stream",
     "text": [
      "100%|██████████████████████████████████████████████████████████████████████████| 100000/100000 [33:24<00:00, 49.88it/s]\n"
     ]
    }
   ],
   "source": [
    "outcomes = pandas.DataFrame.from_records(random_sample(data, 100000, TenByFiveSampler()))"
   ]
  },
  {
   "cell_type": "code",
   "execution_count": 12,
   "metadata": {},
   "outputs": [],
   "source": [
    "groups = [\"White\", \"Black\", \"Hispanic\", \"Asian\"]"
   ]
  },
  {
   "cell_type": "code",
   "execution_count": 13,
   "metadata": {},
   "outputs": [],
   "source": [
    "outcomes.to_csv(\"./projection_10x5_CA.csv\")"
   ]
  },
  {
   "cell_type": "code",
   "execution_count": 23,
   "metadata": {},
   "outputs": [],
   "source": [
    "outcomes.groupby(groups).size().to_csv(\"./projection_10x5_CA_counts.csv\", header=True)"
   ]
  },
  {
   "cell_type": "code",
   "execution_count": 22,
   "metadata": {},
   "outputs": [
    {
     "data": {
      "text/plain": [
       "array([[<matplotlib.axes._subplots.AxesSubplot object at 0x0000019933EAFB00>,\n",
       "        <matplotlib.axes._subplots.AxesSubplot object at 0x0000019933FCAC88>],\n",
       "       [<matplotlib.axes._subplots.AxesSubplot object at 0x0000019933BDA080>,\n",
       "        <matplotlib.axes._subplots.AxesSubplot object at 0x0000019933C004E0>]],\n",
       "      dtype=object)"
      ]
     },
     "execution_count": 22,
     "metadata": {},
     "output_type": "execute_result"
    },
    {
     "data": {
      "image/png": "[encoded data removed]",
      "text/plain": [
       "<Figure size 864x720 with 4 Axes>"
      ]
     },
     "metadata": {
      "needs_background": "light"
     },
     "output_type": "display_data"
    }
   ],
   "source": [
    "outcomes[groups].hist(sharex=True, grid=False, figsize=(12,10), color=\"#0099cd\", bins=list(range(30)))"
   ]
  },
  {
   "cell_type": "code",
   "execution_count": null,
   "metadata": {},
   "outputs": [],
   "source": []
  }
 ],
 "metadata": {
  "kernelspec": {
   "display_name": "Python 3",
   "language": "python",
   "name": "python3"
  },
  "language_info": {
   "codemirror_mode": {
    "name": "ipython",
    "version": 3
   },
   "file_extension": ".py",
   "mimetype": "text/x-python",
   "name": "python",
   "nbconvert_exporter": "python",
   "pygments_lexer": "ipython3",
   "version": "3.7.2"
  }
 },
 "nbformat": 4,
 "nbformat_minor": 2
}
