{
 "cells": [
  {
   "cell_type": "markdown",
   "metadata": {},
   "source": [
    "# Projected outcomes\n",
    "\n",
    "This notebook contains the code we used to project outcomes under the 10x5 and 50x1 districting plans using demographic threshold inference model (see section 5 of the report)."
   ]
  },
  {
   "cell_type": "code",
   "execution_count": 1,
   "metadata": {},
   "outputs": [],
   "source": [
    "import pandas\n",
    "import numpy\n",
    "from collections import namedtuple\n",
    "from tqdm import tqdm\n",
    "import matplotlib.pyplot as plt\n",
    "import random\n",
    "import itertools\n",
    "import operator"
   ]
  },
  {
   "cell_type": "code",
   "execution_count": 2,
   "metadata": {},
   "outputs": [],
   "source": [
    "tqdm.pandas()"
   ]
  },
  {
   "cell_type": "markdown",
   "metadata": {},
   "source": [
    "## Projection model code"
   ]
  },
  {
   "cell_type": "code",
   "execution_count": 3,
   "metadata": {},
   "outputs": [],
   "source": [
    "groups = [\"Asian\", \"Black\", \"Hispanic\", \"White\"]\n",
    "abbreviations = [\"A\", \"B\", \"H\", \"W\"]\n",
    "mapping = {\n",
    "    \"\".join(str(ranking.index(initial) + 1) for initial in abbreviations): \"\".join(ranking)\n",
    "    for ranking in itertools.permutations(abbreviations)\n",
    "}\n",
    "\n",
    "def encoded_rankings(data):\n",
    "    ranked = data.rank(ascending=False, axis=1)\n",
    "    encoded = ranked.astype(int).astype(str).sum(axis=1).astype(int).astype(str)\n",
    "    return encoded.map(mapping)"
   ]
  },
  {
   "cell_type": "code",
   "execution_count": 4,
   "metadata": {},
   "outputs": [],
   "source": [
    "class ElectionSampler:\n",
    "    def __init__(self, cases, threshold):\n",
    "        self.cases = cases\n",
    "        self.threshold = threshold\n",
    "\n",
    "    def sample(self, data: pandas.DataFrame):\n",
    "        \"\"\"\n",
    "        :param pandas.DataFrame data: a DataFrame with the percentages\n",
    "            of each racial group in a ward.\n",
    "        :param int or None number_of_seats: if not None, normalize\n",
    "            the result so that it sums to ``number_of_seats``. Userful\n",
    "            if you want to interpret the result as a projected number\n",
    "            of wins for each group.\n",
    "        \"\"\"\n",
    "        cases = self.orderings_and_cases(data)\n",
    "        outcomes = cases.progress_apply(lambda x: self.cases[x[\"case\"]].random_outcomes(x[\"ordering\"]), axis=1)\n",
    "        return outcomes\n",
    "\n",
    "    def expectation(self, data: pandas.DataFrame):\n",
    "        grouped_cases = self.orderings_and_cases(data).groupby([\"ordering\", \"case\"]).size()\n",
    "        total_wards = grouped_cases.sum()\n",
    "        outputs = pandas.DataFrame.from_records(\n",
    "            self.cases[case].expected_value(ordering) * size\n",
    "            for (ordering, case), size in grouped_cases.items()\n",
    "        )\n",
    "        return outputs.sum() / total_wards\n",
    "    \n",
    "    def orderings_and_cases(self, data: pandas.DataFrame):\n",
    "        return pandas.DataFrame({\n",
    "            \"ordering\": encoded_rankings(data),\n",
    "            \"case\": self.decide_case_strings(data)\n",
    "        })\n",
    "\n",
    "    def decide_case_strings(self, data: pandas.DataFrame):\n",
    "        number_over_threshold = (data > self.threshold).sum(axis=1)\n",
    "        majority = (data > 0.5).any(axis=1).map({True: \"M\", False: \"P\"})\n",
    "        return number_over_threshold.astype(str) + majority\n"
   ]
  },
  {
   "cell_type": "code",
   "execution_count": 5,
   "metadata": {},
   "outputs": [],
   "source": [
    "class Case:\n",
    "    def __init__(self, outcomes, probabilities, number_of_groups=4):\n",
    "        assert len(outcomes) == len(probabilities)\n",
    "        assert all(isinstance(x, tuple) for x in outcomes)\n",
    "        assert 0.99 <= sum(probabilities) <= 1.01\n",
    "        assert len(set(sum(outcome) for outcome in outcomes)) == 1\n",
    "        \n",
    "        self.outcomes = numpy.zeros((len(outcomes), number_of_groups))\n",
    "        for i, outcome in enumerate(outcomes):\n",
    "            for j, wins in enumerate(outcome):\n",
    "                self.outcomes[i, j] = wins\n",
    "        \n",
    "        self.outcome_indices = numpy.arange(len(outcomes))\n",
    "        self.probabilities = numpy.reshape(numpy.asarray(probabilities), len(probabilities))\n",
    "    \n",
    "    def __iter__(self):\n",
    "        return iter((self.outcomes, self.probabilities))\n",
    "    \n",
    "    def random_outcomes(self, ordering, index=None):\n",
    "        if index is None:\n",
    "            size = 1\n",
    "        else:\n",
    "            size = len(index)\n",
    "        \n",
    "        outcome_indices = numpy.random.choice(\n",
    "            a=self.outcome_indices,\n",
    "            p=self.probabilities,\n",
    "            size=size\n",
    "        )\n",
    "        return pandas.DataFrame(\n",
    "            self.outcomes[outcome_indices, :],\n",
    "            columns=list(ordering),\n",
    "            index=index\n",
    "        )\n",
    "    \n",
    "    def expected_value(self, ordering):\n",
    "        return pandas.DataFrame(\n",
    "            self.outcomes * self.probabilities[:, numpy.newaxis],\n",
    "            columns=list(ordering)\n",
    "        ).sum()"
   ]
  },
  {
   "cell_type": "code",
   "execution_count": 6,
   "metadata": {},
   "outputs": [],
   "source": [
    "fifty_by_one = ElectionSampler(\n",
    "    cases = {\n",
    "        \"1M\": Case([(1,0), (0,1)], (0.98, 0.02)),\n",
    "        \"2M\": Case([(1,0,0), (0,1,0), (0,0,1)], (0.8, 0.18, 0.02)),\n",
    "        \"1P\": Case([(1,0,0), (0,1,0), (0,0,1)], (0.8, 0.18, 0.02)),\n",
    "        \"2P\": Case([(1,0,0), (0,1,0), (0,0,1)], (0.60, 0.30, 0.10)),\n",
    "        \"3P\": Case([(1,0,0), (0,1,0), (0,0,1)], (0.50, 0.30, 0.20)),    \n",
    "    },\n",
    "    threshold = 0.25\n",
    ")"
   ]
  },
  {
   "cell_type": "code",
   "execution_count": 7,
   "metadata": {},
   "outputs": [],
   "source": [
    "cases10x5 = {\n",
    "    \"1M\": Case([(5,0),(4,1)], (0.60, 0.40)),\n",
    "    \"2M\": Case([(4, 1), (3, 2), (2, 3), (3, 1, 1), (2,2, 1)], \n",
    "               (.60, .30 , .05,  .03,  .02)),\n",
    "    \"3M\": Case([(3, 1, 1), (2,2,1), (2,1,2)], (.6, 0.3, 0.1)),\n",
    "    \"1P\": Case([(5,0), (4,1), (4,0,1), (3,1,1)], (0.5, 0.4, 0.05, 0.05)),\n",
    "    \"2P\": Case([(4,1), (3,2), (2,3), (3,1,1), (2,2,1)],\n",
    "               (0.5, 0.35, 0.1, 0.03, 0.02)),\n",
    "    \"3P\": Case([(3, 1, 1), (2,2,1), (2,1,2)], (.5, 0.35, 0.15)),\n",
    "    \"4P\": Case([(2, 1, 1, 1), (1, 2,1,1), (1,1,2,1)], (.5, 0.35, 0.15))\n",
    "}\n",
    "\n",
    "ten_by_five = ElectionSampler(\n",
    "    cases=cases10x5,\n",
    "    threshold = 1/6\n",
    ")"
   ]
  },
  {
   "cell_type": "code",
   "execution_count": 8,
   "metadata": {},
   "outputs": [],
   "source": [
    "cases10x3 = {\n",
    "    \"1M\": Case([(3,0,0), (2,1,0), (2,0,1)], (0.9, 0.08, 0.02)),\n",
    "    \"2M\": Case([(3,0,0), (2,1,0), (1,2,0), (1,1,1)], (0.1, 0.7, 0.15, 0.05)),\n",
    "    \"1P\": Case([(3,0,0), (2,1,0), (2,0,1)], (0.6, 0.38, 0.02)),\n",
    "    \"2P\": Case([(3,0,0), (2,1,0), (1,2,0), (1,1,1)], (0.05, 0.65, 0.25, 0.05)),\n",
    "    \"3P\": Case([(3,0,0), (2,1,0), (2,0,1), (1,2,0), (1,1,1)],\n",
    "                (0.02, 0.05, 0.02, 0.01, 0.90)),\n",
    "}\n",
    "\n",
    "ten_by_three = ElectionSampler(cases10x3, threshold=0.25)"
   ]
  },
  {
   "cell_type": "code",
   "execution_count": 9,
   "metadata": {},
   "outputs": [],
   "source": [
    "def load_data(filename):\n",
    "    df = pandas.read_csv(filename)\n",
    "    data = pandas.DataFrame(\n",
    "        {\n",
    "            \"step\": df[\"step\"],\n",
    "            \"ward\": df[\"ward\"],\n",
    "            \"White\": df[\"NH_WHITE\"] / df[\"TOTPOP\"],\n",
    "            \"Black\": df[\"NH_BLACK\"] / df[\"TOTPOP\"],\n",
    "            \"Hispanic\": df[\"HISP\"] / df[\"TOTPOP\"],\n",
    "            \"Asian\": df[\"NH_ASIAN\"] / df[\"TOTPOP\"],\n",
    "        }\n",
    "    )\n",
    "    return data"
   ]
  },
  {
   "cell_type": "markdown",
   "metadata": {},
   "source": [
    "## Expectations"
   ]
  },
  {
   "cell_type": "code",
   "execution_count": 10,
   "metadata": {},
   "outputs": [],
   "source": [
    "data50x1 = load_data(\"../ensembles/prec50/results.csv\")"
   ]
  },
  {
   "cell_type": "code",
   "execution_count": 14,
   "metadata": {},
   "outputs": [],
   "source": [
    "data50x1 = None"
   ]
  },
  {
   "cell_type": "code",
   "execution_count": 10,
   "metadata": {},
   "outputs": [],
   "source": [
    "data10xM = load_data(\"../ensembles/prec10/results.csv\")"
   ]
  },
  {
   "cell_type": "code",
   "execution_count": 11,
   "metadata": {},
   "outputs": [],
   "source": [
    "data10xM_CA = load_data(\"../ensembles/ca10/results.csv\")"
   ]
  },
  {
   "cell_type": "code",
   "execution_count": 12,
   "metadata": {},
   "outputs": [],
   "source": [
    "samplers = {\n",
    "    \"50x1\": fifty_by_one,\n",
    "    \"10x5\": ten_by_five,\n",
    "    \"10x5_CA\": ten_by_five,\n",
    "    \"10x3\": ten_by_three,\n",
    "    \"10x3_CA\": ten_by_three\n",
    "}"
   ]
  },
  {
   "cell_type": "code",
   "execution_count": 15,
   "metadata": {},
   "outputs": [],
   "source": [
    "data = {\n",
    "    \"50x1\": data50x1,\n",
    "    \"10x5\": data10xM,\n",
    "    \"10x5_CA\": data10xM_CA,\n",
    "    \"10x3\": data10xM,\n",
    "    \"10x3_CA\": data10xM_CA\n",
    "}"
   ]
  },
  {
   "cell_type": "code",
   "execution_count": 16,
   "metadata": {},
   "outputs": [],
   "source": [
    "number_of_seats = {\n",
    "    \"50x1\": 50,\n",
    "    \"10x5\": 50,\n",
    "    \"10x5_CA\": 50,\n",
    "    \"10x3\": 30,\n",
    "    \"10x3_CA\": 30\n",
    "}\n",
    "\n",
    "number_of_wards = {\n",
    "    \"50x1\": 50,\n",
    "    \"10x5\": 10,\n",
    "    \"10x5_CA\": 10,\n",
    "    \"10x3\": 10,\n",
    "    \"10x3_CA\": 10\n",
    "}"
   ]
  },
  {
   "cell_type": "code",
   "execution_count": 16,
   "metadata": {},
   "outputs": [],
   "source": [
    "expectations = pandas.DataFrame({\n",
    "    key: samplers[key].expectation(data[key][groups]) * number_of_wards[key]\n",
    "    for key in samplers\n",
    "})"
   ]
  },
  {
   "cell_type": "code",
   "execution_count": 17,
   "metadata": {},
   "outputs": [],
   "source": [
    "expectations.to_csv(\"./expectations.csv\")"
   ]
  },
  {
   "cell_type": "markdown",
   "metadata": {},
   "source": [
    "## Sensitivity analysis"
   ]
  },
  {
   "cell_type": "code",
   "execution_count": 18,
   "metadata": {},
   "outputs": [],
   "source": [
    "alternate_50x1_cases = {\n",
    "    \"1M\": [Case([(1,0), (0,1)], (0.90, 0.10))],\n",
    "    \"2M\": [\n",
    "        Case([(1,0,0), (0,1,0), (0,0,1)], (0.7, 0.30, 0.00)),\n",
    "        Case([(1,0,0), (0,1,0), (0,0,1)], (0.7, 0.20, 0.10)),\n",
    "        Case([(1,0,0), (0,1,0), (0,0,1)], (0.9, 0.10, 0.00))\n",
    "    ],\n",
    "    \"1P\": [\n",
    "        Case([(1,0,0), (0,1,0), (0,0,1)], (0.7, 0.30, 0.00)),\n",
    "        Case([(1,0,0), (0,1,0), (0,0,1)], (0.7, 0.20, 0.10)),\n",
    "        Case([(1,0,0), (0,1,0), (0,0,1)], (0.9, 0.10, 0.00))\n",
    "    ],\n",
    "    \"2P\": [Case([(1,0,0), (0,1,0), (0,0,1)], (0.60, 0.40, 0.00)),\n",
    "        Case([(1,0,0), (0,1,0), (0,0,1)], (0.60, 0.30, 0.10))],\n",
    "    \"3P\": [Case([(1,0,0), (0,1,0), (0,0,1)], (0.60, 0.30, 0.10)),\n",
    "           Case([(1,0,0), (0,1,0), (0,0,1)], (0.40, 0.30, 0.30))]\n",
    "}"
   ]
  },
  {
   "cell_type": "code",
   "execution_count": 19,
   "metadata": {},
   "outputs": [],
   "source": [
    "alternate_10x5_cases = {\n",
    "    \"1M\": [Case([(5,0),(4,1)], (0.50, 0.50)),\n",
    "           Case([(5,0),(4,1)], (0.80, 0.20))],\n",
    "    \"2M\": [Case([(4, 1), (3, 2), (2, 3)], \n",
    "               (.60, .30 , .10)),\n",
    "           Case([(4, 1), (3, 2), (2, 3)], \n",
    "               (.50, .45 , .05))],\n",
    "    \"3M\": [Case([(3, 1, 1), (2,2,1), (2,1,2)], (.5, 0.3, 0.2)),\n",
    "           Case([(3, 1, 1), (3,2), (2,3), (2,2,1), (2,1,2)],\n",
    "                (.25, 0.25, 0.15, 0.2, 0.15))],\n",
    "    \"1P\": [Case([(5,0),(4,1)], (0.50, 0.50)),\n",
    "           Case([(5,0),(4,1)], (0.80, 0.20))],\n",
    "    \"2P\": [Case([(4,1), (3,2), (2,3)],\n",
    "               (0.5, 0.35, 0.15)),\n",
    "            Case([(4,1), (3,2), (2,3)],\n",
    "               (0.40, 0.50, 0.10))],\n",
    "    \"3P\": [Case([(3, 1, 1), (2,2,1), (2,1,2)], (.5, 0.30, 0.20)),\n",
    "           Case([(3, 1, 1), (3,2), (2,3), (2,2,1), (2,1,2)],\n",
    "                (.25, 0.25, 0.15, 0.2, 0.15))],\n",
    "    \"4P\": [Case([(2, 1, 1, 1),(1, 2,1,1), (1,1,2,1)], (.80, 0.10, 0.10)),\n",
    "           Case([(1,1,1,1)], (1,))]\n",
    "}"
   ]
  },
  {
   "cell_type": "code",
   "execution_count": 20,
   "metadata": {},
   "outputs": [],
   "source": [
    "alternate_10x3_cases = {\n",
    "    \"1M\": [Case([(3,0,0), (2,1,0)], (0.9, 0.10)),\n",
    "          Case([(3,0,0), (2,1,0)], (0.6, 0.40))],\n",
    "    \"2M\": [Case([(3,0,0), (2,1,0), (1,2,0), (1,1,1)],\n",
    "                (0.3, 0.4, 0.2, 0.1)),\n",
    "           Case([(3,0,0), (2,1,0), (1,2,0)],\n",
    "                (0.05, 0.85, 0.1)),\n",
    "          ],\n",
    "    \"1P\": [Case([(3,0,0), (2,1,0)], (0.6, 0.40)),\n",
    "           Case([(3,0,0), (2,1,0), (2,0,1)], (0.7, 0.20, 0.10)),\n",
    "          ],\n",
    "    \"2P\": [Case([(3,0,0), (2,1,0), (1,2,0), (1,1,1)],\n",
    "                (0.20, 0.45, 0.25, 0.10)),\n",
    "           Case([(3,0,0), (2,1,0), (1,2,0)],\n",
    "                (0.05, 0.65, 0.30)),\n",
    "          ],\n",
    "    \"3P\": [Case([(1,1,1)],\n",
    "                (1,)),\n",
    "           Case([(3,0,0), (2,1,0), (2,0,1), (1,1,1)],\n",
    "                (0.10, 0.05, 0.05, 0.80)),\n",
    "          ]\n",
    "}\n"
   ]
  },
  {
   "cell_type": "code",
   "execution_count": 21,
   "metadata": {},
   "outputs": [],
   "source": [
    "alternates = {\n",
    "    \"50x1\": alternate_50x1_cases,\n",
    "    \"10x5\": alternate_10x5_cases,\n",
    "    \"10x3\": alternate_10x3_cases,\n",
    "    \"10x3_CA\": alternate_10x3_cases,\n",
    "    \"10x5_CA\": alternate_10x5_cases\n",
    "}"
   ]
  },
  {
   "cell_type": "code",
   "execution_count": 22,
   "metadata": {},
   "outputs": [],
   "source": [
    "def alternate_samplers():\n",
    "    for original, alternate_cases in alternates.items():\n",
    "        for case_str, cases in alternate_cases.items():\n",
    "            for i, case in enumerate(cases):\n",
    "                key = \"{}_{}_{}\".format(original, case_str, i)\n",
    "                new_cases = samplers[original].cases.copy()\n",
    "                new_cases[case_str] = case\n",
    "                new_sampler = ElectionSampler(\n",
    "                    new_cases, samplers[original].threshold\n",
    "                )\n",
    "                yield (key, original, new_sampler)"
   ]
  },
  {
   "cell_type": "code",
   "execution_count": 24,
   "metadata": {},
   "outputs": [],
   "source": [
    "alternate_expectations = pandas.DataFrame({\n",
    "    sampler_key: new_sampler.expectation(data[original_key][groups]) * number_of_wards[original_key]\n",
    "    for (sampler_key, original_key, new_sampler) in alternate_samplers()\n",
    "})"
   ]
  },
  {
   "cell_type": "code",
   "execution_count": 25,
   "metadata": {},
   "outputs": [],
   "source": [
    "alternate_expectations.to_csv(\"./alternates.csv\")"
   ]
  }
 ],
 "metadata": {
  "kernelspec": {
   "display_name": "Python 3",
   "language": "python",
   "name": "python3"
  },
  "language_info": {
   "codemirror_mode": {
    "name": "ipython",
    "version": 3
   },
   "file_extension": ".py",
   "mimetype": "text/x-python",
   "name": "python",
   "nbconvert_exporter": "python",
   "pygments_lexer": "ipython3",
   "version": "3.7.1"
  }
 },
 "nbformat": 4,
 "nbformat_minor": 2
}
