{
 "cells": [
  {
   "cell_type": "markdown",
   "metadata": {},
   "source": [
    "# Projected Outcomes Sensitivity Analysis\n",
    "\n",
    "This notebook contains the code for the sensitivty analysis of the projection model used to project outcomes under the 10x5 and 50x1 districting plans using demographic threshold inference model (see section 5 of the report).\n",
    "\n",
    "The sensitivity analysis proceeds by altering the probabilities of the samplers. There are a total of 54 different scenarios, each detailed below. "
   ]
  },
  {
   "cell_type": "code",
   "execution_count": 14,
   "metadata": {},
   "outputs": [],
   "source": [
    "import pandas\n",
    "import numpy\n",
    "from collections import namedtuple\n",
    "from tqdm import tqdm\n",
    "import matplotlib.pyplot as plt\n",
    "import random\n",
    "import itertools"
   ]
  },
  {
   "cell_type": "markdown",
   "metadata": {},
   "source": [
    "## Projection model"
   ]
  },
  {
   "cell_type": "code",
   "execution_count": 15,
   "metadata": {},
   "outputs": [],
   "source": [
    "class ElectionSampler:\n",
    "    cases = None\n",
    "    threshold = None\n",
    "    \n",
    "    def decide_case(self, groups: pandas.Series):\n",
    "        number_over_threshold = (groups > self.threshold).sum()\n",
    "        return self.cases[number_over_threshold]\n",
    "\n",
    "    def sample(self, groups: pandas.Series):\n",
    "        \"\"\"\n",
    "        :param pandas.Series groups: a single row of a DataFrame with the percentages\n",
    "            of each racial group in a ward.\n",
    "        \"\"\"\n",
    "        outcomes, probabilities = self.decide_case(groups)\n",
    "        outcome = numpy.random.choice(a=outcomes, p=probabilities)\n",
    "        groups_from_highest_to_lowest = groups.sort_values(ascending=False).keys()\n",
    "        full_outcome = itertools.chain(\n",
    "            outcome,\n",
    "            itertools.repeat(0, len(groups_from_highest_to_lowest) - len(outcome))\n",
    "        )\n",
    "        return pandas.Series(full_outcome, index=groups_from_highest_to_lowest)\n",
    "\n",
    "class ElectionSamplerWithMajority(ElectionSampler):\n",
    "    def decide_case(self, groups: pandas.Series):\n",
    "        number_over_threshold = (groups > self.threshold).sum()\n",
    "        any_majority = (groups > 0.5).any()\n",
    "        if any_majority and number_over_threshold in self.cases[\"majority\"]:\n",
    "            return self.cases[\"majority\"][number_over_threshold]\n",
    "        else:\n",
    "            return self.cases[\"plurality\"][number_over_threshold]\n"
   ]
  },
  {
   "cell_type": "code",
   "execution_count": 16,
   "metadata": {},
   "outputs": [],
   "source": [
    "Case = namedtuple(\"Case\", [\"outcomes\", \"probabilities\"])"
   ]
  },
  {
   "cell_type": "markdown",
   "metadata": {},
   "source": [
    "## Sampling classes\n",
    "Each of the sampling classes below has been altered for the sensitivity analysis, with the first in each type being the control (the sampler used for the paper)."
   ]
  },
  {
   "cell_type": "code",
   "execution_count": 17,
   "metadata": {},
   "outputs": [],
   "source": [
    "# Control\n",
    "class TenByFiveSampler_1(ElectionSampler):\n",
    "    cases = {\n",
    "        1: Case(outcomes=((5,), (4,1)), probabilities=(0.5, 0.5)),\n",
    "        2: Case(((4, 1), (3, 2), (2, 3), (2, 2, 1), (3, 1, 1)), (0.25, 0.55, 0.1, 0.05, 0.05)),\n",
    "        3: Case(((3, 1, 1), (3, 2), (2, 3), (2, 2, 1), (2, 1, 2)), (0.25, 0.25, 0.15, 0.2, 0.15)),\n",
    "        4: Case(((3, 1, 1), (3, 2), (2, 3), (2, 2, 1), (2, 1, 2)), (0.2, 0.2, 0.2, 0.2, 0.2))\n",
    "    }\n",
    "    threshold = 1/6\n",
    "    change = \"No change.\"\n",
    "\n",
    "# Case 1 changes    \n",
    "class TenByFiveSampler_2(ElectionSampler):\n",
    "    cases = {\n",
    "        1: Case(outcomes=((5,), (4,1)), probabilities=(0.6, 0.4)),\n",
    "        2: Case(((4, 1), (3, 2), (2, 3), (2, 2, 1), (3, 1, 1)), (0.25, 0.55, 0.1, 0.05, 0.05)),\n",
    "        3: Case(((3, 1, 1), (3, 2), (2, 3), (2, 2, 1), (2, 1, 2)), (0.25, 0.25, 0.15, 0.2, 0.15)),\n",
    "        4: Case(((3, 1, 1), (3, 2), (2, 3), (2, 2, 1), (2, 1, 2)), (0.2, 0.2, 0.2, 0.2, 0.2))\n",
    "    }\n",
    "    threshold = 1/6\n",
    "    change = \"Case 1 change: probabilities=(0.6, 0.4)\"\n",
    "\n",
    "class TenByFiveSampler_3(ElectionSampler):\n",
    "    cases = {\n",
    "        1: Case(outcomes=((5,), (4,1)), probabilities=(0.7, 0.3)),\n",
    "        2: Case(((4, 1), (3, 2), (2, 3), (2, 2, 1), (3, 1, 1)), (0.25, 0.55, 0.1, 0.05, 0.05)),\n",
    "        3: Case(((3, 1, 1), (3, 2), (2, 3), (2, 2, 1), (2, 1, 2)), (0.25, 0.25, 0.15, 0.2, 0.15)),\n",
    "        4: Case(((3, 1, 1), (3, 2), (2, 3), (2, 2, 1), (2, 1, 2)), (0.2, 0.2, 0.2, 0.2, 0.2))\n",
    "    }\n",
    "    threshold = 1/6\n",
    "    change = \"Case 1 change: probabilities=(0.7, 0.3)\"\n",
    "\n",
    "class TenByFiveSampler_4(ElectionSampler):\n",
    "    cases = {\n",
    "        1: Case(outcomes=((5,), (4,1)), probabilities=(0.4, 0.6)),\n",
    "        2: Case(((4, 1), (3, 2), (2, 3), (2, 2, 1), (3, 1, 1)), (0.25, 0.55, 0.1, 0.05, 0.05)),\n",
    "        3: Case(((3, 1, 1), (3, 2), (2, 3), (2, 2, 1), (2, 1, 2)), (0.25, 0.25, 0.15, 0.2, 0.15)),\n",
    "        4: Case(((3, 1, 1), (3, 2), (2, 3), (2, 2, 1), (2, 1, 2)), (0.2, 0.2, 0.2, 0.2, 0.2))\n",
    "    }\n",
    "    threshold = 1/6\n",
    "    change = \"Case 1 change: probabilities=(0.4, 0.6)\"\n",
    "\n",
    "class TenByFiveSampler_5(ElectionSampler):\n",
    "    cases = {\n",
    "        1: Case(outcomes=((5,), (4,1)), probabilities=(0.3, 0.7)),\n",
    "        2: Case(((4, 1), (3, 2), (2, 3), (2, 2, 1), (3, 1, 1)), (0.25, 0.55, 0.1, 0.05, 0.05)),\n",
    "        3: Case(((3, 1, 1), (3, 2), (2, 3), (2, 2, 1), (2, 1, 2)), (0.25, 0.25, 0.15, 0.2, 0.15)),\n",
    "        4: Case(((3, 1, 1), (3, 2), (2, 3), (2, 2, 1), (2, 1, 2)), (0.2, 0.2, 0.2, 0.2, 0.2))\n",
    "    }\n",
    "    threshold = 1/6\n",
    "    change = \"Case 1 change: probabilities=(0.3, 0.7)\"\n",
    "    \n",
    "# Case 2 changes\n",
    "class TenByFiveSampler_6(ElectionSampler):\n",
    "    cases = {\n",
    "        1: Case(outcomes=((5,), (4,1)), probabilities=(0.5, 0.5)),\n",
    "        2: Case(((4, 1), (3, 2), (2, 3), (2, 2, 1), (3, 1, 1)), (0.30, 0.60, 0.1, 0.05, 0.05)),\n",
    "        3: Case(((3, 1, 1), (3, 2), (2, 3), (2, 2, 1), (2, 1, 2)), (0.25, 0.25, 0.15, 0.2, 0.15)),\n",
    "        4: Case(((3, 1, 1), (3, 2), (2, 3), (2, 2, 1), (2, 1, 2)), (0.2, 0.2, 0.2, 0.2, 0.2))\n",
    "    }\n",
    "    threshold = 1/6\n",
    "    change = \"Case 2 change: probabilities = (0.30, 0.60, 0.1, 0.05, 0.05)\"\n",
    "\n",
    "class TenByFiveSampler_7(ElectionSampler):\n",
    "    cases = {\n",
    "        1: Case(outcomes=((5,), (4,1)), probabilities=(0.5, 0.5)),\n",
    "        2: Case(((4, 1), (3, 2), (2, 3), (2, 2, 1), (3, 1, 1)), (0.25, 0.60, 0.05, 0.05, 0.05)),\n",
    "        3: Case(((3, 1, 1), (3, 2), (2, 3), (2, 2, 1), (2, 1, 2)), (0.25, 0.25, 0.15, 0.2, 0.15)),\n",
    "        4: Case(((3, 1, 1), (3, 2), (2, 3), (2, 2, 1), (2, 1, 2)), (0.2, 0.2, 0.2, 0.2, 0.2))\n",
    "    }\n",
    "    threshold = 1/6\n",
    "    change = \"Case 2 change: probabilities = (0.25, 0.60, 0.05, 0.05, 0.05)\"\n",
    "    \n",
    "class TenByFiveSampler_8(ElectionSampler):\n",
    "    cases = {\n",
    "        1: Case(outcomes=((5,), (4,1)), probabilities=(0.5, 0.5)),\n",
    "        2: Case(((4, 1), (3, 2), (2, 3), (2, 2, 1), (3, 1, 1)), (0.30, 0.55, 0.05, 0.05, 0.05)),\n",
    "        3: Case(((3, 1, 1), (3, 2), (2, 3), (2, 2, 1), (2, 1, 2)), (0.25, 0.25, 0.15, 0.2, 0.15)),\n",
    "        4: Case(((3, 1, 1), (3, 2), (2, 3), (2, 2, 1), (2, 1, 2)), (0.2, 0.2, 0.2, 0.2, 0.2))\n",
    "    }\n",
    "    threshold = 1/6\n",
    "    change = \"Case 2 change: probabilities = (0.30, 0.55, 0.05, 0.05, 0.05)\"\n",
    "\n",
    "# Case 3 changes\n",
    "class TenByFiveSampler_9(ElectionSampler):\n",
    "    cases = {\n",
    "        1: Case(outcomes=((5,), (4,1)), probabilities=(0.5, 0.5)),\n",
    "        2: Case(((4, 1), (3, 2), (2, 3), (2, 2, 1), (3, 1, 1)), (0.25, 0.55, 0.05, 0.05, 0.05)),\n",
    "        3: Case(((3, 1, 1), (3, 2), (2, 3), (2, 2, 1), (2, 1, 2)), (0.30, 0.25, 0.1, 0.2, 0.15)),\n",
    "        4: Case(((3, 1, 1), (3, 2), (2, 3), (2, 2, 1), (2, 1, 2)), (0.2, 0.2, 0.2, 0.2, 0.2))\n",
    "    }\n",
    "    threshold = 1/6\n",
    "    change = \"Case 3 change: probabilities = (0.30, 0.25, 0.1, 0.2, 0.15)\"\n",
    "\n",
    "class TenByFiveSampler_10(ElectionSampler):\n",
    "    cases = {\n",
    "        1: Case(outcomes=((5,), (4,1)), probabilities=(0.5, 0.5)),\n",
    "        2: Case(((4, 1), (3, 2), (2, 3), (2, 2, 1), (3, 1, 1)), (0.25, 0.55, 0.05, 0.05, 0.05)),\n",
    "        3: Case(((3, 1, 1), (3, 2), (2, 3), (2, 2, 1), (2, 1, 2)), (0.35, 0.30, 0.1, 0.1, 0.15)),\n",
    "        4: Case(((3, 1, 1), (3, 2), (2, 3), (2, 2, 1), (2, 1, 2)), (0.2, 0.2, 0.2, 0.2, 0.2))\n",
    "    }\n",
    "    threshold = 1/6\n",
    "    change = \"Case 3 change: probabilities = (0.35, 0.30, 0.1, 0.1, 0.15)\"\n",
    "    \n",
    "class TenByFiveSampler_11(ElectionSampler):\n",
    "    cases = {\n",
    "        1: Case(outcomes=((5,), (4,1)), probabilities=(0.5, 0.5)),\n",
    "        2: Case(((4, 1), (3, 2), (2, 3), (2, 2, 1), (3, 1, 1)), (0.25, 0.55, 0.05, 0.05, 0.05)),\n",
    "        3: Case(((3, 1, 1), (3, 2), (2, 3), (2, 2, 1), (2, 1, 2)), (0.30, 0.25, 0.15, 0.15, 0.15)),\n",
    "        4: Case(((3, 1, 1), (3, 2), (2, 3), (2, 2, 1), (2, 1, 2)), (0.2, 0.2, 0.2, 0.2, 0.2))\n",
    "    }\n",
    "    threshold = 1/6\n",
    "    change = \"Case 3 change: probabilities = (0.30, 0.25, 0.15, 0.15, 0.15)\"\n",
    "\n",
    "# Case 4 changes\n",
    "class TenByFiveSampler_12(ElectionSampler):\n",
    "    cases = {\n",
    "        1: Case(outcomes=((5,), (4,1)), probabilities=(0.5, 0.5)),\n",
    "        2: Case(((4, 1), (3, 2), (2, 3), (2, 2, 1), (3, 1, 1)), (0.25, 0.55, 0.1, 0.05, 0.05)),\n",
    "        3: Case(((3, 1, 1), (3, 2), (2, 3), (2, 2, 1), (2, 1, 2)), (0.25, 0.25, 0.15, 0.2, 0.15)),\n",
    "        4: Case(((3, 1, 1), (3, 2), (2, 3), (2, 2, 1), (2, 1, 2)), (0.25, 0.25, 0.2, 0.15, 0.15))\n",
    "    }\n",
    "    threshold = 1/6\n",
    "    change = \"Case 4 change: probabilities = (0.25, 0.25, 0.2, 0.15, 0.15)\"\n",
    "    \n",
    "class TenByFiveSampler_13(ElectionSampler):\n",
    "    cases = {\n",
    "        1: Case(outcomes=((5,), (4,1)), probabilities=(0.5, 0.5)),\n",
    "        2: Case(((4, 1), (3, 2), (2, 3), (2, 2, 1), (3, 1, 1)), (0.25, 0.55, 0.1, 0.05, 0.05)),\n",
    "        3: Case(((3, 1, 1), (3, 2), (2, 3), (2, 2, 1), (2, 1, 2)), (0.25, 0.25, 0.15, 0.2, 0.15)),\n",
    "        4: Case(((3, 1, 1), (3, 2), (2, 3), (2, 2, 1), (2, 1, 2)), (0.30, 0.25, 0.15, 0.15, 0.15))\n",
    "    }\n",
    "    threshold = 1/6\n",
    "    change = \"Case 4 change: probabilities = (0.30, 0.25, 0.15, 0.15, 0.15)\"\n",
    "    \n",
    "class TenByFiveSampler_14(ElectionSampler):\n",
    "    cases = {\n",
    "        1: Case(outcomes=((5,), (4,1)), probabilities=(0.5, 0.5)),\n",
    "        2: Case(((4, 1), (3, 2), (2, 3), (2, 2, 1), (3, 1, 1)), (0.25, 0.55, 0.1, 0.05, 0.05)),\n",
    "        3: Case(((3, 1, 1), (3, 2), (2, 3), (2, 2, 1), (2, 1, 2)), (0.25, 0.25, 0.15, 0.2, 0.15)),\n",
    "        4: Case(((3, 1, 1), (3, 2), (2, 3), (2, 2, 1), (2, 1, 2)), (0.3, 0.2, 0.2, 0.2, 0.1))\n",
    "    }\n",
    "    threshold = 1/6\n",
    "    change = \"Case 4 change: probabilities = (0.30, 0.25, 0.15, 0.15, 0.15)\"\n",
    "\n",
    "tenxfive = [TenByFiveSampler_1(),\n",
    "            TenByFiveSampler_2(),\n",
    "            TenByFiveSampler_3(),\n",
    "            TenByFiveSampler_4(),\n",
    "            TenByFiveSampler_5(),\n",
    "            TenByFiveSampler_6(),\n",
    "            TenByFiveSampler_7(),\n",
    "            TenByFiveSampler_8(),\n",
    "            TenByFiveSampler_9(),\n",
    "            TenByFiveSampler_10(),\n",
    "            TenByFiveSampler_11(),\n",
    "            TenByFiveSampler_12(),\n",
    "            TenByFiveSampler_13(),\n",
    "            TenByFiveSampler_14()\n",
    "           ]"
   ]
  },
  {
   "cell_type": "code",
   "execution_count": 18,
   "metadata": {},
   "outputs": [],
   "source": [
    "# Control\n",
    "class FiftyByOneSampler_1(ElectionSamplerWithMajority):\n",
    "    cases = {\n",
    "        \"majority\": {\n",
    "            2: Case(((1,), (0,1)), (0.9, 0.1)),\n",
    "            3: Case(((1,), (0,1,), (0,0,1)), (0.8, 0.18, 0.02))\n",
    "        },\n",
    "        \"plurality\": {\n",
    "            1: Case(outcomes=((1,), (0,1)), probabilities=(1, 0)),\n",
    "            2: Case(((1,), (0,1)), (0.6, 0.4)),\n",
    "            3: Case(((1,), (0,1), (0,0,1)),(0.45, 0.3, 0.25))\n",
    "        }\n",
    "    }\n",
    "    threshold = 0.25\n",
    "    change = \"No change.\"\n",
    "\n",
    "# Majority case 1 changes\n",
    "class FiftyByOneSampler_2(ElectionSamplerWithMajority):\n",
    "    cases = {\n",
    "        \"majority\": {\n",
    "            2: Case(((1,), (0,1)), (0.8, 0.2)),\n",
    "            3: Case(((1,), (0,1,), (0,0,1)), (0.8, 0.18, 0.02))\n",
    "        },\n",
    "        \"plurality\": {\n",
    "            1: Case(outcomes=((1,), (0,1)), probabilities=(1, 0)),\n",
    "            2: Case(((1,), (0,1)), (0.6, 0.4)),\n",
    "            3: Case(((1,), (0,1), (0,0,1)),(0.45, 0.3, 0.25))\n",
    "        }\n",
    "    }\n",
    "    threshold = 0.25    \n",
    "    change = \"Majority, case 1 change: probabilities = (0.8, 0.2)\"\n",
    "\n",
    "class FiftyByOneSampler_3(ElectionSamplerWithMajority):\n",
    "    cases = {\n",
    "        \"majority\": {\n",
    "            2: Case(((1,), (0,1)), (0.7, 0.3)),\n",
    "            3: Case(((1,), (0,1,), (0,0,1)), (0.8, 0.18, 0.02))\n",
    "        },\n",
    "        \"plurality\": {\n",
    "            1: Case(outcomes=((1,), (0,1)), probabilities=(1, 0)),\n",
    "            2: Case(((1,), (0,1)), (0.6, 0.4)),\n",
    "            3: Case(((1,), (0,1), (0,0,1)),(0.45, 0.3, 0.25))\n",
    "        }\n",
    "    }\n",
    "    threshold = 0.25    \n",
    "    change = \"Majority, case 1 change: probabilities = (0.7, 0.3)\"\n",
    "    \n",
    "class FiftyByOneSampler_4(ElectionSamplerWithMajority):\n",
    "    cases = {\n",
    "        \"majority\": {\n",
    "            2: Case(((1,), (0,1)), (0.6, 0.4)),\n",
    "            3: Case(((1,), (0,1,), (0,0,1)), (0.8, 0.18, 0.02))\n",
    "        },\n",
    "        \"plurality\": {\n",
    "            1: Case(outcomes=((1,), (0,1)), probabilities=(1, 0)),\n",
    "            2: Case(((1,), (0,1)), (0.6, 0.4)),\n",
    "            3: Case(((1,), (0,1), (0,0,1)),(0.45, 0.3, 0.25))\n",
    "        }\n",
    "    }\n",
    "    threshold = 0.25    \n",
    "    change = \"Majority, case 1 change: probabilities = (0.6, 0.4)\"\n",
    "\n",
    "# Majority case 2 changes\n",
    "class FiftyByOneSampler_5(ElectionSamplerWithMajority):\n",
    "    cases = {\n",
    "        \"majority\": {\n",
    "            2: Case(((1,), (0,1)), (0.9, 0.1)),\n",
    "            3: Case(((1,), (0,1,), (0,0,1)), (0.8, 0.16, 0.04))\n",
    "        },\n",
    "        \"plurality\": {\n",
    "            1: Case(outcomes=((1,), (0,1)), probabilities=(1, 0)),\n",
    "            2: Case(((1,), (0,1)), (0.6, 0.4)),\n",
    "            3: Case(((1,), (0,1), (0,0,1)),(0.45, 0.3, 0.25))\n",
    "        }\n",
    "    }\n",
    "    threshold = 0.25\n",
    "    change = \"Majority, case 2 change: probablities = (0.8, 0.16, 0.04)\"\n",
    "\n",
    "class FiftyByOneSampler_6(ElectionSamplerWithMajority):\n",
    "    cases = {\n",
    "        \"majority\": {\n",
    "            2: Case(((1,), (0,1)), (0.9, 0.1)),\n",
    "            3: Case(((1,), (0,1,), (0,0,1)), (0.8, 0.14, 0.06))\n",
    "        },\n",
    "        \"plurality\": {\n",
    "            1: Case(outcomes=((1,), (0,1)), probabilities=(1, 0)),\n",
    "            2: Case(((1,), (0,1)), (0.6, 0.4)),\n",
    "            3: Case(((1,), (0,1), (0,0,1)),(0.45, 0.3, 0.25))\n",
    "        }\n",
    "    }\n",
    "    threshold = 0.25\n",
    "    change = \"Majority, case 2 change: probablities = (0.8, 0.14, 0.06)\"\n",
    "\n",
    "class FiftyByOneSampler_7(ElectionSamplerWithMajority):\n",
    "    cases = {\n",
    "        \"majority\": {\n",
    "            2: Case(((1,), (0,1)), (0.9, 0.1)),\n",
    "            3: Case(((1,), (0,1,), (0,0,1)), (0.75, 0.2, 0.05))\n",
    "        },\n",
    "        \"plurality\": {\n",
    "            1: Case(outcomes=((1,), (0,1)), probabilities=(1, 0)),\n",
    "            2: Case(((1,), (0,1)), (0.6, 0.4)),\n",
    "            3: Case(((1,), (0,1), (0,0,1)),(0.45, 0.3, 0.25))\n",
    "        }\n",
    "    }\n",
    "    threshold = 0.25\n",
    "    change = \"Majority, case 2 change: probablities = (0.75, 0.2, 0.05)\"\n",
    "\n",
    "class FiftyByOneSampler_8(ElectionSamplerWithMajority):\n",
    "    cases = {\n",
    "        \"majority\": {\n",
    "            2: Case(((1,), (0,1)), (0.9, 0.1)),\n",
    "            3: Case(((1,), (0,1,), (0,0,1)), (0.7, 0.2, 0.1))\n",
    "        },\n",
    "        \"plurality\": {\n",
    "            1: Case(outcomes=((1,), (0,1)), probabilities=(1, 0)),\n",
    "            2: Case(((1,), (0,1)), (0.6, 0.4)),\n",
    "            3: Case(((1,), (0,1), (0,0,1)),(0.45, 0.3, 0.25))\n",
    "        }\n",
    "    }\n",
    "    threshold = 0.25\n",
    "    change = \"Majority, case 2 change: probablities = (0.7, 0.2, 0.1)\"\n",
    "\n",
    "# Plurality case 1 changes\n",
    "class FiftyByOneSampler_9(ElectionSamplerWithMajority):\n",
    "    cases = {\n",
    "        \"majority\": {\n",
    "            2: Case(((1,), (0,1)), (0.9, 0.1)),\n",
    "            3: Case(((1,), (0,1,), (0,0,1)), (0.8, 0.18, 0.02))\n",
    "        },\n",
    "        \"plurality\": {\n",
    "            1: Case(outcomes=((1,), (0,1)), probabilities=(0.9, 0.1)),\n",
    "            2: Case(((1,), (0,1)), (0.6, 0.4)),\n",
    "            3: Case(((1,), (0,1), (0,0,1)),(0.45, 0.3, 0.25))\n",
    "        }\n",
    "    }\n",
    "    threshold = 0.25\n",
    "    change = \"Plurality, case 1 change: probablities = (0.9, 0.1)\"\n",
    "\n",
    "class FiftyByOneSampler_10(ElectionSamplerWithMajority):\n",
    "    cases = {\n",
    "        \"majority\": {\n",
    "            2: Case(((1,), (0,1)), (0.9, 0.1)),\n",
    "            3: Case(((1,), (0,1,), (0,0,1)), (0.8, 0.18, 0.02))\n",
    "        },\n",
    "        \"plurality\": {\n",
    "            1: Case(outcomes=((1,), (0,1)), probabilities=(0.8, 0.2)),\n",
    "            2: Case(((1,), (0,1)), (0.6, 0.4)),\n",
    "            3: Case(((1,), (0,1), (0,0,1)),(0.45, 0.3, 0.25))\n",
    "        }\n",
    "    }\n",
    "    threshold = 0.25\n",
    "    change = \"Plurality, case 1 change: probablities = (0.8, 0.2)\"\n",
    "\n",
    "# Plurality case 2 changes\n",
    "class FiftyByOneSampler_11(ElectionSamplerWithMajority):\n",
    "    cases = {\n",
    "        \"majority\": {\n",
    "            2: Case(((1,), (0,1)), (0.9, 0.1)),\n",
    "            3: Case(((1,), (0,1,), (0,0,1)), (0.8, 0.18, 0.02))\n",
    "        },\n",
    "        \"plurality\": {\n",
    "            1: Case(outcomes=((1,), (0,1)), probabilities=(1, 0)),\n",
    "            2: Case(((1,), (0,1)), (0.55, 0.45)),\n",
    "            3: Case(((1,), (0,1), (0,0,1)),(0.45, 0.3, 0.25))\n",
    "        }\n",
    "    }\n",
    "    threshold = 0.25\n",
    "    change = \"Plurality, case 2 change: probablities = (0.55, 0.45)\"\n",
    "    \n",
    "class FiftyByOneSampler_12(ElectionSamplerWithMajority):\n",
    "    cases = {\n",
    "        \"majority\": {\n",
    "            2: Case(((1,), (0,1)), (0.9, 0.1)),\n",
    "            3: Case(((1,), (0,1,), (0,0,1)), (0.8, 0.18, 0.02))\n",
    "        },\n",
    "        \"plurality\": {\n",
    "            1: Case(outcomes=((1,), (0,1)), probabilities=(1, 0)),\n",
    "            2: Case(((1,), (0,1)), (0.5, 0.5)),\n",
    "            3: Case(((1,), (0,1), (0,0,1)),(0.45, 0.3, 0.25))\n",
    "        }\n",
    "    }\n",
    "    threshold = 0.25\n",
    "    change = \"Plurality, case 2 change: probablities = (0.5, 0.5)\"\n",
    "\n",
    "class FiftyByOneSampler_13(ElectionSamplerWithMajority):\n",
    "    cases = {\n",
    "        \"majority\": {\n",
    "            2: Case(((1,), (0,1)), (0.9, 0.1)),\n",
    "            3: Case(((1,), (0,1,), (0,0,1)), (0.8, 0.18, 0.02))\n",
    "        },\n",
    "        \"plurality\": {\n",
    "            1: Case(outcomes=((1,), (0,1)), probabilities=(1, 0)),\n",
    "            2: Case(((1,), (0,1)), (0.45, 0.55)),\n",
    "            3: Case(((1,), (0,1), (0,0,1)),(0.45, 0.3, 0.25))\n",
    "        }\n",
    "    }\n",
    "    threshold = 0.25\n",
    "    change = \"Plurality, case 2 change: probablities = (0.45, 0.55)\"\n",
    "\n",
    "class FiftyByOneSampler_14(ElectionSamplerWithMajority):\n",
    "    cases = {\n",
    "        \"majority\": {\n",
    "            2: Case(((1,), (0,1)), (0.9, 0.1)),\n",
    "            3: Case(((1,), (0,1,), (0,0,1)), (0.8, 0.18, 0.02))\n",
    "        },\n",
    "        \"plurality\": {\n",
    "            1: Case(outcomes=((1,), (0,1)), probabilities=(1, 0)),\n",
    "            2: Case(((1,), (0,1)), (0.4, 0.6)),\n",
    "            3: Case(((1,), (0,1), (0,0,1)),(0.45, 0.3, 0.25))\n",
    "        }\n",
    "    }\n",
    "    threshold = 0.25\n",
    "    change = \"Plurality, case 2 change: probablities = (0.4, 0.6)\"\n",
    "    \n",
    "class FiftyByOneSampler_15(ElectionSamplerWithMajority):\n",
    "    cases = {\n",
    "        \"majority\": {\n",
    "            2: Case(((1,), (0,1)), (0.9, 0.1)),\n",
    "            3: Case(((1,), (0,1,), (0,0,1)), (0.8, 0.18, 0.02))\n",
    "        },\n",
    "        \"plurality\": {\n",
    "            1: Case(outcomes=((1,), (0,1)), probabilities=(1, 0)),\n",
    "            2: Case(((1,), (0,1)), (0.65, 0.35)),\n",
    "            3: Case(((1,), (0,1), (0,0,1)),(0.45, 0.3, 0.25))\n",
    "        }\n",
    "    }\n",
    "    threshold = 0.25\n",
    "    change = \"Plurality, case 2 change: probablities = (0.65, 0.35)\"\n",
    "    \n",
    "class FiftyByOneSampler_16(ElectionSamplerWithMajority):\n",
    "    cases = {\n",
    "        \"majority\": {\n",
    "            2: Case(((1,), (0,1)), (0.9, 0.1)),\n",
    "            3: Case(((1,), (0,1,), (0,0,1)), (0.8, 0.18, 0.02))\n",
    "        },\n",
    "        \"plurality\": {\n",
    "            1: Case(outcomes=((1,), (0,1)), probabilities=(1, 0)),\n",
    "            2: Case(((1,), (0,1)), (0.7, 0.3)),\n",
    "            3: Case(((1,), (0,1), (0,0,1)),(0.45, 0.3, 0.25))\n",
    "        }\n",
    "    }\n",
    "    threshold = 0.25\n",
    "    change = \"Plurality, case 2 change: probablities = (0.7, 0.3)\"\n",
    "    \n",
    "# Plurality case 3 changes\n",
    "class FiftyByOneSampler_17(ElectionSamplerWithMajority):\n",
    "    cases = {\n",
    "        \"majority\": {\n",
    "            2: Case(((1,), (0,1)), (0.9, 0.1)),\n",
    "            3: Case(((1,), (0,1,), (0,0,1)), (0.8, 0.18, 0.02))\n",
    "        },\n",
    "        \"plurality\": {\n",
    "            1: Case(outcomes=((1,), (0,1)), probabilities=(1, 0)),\n",
    "            2: Case(((1,), (0,1)), (0.6, 0.4)),\n",
    "            3: Case(((1,), (0,1), (0,0,1)),(0.5, 0.3, 0.3))\n",
    "        }\n",
    "    }\n",
    "    threshold = 0.25\n",
    "    change = \"Plurality, case 3 change: probablities = (0.5, 0.3, 0.3)\"\n",
    "    \n",
    "class FiftyByOneSampler_18(ElectionSamplerWithMajority):\n",
    "    cases = {\n",
    "        \"majority\": {\n",
    "            2: Case(((1,), (0,1)), (0.9, 0.1)),\n",
    "            3: Case(((1,), (0,1,), (0,0,1)), (0.8, 0.18, 0.02))\n",
    "        },\n",
    "        \"plurality\": {\n",
    "            1: Case(outcomes=((1,), (0,1)), probabilities=(1, 0)),\n",
    "            2: Case(((1,), (0,1)), (0.6, 0.4)),\n",
    "            3: Case(((1,), (0,1), (0,0,1)),(0.55, 0.3, 0.25))\n",
    "        }\n",
    "    }\n",
    "    threshold = 0.25\n",
    "    change = \"Plurality, case 3 change: probablities = (0.55, 0.3, 0.25)\"\n",
    "\n",
    "class FiftyByOneSampler_19(ElectionSamplerWithMajority):\n",
    "    cases = {\n",
    "        \"majority\": {\n",
    "            2: Case(((1,), (0,1)), (0.9, 0.1)),\n",
    "            3: Case(((1,), (0,1,), (0,0,1)), (0.8, 0.18, 0.02))\n",
    "        },\n",
    "        \"plurality\": {\n",
    "            1: Case(outcomes=((1,), (0,1)), probabilities=(1, 0)),\n",
    "            2: Case(((1,), (0,1)), (0.6, 0.4)),\n",
    "            3: Case(((1,), (0,1), (0,0,1)),(0.4, 0.35, 0.25))\n",
    "        }\n",
    "    }\n",
    "    threshold = 0.25\n",
    "    change = \"Plurality, case 3 change: probablities = (0.4, 0.35, 0.25)\"\n",
    "\n",
    "class FiftyByOneSampler_20(ElectionSamplerWithMajority):\n",
    "    cases = {\n",
    "        \"majority\": {\n",
    "            2: Case(((1,), (0,1)), (0.9, 0.1)),\n",
    "            3: Case(((1,), (0,1,), (0,0,1)), (0.8, 0.18, 0.02))\n",
    "        },\n",
    "        \"plurality\": {\n",
    "            1: Case(outcomes=((1,), (0,1)), probabilities=(1, 0)),\n",
    "            2: Case(((1,), (0,1)), (0.6, 0.4)),\n",
    "            3: Case(((1,), (0,1), (0,0,1)),(0.45, 0.35, 0.2))\n",
    "        }\n",
    "    }\n",
    "    threshold = 0.25\n",
    "    change = \"Plurality, case 3 change: probablities = (0.45, 0.35, 0.2)\"\n",
    "    \n",
    "fivexone = [FiftyByOneSampler_1(),\n",
    "            FiftyByOneSampler_2(),\n",
    "            FiftyByOneSampler_3(),\n",
    "            FiftyByOneSampler_4(),\n",
    "            FiftyByOneSampler_5(),\n",
    "            FiftyByOneSampler_6(),\n",
    "            FiftyByOneSampler_7(),\n",
    "            FiftyByOneSampler_8(),\n",
    "            FiftyByOneSampler_9(),\n",
    "            FiftyByOneSampler_10(),\n",
    "            FiftyByOneSampler_11(),\n",
    "            FiftyByOneSampler_12(),\n",
    "            FiftyByOneSampler_13(),\n",
    "            FiftyByOneSampler_14(),\n",
    "            FiftyByOneSampler_15(),\n",
    "            FiftyByOneSampler_16(),\n",
    "            FiftyByOneSampler_17(),\n",
    "            FiftyByOneSampler_18(),\n",
    "            FiftyByOneSampler_19(),\n",
    "            FiftyByOneSampler_20()\n",
    "           ]"
   ]
  },
  {
   "cell_type": "code",
   "execution_count": 19,
   "metadata": {},
   "outputs": [],
   "source": [
    "# Control\n",
    "class TenByThreeSampler_1(ElectionSamplerWithMajority):\n",
    "    cases = {\n",
    "        \"majority\": {\n",
    "            1: Case(outcomes=((3,), (2,1)), probabilities=(0.9, 0.1)),\n",
    "            2: Case(((3,), (2,1)), (0.2, 0.8)),\n",
    "            3: Case(((3,), (2,1), (1,2), (1,1,1)), (0.1, 0.5, 0.3, 0.1)),\n",
    "            \n",
    "        },\n",
    "        \"plurality\": {\n",
    "            1: Case(((3,), (2,1)), (0.5, 0.5)),\n",
    "            2: Case(((3,), (2,1), (1,2), (1,1,1)), (0.1, 0.5, 0.3, 0.1)),\n",
    "            3: Case(((3,), (2,1), (1,2), (1,1,1)), (0.05, 0.15, 0.1, 0.7))\n",
    "        }\n",
    "    }\n",
    "    threshold = 0.25\n",
    "    change = \"No change.\"\n",
    "\n",
    "# Majority case 1 changes\n",
    "class TenByThreeSampler_2(ElectionSamplerWithMajority):\n",
    "    cases = {\n",
    "        \"majority\": {\n",
    "            1: Case(outcomes=((3,), (2,1)), probabilities=(0.8, 0.2)),\n",
    "            2: Case(((3,), (2,1)), (0.2, 0.8)),\n",
    "            3: Case(((3,), (2,1), (1,2), (1,1,1)), (0.1, 0.5, 0.3, 0.1)),\n",
    "            \n",
    "        },\n",
    "        \"plurality\": {\n",
    "            1: Case(((3,), (2,1)), (0.5, 0.5)),\n",
    "            2: Case(((3,), (2,1), (1,2), (1,1,1)), (0.1, 0.5, 0.3, 0.1)),\n",
    "            3: Case(((3,), (2,1), (1,2), (1,1,1)), (0.05, 0.15, 0.1, 0.7))\n",
    "        }\n",
    "    }\n",
    "    threshold = 0.25\n",
    "    change = \"Majority, case 1 change: probablities = (0.8, 0.2)\"\n",
    "\n",
    "class TenByThreeSampler_3(ElectionSamplerWithMajority):\n",
    "    cases = {\n",
    "        \"majority\": {\n",
    "            1: Case(outcomes=((3,), (2,1)), probabilities=(0.7, 0.3)),\n",
    "            2: Case(((3,), (2,1)), (0.2, 0.8)),\n",
    "            3: Case(((3,), (2,1), (1,2), (1,1,1)), (0.1, 0.5, 0.3, 0.1)),\n",
    "            \n",
    "        },\n",
    "        \"plurality\": {\n",
    "            1: Case(((3,), (2,1)), (0.5, 0.5)),\n",
    "            2: Case(((3,), (2,1), (1,2), (1,1,1)), (0.1, 0.5, 0.3, 0.1)),\n",
    "            3: Case(((3,), (2,1), (1,2), (1,1,1)), (0.05, 0.15, 0.1, 0.7))\n",
    "        }\n",
    "    }\n",
    "    threshold = 0.25\n",
    "    change = \"Majority, case 1 change: probablities = (0.7, 0.3)\"\n",
    "    \n",
    "class TenByThreeSampler_4(ElectionSamplerWithMajority):\n",
    "    cases = {\n",
    "        \"majority\": {\n",
    "            1: Case(outcomes=((3,), (2,1)), probabilities=(0.6, 0.4)),\n",
    "            2: Case(((3,), (2,1)), (0.2, 0.8)),\n",
    "            3: Case(((3,), (2,1), (1,2), (1,1,1)), (0.1, 0.5, 0.3, 0.1)),\n",
    "            \n",
    "        },\n",
    "        \"plurality\": {\n",
    "            1: Case(((3,), (2,1)), (0.5, 0.5)),\n",
    "            2: Case(((3,), (2,1), (1,2), (1,1,1)), (0.1, 0.5, 0.3, 0.1)),\n",
    "            3: Case(((3,), (2,1), (1,2), (1,1,1)), (0.05, 0.15, 0.1, 0.7))\n",
    "        }\n",
    "    }\n",
    "    threshold = 0.25\n",
    "    change = \"Majority, case 1 change: probablities = (0.6, 0.4)\"\n",
    "\n",
    "class TenByThreeSampler_5(ElectionSamplerWithMajority):\n",
    "    cases = {\n",
    "        \"majority\": {\n",
    "            1: Case(outcomes=((3,), (2,1)), probabilities=(0.5, 0.5)),\n",
    "            2: Case(((3,), (2,1)), (0.2, 0.8)),\n",
    "            3: Case(((3,), (2,1), (1,2), (1,1,1)), (0.1, 0.5, 0.3, 0.1)),\n",
    "            \n",
    "        },\n",
    "        \"plurality\": {\n",
    "            1: Case(((3,), (2,1)), (0.5, 0.5)),\n",
    "            2: Case(((3,), (2,1), (1,2), (1,1,1)), (0.1, 0.5, 0.3, 0.1)),\n",
    "            3: Case(((3,), (2,1), (1,2), (1,1,1)), (0.05, 0.15, 0.1, 0.7))\n",
    "        }\n",
    "    }\n",
    "    threshold = 0.25\n",
    "    change = \"Majority, case 1 change: probablities = (0.5, 0.5)\"\n",
    "    \n",
    "# Majority case 2 changes\n",
    "class TenByThreeSampler_6(ElectionSamplerWithMajority):\n",
    "    cases = {\n",
    "        \"majority\": {\n",
    "            1: Case(outcomes=((3,), (2,1)), probabilities=(0.9, 0.1)),\n",
    "            2: Case(((3,), (2,1)), (0.3, 0.7)),\n",
    "            3: Case(((3,), (2,1), (1,2), (1,1,1)), (0.1, 0.5, 0.3, 0.1)),\n",
    "            \n",
    "        },\n",
    "        \"plurality\": {\n",
    "            1: Case(((3,), (2,1)), (0.5, 0.5)),\n",
    "            2: Case(((3,), (2,1), (1,2), (1,1,1)), (0.1, 0.5, 0.3, 0.1)),\n",
    "            3: Case(((3,), (2,1), (1,2), (1,1,1)), (0.05, 0.15, 0.1, 0.7))\n",
    "        }\n",
    "    }\n",
    "    threshold = 0.25\n",
    "    change = \"Majority, case 2 change: probablities = (0.3, 0.7)\"\n",
    "\n",
    "class TenByThreeSampler_7(ElectionSamplerWithMajority):\n",
    "    cases = {\n",
    "        \"majority\": {\n",
    "            1: Case(outcomes=((3,), (2,1)), probabilities=(0.9, 0.1)),\n",
    "            2: Case(((3,), (2,1)), (0.4, 0.6)),\n",
    "            3: Case(((3,), (2,1), (1,2), (1,1,1)), (0.1, 0.5, 0.3, 0.1)),\n",
    "            \n",
    "        },\n",
    "        \"plurality\": {\n",
    "            1: Case(((3,), (2,1)), (0.5, 0.5)),\n",
    "            2: Case(((3,), (2,1), (1,2), (1,1,1)), (0.1, 0.5, 0.3, 0.1)),\n",
    "            3: Case(((3,), (2,1), (1,2), (1,1,1)), (0.05, 0.15, 0.1, 0.7))\n",
    "        }\n",
    "    }\n",
    "    threshold = 0.25\n",
    "    change = \"Majority, case 2 change: probablities = (0.4, 0.6)\"\n",
    "    \n",
    "class TenByThreeSampler_8(ElectionSamplerWithMajority):\n",
    "    cases = {\n",
    "        \"majority\": {\n",
    "            1: Case(outcomes=((3,), (2,1)), probabilities=(0.9, 0.1)),\n",
    "            2: Case(((3,), (2,1)), (0.5, 0.5)),\n",
    "            3: Case(((3,), (2,1), (1,2), (1,1,1)), (0.1, 0.5, 0.3, 0.1)),\n",
    "            \n",
    "        },\n",
    "        \"plurality\": {\n",
    "            1: Case(((3,), (2,1)), (0.5, 0.5)),\n",
    "            2: Case(((3,), (2,1), (1,2), (1,1,1)), (0.1, 0.5, 0.3, 0.1)),\n",
    "            3: Case(((3,), (2,1), (1,2), (1,1,1)), (0.05, 0.15, 0.1, 0.7))\n",
    "        }\n",
    "    }\n",
    "    threshold = 0.25\n",
    "    change = \"Majority, case 2 change: probablities = (0.5, 0.5)\"\n",
    "\n",
    "# Majority case 3 changes\n",
    "class TenByThreeSampler_9(ElectionSamplerWithMajority):\n",
    "    cases = {\n",
    "        \"majority\": {\n",
    "            1: Case(outcomes=((3,), (2,1)), probabilities=(0.9, 0.1)),\n",
    "            2: Case(((3,), (2,1)), (0.2, 0.8)),\n",
    "            3: Case(((3,), (2,1), (1,2), (1,1,1)), (0.2, 0.4, 0.3, 0.1)),\n",
    "            \n",
    "        },\n",
    "        \"plurality\": {\n",
    "            1: Case(((3,), (2,1)), (0.5, 0.5)),\n",
    "            2: Case(((3,), (2,1), (1,2), (1,1,1)), (0.1, 0.5, 0.3, 0.1)),\n",
    "            3: Case(((3,), (2,1), (1,2), (1,1,1)), (0.05, 0.15, 0.1, 0.7))\n",
    "        }\n",
    "    }\n",
    "    threshold = 0.25\n",
    "    change = \"Majority, case 3 change: probablities = (0.2, 0.4, 0.3, 0.1)\"\n",
    "    \n",
    "class TenByThreeSampler_10(ElectionSamplerWithMajority):\n",
    "    cases = {\n",
    "        \"majority\": {\n",
    "            1: Case(outcomes=((3,), (2,1)), probabilities=(0.9, 0.1)),\n",
    "            2: Case(((3,), (2,1)), (0.2, 0.8)),\n",
    "            3: Case(((3,), (2,1), (1,2), (1,1,1)), (0.2, 0.5, 0.2, 0.1)),\n",
    "            \n",
    "        },\n",
    "        \"plurality\": {\n",
    "            1: Case(((3,), (2,1)), (0.5, 0.5)),\n",
    "            2: Case(((3,), (2,1), (1,2), (1,1,1)), (0.1, 0.5, 0.3, 0.1)),\n",
    "            3: Case(((3,), (2,1), (1,2), (1,1,1)), (0.05, 0.15, 0.1, 0.7))\n",
    "        }\n",
    "    }\n",
    "    threshold = 0.25\n",
    "    change = \"Majority, case 3 change: probablities = (0.2, 0.5, 0.2, 0.1)\"\n",
    "\n",
    "class TenByThreeSampler_11(ElectionSamplerWithMajority):\n",
    "    cases = {\n",
    "        \"majority\": {\n",
    "            1: Case(outcomes=((3,), (2,1)), probabilities=(0.9, 0.1)),\n",
    "            2: Case(((3,), (2,1)), (0.2, 0.8)),\n",
    "            3: Case(((3,), (2,1), (1,2), (1,1,1)), (0.1, 0.4, 0.3, 0.2)),\n",
    "            \n",
    "        },\n",
    "        \"plurality\": {\n",
    "            1: Case(((3,), (2,1)), (0.5, 0.5)),\n",
    "            2: Case(((3,), (2,1), (1,2), (1,1,1)), (0.1, 0.5, 0.3, 0.1)),\n",
    "            3: Case(((3,), (2,1), (1,2), (1,1,1)), (0.05, 0.15, 0.1, 0.7))\n",
    "        }\n",
    "    }\n",
    "    threshold = 0.25\n",
    "    change = \"Majority, case 3 change: probablities = (0.1, 0.4, 0.3, 0.2)\"\n",
    "    \n",
    "class TenByThreeSampler_12(ElectionSamplerWithMajority):\n",
    "    cases = {\n",
    "        \"majority\": {\n",
    "            1: Case(outcomes=((3,), (2,1)), probabilities=(0.9, 0.1)),\n",
    "            2: Case(((3,), (2,1)), (0.2, 0.8)),\n",
    "            3: Case(((3,), (2,1), (1,2), (1,1,1)), (0.2, 0.4, 0.2, 0.2)),\n",
    "            \n",
    "        },\n",
    "        \"plurality\": {\n",
    "            1: Case(((3,), (2,1)), (0.5, 0.5)),\n",
    "            2: Case(((3,), (2,1), (1,2), (1,1,1)), (0.1, 0.5, 0.3, 0.1)),\n",
    "            3: Case(((3,), (2,1), (1,2), (1,1,1)), (0.05, 0.15, 0.1, 0.7))\n",
    "        }\n",
    "    }\n",
    "    threshold = 0.25\n",
    "    change = \"Majority, case 3 change: probablities = (0.2, 0.4, 0.2, 0.2)\"\n",
    "    \n",
    "# Plurality case 1 changes\n",
    "class TenByThreeSampler_13(ElectionSamplerWithMajority):\n",
    "    cases = {\n",
    "        \"majority\": {\n",
    "            1: Case(outcomes=((3,), (2,1)), probabilities=(0.9, 0.1)),\n",
    "            2: Case(((3,), (2,1)), (0.2, 0.8)),\n",
    "            3: Case(((3,), (2,1), (1,2), (1,1,1)), (0.1, 0.5, 0.3, 0.1)),\n",
    "            \n",
    "        },\n",
    "        \"plurality\": {\n",
    "            1: Case(((3,), (2,1)), (0.6, 0.4)),\n",
    "            2: Case(((3,), (2,1), (1,2), (1,1,1)), (0.1, 0.5, 0.3, 0.1)),\n",
    "            3: Case(((3,), (2,1), (1,2), (1,1,1)), (0.05, 0.15, 0.1, 0.7))\n",
    "        }\n",
    "    }\n",
    "    threshold = 0.25\n",
    "    change = \"Plurality, case 1 change: probablities = (0.6, 0.4)\"\n",
    "    \n",
    "class TenByThreeSampler_14(ElectionSamplerWithMajority):\n",
    "    cases = {\n",
    "        \"majority\": {\n",
    "            1: Case(outcomes=((3,), (2,1)), probabilities=(0.9, 0.1)),\n",
    "            2: Case(((3,), (2,1)), (0.2, 0.8)),\n",
    "            3: Case(((3,), (2,1), (1,2), (1,1,1)), (0.1, 0.5, 0.3, 0.1)),\n",
    "            \n",
    "        },\n",
    "        \"plurality\": {\n",
    "            1: Case(((3,), (2,1)), (0.4, 0.6)),\n",
    "            2: Case(((3,), (2,1), (1,2), (1,1,1)), (0.1, 0.5, 0.3, 0.1)),\n",
    "            3: Case(((3,), (2,1), (1,2), (1,1,1)), (0.05, 0.15, 0.1, 0.7))\n",
    "        }\n",
    "    }\n",
    "    threshold = 0.25\n",
    "    change = \"Plurality, case 1 change: probablities = (0.4, 0.6)\"\n",
    "    \n",
    "class TenByThreeSampler_15(ElectionSamplerWithMajority):\n",
    "    cases = {\n",
    "        \"majority\": {\n",
    "            1: Case(outcomes=((3,), (2,1)), probabilities=(0.9, 0.1)),\n",
    "            2: Case(((3,), (2,1)), (0.2, 0.8)),\n",
    "            3: Case(((3,), (2,1), (1,2), (1,1,1)), (0.1, 0.5, 0.3, 0.1)),\n",
    "            \n",
    "        },\n",
    "        \"plurality\": {\n",
    "            1: Case(((3,), (2,1)), (0.5, 0.5)),\n",
    "            2: Case(((3,), (2,1), (1,2), (1,1,1)), (0.15, 0.5, 0.25, 0.1)),\n",
    "            3: Case(((3,), (2,1), (1,2), (1,1,1)), (0.05, 0.15, 0.1, 0.7))\n",
    "        }\n",
    "    }\n",
    "    threshold = 0.25\n",
    "    change = \"Plurality, case 2 change: probablities = (0.15, 0.5, 0.25, 0.1)\"\n",
    "    \n",
    "class TenByThreeSampler_16(ElectionSamplerWithMajority):\n",
    "    cases = {\n",
    "        \"majority\": {\n",
    "            1: Case(outcomes=((3,), (2,1)), probabilities=(0.9, 0.1)),\n",
    "            2: Case(((3,), (2,1)), (0.2, 0.8)),\n",
    "            3: Case(((3,), (2,1), (1,2), (1,1,1)), (0.1, 0.5, 0.3, 0.1)),\n",
    "            \n",
    "        },\n",
    "        \"plurality\": {\n",
    "            1: Case(((3,), (2,1)), (0.5, 0.5)),\n",
    "            2: Case(((3,), (2,1), (1,2), (1,1,1)), (0.2, 0.4, 0.2, 0.2)),\n",
    "            3: Case(((3,), (2,1), (1,2), (1,1,1)), (0.05, 0.15, 0.1, 0.7))\n",
    "        }\n",
    "    }\n",
    "    threshold = 0.25\n",
    "    change = \"Plurality, case 2 change: probablities = (0.2, 0.4, 0.2, 0.2)\"\n",
    "    \n",
    "class TenByThreeSampler_17(ElectionSamplerWithMajority):\n",
    "    cases = {\n",
    "        \"majority\": {\n",
    "            1: Case(outcomes=((3,), (2,1)), probabilities=(0.9, 0.1)),\n",
    "            2: Case(((3,), (2,1)), (0.2, 0.8)),\n",
    "            3: Case(((3,), (2,1), (1,2), (1,1,1)), (0.1, 0.5, 0.3, 0.1)),\n",
    "            \n",
    "        },\n",
    "        \"plurality\": {\n",
    "            1: Case(((3,), (2,1)), (0.5, 0.5)),\n",
    "            2: Case(((3,), (2,1), (1,2), (1,1,1)), (0.1, 0.5, 0.2, 0.2)),\n",
    "            3: Case(((3,), (2,1), (1,2), (1,1,1)), (0.05, 0.15, 0.1, 0.7))\n",
    "        }\n",
    "    }\n",
    "    threshold = 0.25\n",
    "    change = \"Plurality, case 2 change: probablities = (0.1, 0.5, 0.2, 0.2)\"\n",
    "\n",
    "# Plurality case 3 changes\n",
    "class TenByThreeSampler_18(ElectionSamplerWithMajority):\n",
    "    cases = {\n",
    "        \"majority\": {\n",
    "            1: Case(outcomes=((3,), (2,1)), probabilities=(0.9, 0.1)),\n",
    "            2: Case(((3,), (2,1)), (0.2, 0.8)),\n",
    "            3: Case(((3,), (2,1), (1,2), (1,1,1)), (0.1, 0.5, 0.3, 0.1)),\n",
    "            \n",
    "        },\n",
    "        \"plurality\": {\n",
    "            1: Case(((3,), (2,1)), (0.5, 0.5)),\n",
    "            2: Case(((3,), (2,1), (1,2), (1,1,1)), (0.1, 0.5, 0.3, 0.1)),\n",
    "            3: Case(((3,), (2,1), (1,2), (1,1,1)), (0.1, 0.15, 0.1, 0.65))\n",
    "        }\n",
    "    }\n",
    "    threshold = 0.25\n",
    "    change = \"Plurality, case 3 change: probablities = (0.1, 0.15, 0.1, 0.65)\"\n",
    "\n",
    "class TenByThreeSampler_19(ElectionSamplerWithMajority):\n",
    "    cases = {\n",
    "        \"majority\": {\n",
    "            1: Case(outcomes=((3,), (2,1)), probabilities=(0.9, 0.1)),\n",
    "            2: Case(((3,), (2,1)), (0.2, 0.8)),\n",
    "            3: Case(((3,), (2,1), (1,2), (1,1,1)), (0.1, 0.5, 0.3, 0.1)),\n",
    "            \n",
    "        },\n",
    "        \"plurality\": {\n",
    "            1: Case(((3,), (2,1)), (0.5, 0.5)),\n",
    "            2: Case(((3,), (2,1), (1,2), (1,1,1)), (0.1, 0.5, 0.3, 0.1)),\n",
    "            3: Case(((3,), (2,1), (1,2), (1,1,1)), (0.05, 0.2, 0.1, 0.65))\n",
    "        }\n",
    "    }\n",
    "    threshold = 0.25\n",
    "    change = \"Plurality, case 3 change: probablities = (0.05, 0.2, 0.1, 0.65)\"\n",
    "    \n",
    "class TenByThreeSampler_20(ElectionSamplerWithMajority):\n",
    "    cases = {\n",
    "        \"majority\": {\n",
    "            1: Case(outcomes=((3,), (2,1)), probabilities=(0.9, 0.1)),\n",
    "            2: Case(((3,), (2,1)), (0.2, 0.8)),\n",
    "            3: Case(((3,), (2,1), (1,2), (1,1,1)), (0.1, 0.5, 0.3, 0.1)),\n",
    "            \n",
    "        },\n",
    "        \"plurality\": {\n",
    "            1: Case(((3,), (2,1)), (0.5, 0.5)),\n",
    "            2: Case(((3,), (2,1), (1,2), (1,1,1)), (0.1, 0.5, 0.3, 0.1)),\n",
    "            3: Case(((3,), (2,1), (1,2), (1,1,1)), (0.05, 0.15, 0.15, 0.65))\n",
    "        }\n",
    "    }\n",
    "    threshold = 0.25\n",
    "    change = \"Plurality, case 3 change: probablities = (0.05, 0.15, 0.15, 0.65)\"\n",
    "    \n",
    "tenxthree = [TenByThreeSampler_1(),\n",
    "             TenByThreeSampler_2(),\n",
    "             TenByThreeSampler_3(),\n",
    "             TenByThreeSampler_4(),\n",
    "             TenByThreeSampler_5(),\n",
    "             TenByThreeSampler_6(),\n",
    "             TenByThreeSampler_7(),\n",
    "             TenByThreeSampler_8(),\n",
    "             TenByThreeSampler_9(),\n",
    "             TenByThreeSampler_10(),\n",
    "             TenByThreeSampler_11(),\n",
    "             TenByThreeSampler_12(),\n",
    "             TenByThreeSampler_13(),\n",
    "             TenByThreeSampler_14(),\n",
    "             TenByThreeSampler_15(),\n",
    "             TenByThreeSampler_16(),\n",
    "             TenByThreeSampler_17(),\n",
    "             TenByThreeSampler_18(),\n",
    "             TenByThreeSampler_19(),\n",
    "             TenByThreeSampler_20()\n",
    "            ]"
   ]
  },
  {
   "cell_type": "code",
   "execution_count": 20,
   "metadata": {},
   "outputs": [],
   "source": [
    "def load_data(filename):\n",
    "    df = pandas.read_csv(filename)\n",
    "    data = pandas.DataFrame(\n",
    "        {\n",
    "            \"step\": df[\"step\"],\n",
    "            \"ward\": df[\"ward\"],\n",
    "            \"White\": df[\"NH_WHITE\"] / df[\"TOTPOP\"],\n",
    "            \"Black\": df[\"NH_BLACK\"] / df[\"TOTPOP\"],\n",
    "            \"Hispanic\": df[\"HISP\"] / df[\"TOTPOP\"],\n",
    "            \"Asian\": df[\"NH_ASIAN\"] / df[\"TOTPOP\"],\n",
    "        }\n",
    "    )\n",
    "    return data"
   ]
  },
  {
   "cell_type": "markdown",
   "metadata": {},
   "source": [
    "## Generating the projections"
   ]
  },
  {
   "cell_type": "code",
   "execution_count": 21,
   "metadata": {},
   "outputs": [],
   "source": [
    "def random_sample(data, size, sampler):\n",
    "    # Print the sample specification changes\n",
    "    print(sampler.change)\n",
    "    \n",
    "    all_plans = {step: data.loc[indices] for step, indices in data.groupby(\"step\").groups.items()}\n",
    "    groups = [\"White\", \"Black\", \"Hispanic\", \"Asian\"]\n",
    "    plan_indices = data[\"step\"].unique()\n",
    "    \n",
    "    for plan_index in tqdm(numpy.random.choice(plan_indices, size=size)):\n",
    "        wards = all_plans[plan_index]\n",
    "        yield wards[groups].apply(sampler.sample, axis=1).sum()"
   ]
  },
  {
   "cell_type": "code",
   "execution_count": 22,
   "metadata": {},
   "outputs": [],
   "source": [
    "groups = [\"Asian\", \"Black\", \"Hispanic\", \"White\"]"
   ]
  },
  {
   "cell_type": "code",
   "execution_count": 23,
   "metadata": {},
   "outputs": [],
   "source": [
    "# Load in the data\n",
    "prec50 = load_data(\"../ensembles/prec50/results.csv\")\n",
    "prec10 = load_data(\"../ensembles/prec10/results.csv\")\n",
    "ca10 = load_data(\"../ensembles/ca10/results.csv\")"
   ]
  },
  {
   "cell_type": "markdown",
   "metadata": {},
   "source": [
    "## Generate projections for every sample specification"
   ]
  },
  {
   "cell_type": "code",
   "execution_count": 24,
   "metadata": {},
   "outputs": [],
   "source": [
    "num_samples = 100"
   ]
  },
  {
   "cell_type": "code",
   "execution_count": 26,
   "metadata": {},
   "outputs": [
    {
     "name": "stdout",
     "output_type": "stream",
     "text": [
      "FiftyByOne sensitivity analysis\n",
      "No change.\n"
     ]
    },
    {
     "name": "stderr",
     "output_type": "stream",
     "text": [
      "100%|███████████████████████████████████████████████████████████████████████████████████████████████████████████████████████| 100/100 [00:07<00:00, 14.85it/s]\n"
     ]
    },
    {
     "data": {
      "image/png": "[encoded data removed]",
      "text/plain": [
       "<Figure size 864x720 with 4 Axes>"
      ]
     },
     "metadata": {
      "needs_background": "light"
     },
     "output_type": "display_data"
    },
    {
     "name": "stdout",
     "output_type": "stream",
     "text": [
      "Asian        0.39\n",
      "Black       15.66\n",
      "Hispanic    14.08\n",
      "White       19.87\n",
      "dtype: float64\n",
      "Majority, case 1 change: probabilities = (0.8, 0.2)\n"
     ]
    },
    {
     "name": "stderr",
     "output_type": "stream",
     "text": [
      "100%|███████████████████████████████████████████████████████████████████████████████████████████████████████████████████████| 100/100 [00:07<00:00, 13.67it/s]\n"
     ]
    },
    {
     "data": {
      "image/png": "[encoded data removed]",
      "text/plain": [
       "<Figure size 864x720 with 4 Axes>"
      ]
     },
     "metadata": {
      "needs_background": "light"
     },
     "output_type": "display_data"
    },
    {
     "name": "stdout",
     "output_type": "stream",
     "text": [
      "Asian        0.42\n",
      "Black       15.67\n",
      "Hispanic    13.83\n",
      "White       20.08\n",
      "dtype: float64\n",
      "Majority, case 1 change: probabilities = (0.7, 0.3)\n"
     ]
    },
    {
     "name": "stderr",
     "output_type": "stream",
     "text": [
      "100%|███████████████████████████████████████████████████████████████████████████████████████████████████████████████████████| 100/100 [00:07<00:00, 13.79it/s]\n"
     ]
    },
    {
     "data": {
      "image/png": "[encoded data removed]",
      "text/plain": [
       "<Figure size 864x720 with 4 Axes>"
      ]
     },
     "metadata": {
      "needs_background": "light"
     },
     "output_type": "display_data"
    },
    {
     "name": "stdout",
     "output_type": "stream",
     "text": [
      "Asian        0.36\n",
      "Black       15.84\n",
      "Hispanic    14.22\n",
      "White       19.58\n",
      "dtype: float64\n",
      "Majority, case 1 change: probabilities = (0.6, 0.4)\n"
     ]
    },
    {
     "name": "stderr",
     "output_type": "stream",
     "text": [
      "100%|███████████████████████████████████████████████████████████████████████████████████████████████████████████████████████| 100/100 [00:07<00:00, 13.60it/s]\n"
     ]
    },
    {
     "data": {
      "image/png": "[encoded data removed]",
      "text/plain": [
       "<Figure size 864x720 with 4 Axes>"
      ]
     },
     "metadata": {
      "needs_background": "light"
     },
     "output_type": "display_data"
    },
    {
     "name": "stdout",
     "output_type": "stream",
     "text": [
      "Asian        0.39\n",
      "Black       15.72\n",
      "Hispanic    14.26\n",
      "White       19.63\n",
      "dtype: float64\n",
      "Majority, case 2 change: probablities = (0.8, 0.16, 0.04)\n"
     ]
    },
    {
     "name": "stderr",
     "output_type": "stream",
     "text": [
      "100%|███████████████████████████████████████████████████████████████████████████████████████████████████████████████████████| 100/100 [00:07<00:00, 14.03it/s]\n"
     ]
    },
    {
     "data": {
      "image/png": "[encoded data removed]",
      "text/plain": [
       "<Figure size 864x720 with 4 Axes>"
      ]
     },
     "metadata": {
      "needs_background": "light"
     },
     "output_type": "display_data"
    },
    {
     "name": "stdout",
     "output_type": "stream",
     "text": [
      "Asian        0.51\n",
      "Black       15.52\n",
      "Hispanic    14.09\n",
      "White       19.88\n",
      "dtype: float64\n",
      "Majority, case 2 change: probablities = (0.8, 0.14, 0.06)\n"
     ]
    },
    {
     "name": "stderr",
     "output_type": "stream",
     "text": [
      "100%|███████████████████████████████████████████████████████████████████████████████████████████████████████████████████████| 100/100 [00:07<00:00, 12.46it/s]\n"
     ]
    },
    {
     "data": {
      "image/png": "[encoded data removed]",
      "text/plain": [
       "<Figure size 864x720 with 4 Axes>"
      ]
     },
     "metadata": {
      "needs_background": "light"
     },
     "output_type": "display_data"
    },
    {
     "name": "stdout",
     "output_type": "stream",
     "text": [
      "Asian        0.43\n",
      "Black       15.52\n",
      "Hispanic    14.18\n",
      "White       19.87\n",
      "dtype: float64\n",
      "Majority, case 2 change: probablities = (0.75, 0.2, 0.05)\n"
     ]
    },
    {
     "name": "stderr",
     "output_type": "stream",
     "text": [
      "100%|███████████████████████████████████████████████████████████████████████████████████████████████████████████████████████| 100/100 [00:07<00:00, 14.34it/s]\n"
     ]
    },
    {
     "data": {
      "image/png": "[encoded data removed]",
      "text/plain": [
       "<Figure size 864x720 with 4 Axes>"
      ]
     },
     "metadata": {
      "needs_background": "light"
     },
     "output_type": "display_data"
    },
    {
     "name": "stdout",
     "output_type": "stream",
     "text": [
      "Asian        0.43\n",
      "Black       15.75\n",
      "Hispanic    13.92\n",
      "White       19.90\n",
      "dtype: float64\n",
      "Majority, case 2 change: probablities = (0.7, 0.2, 0.1)\n"
     ]
    },
    {
     "name": "stderr",
     "output_type": "stream",
     "text": [
      "100%|███████████████████████████████████████████████████████████████████████████████████████████████████████████████████████| 100/100 [00:07<00:00, 13.84it/s]\n"
     ]
    },
    {
     "data": {
      "image/png": "[encoded data removed]",
      "text/plain": [
       "<Figure size 864x720 with 4 Axes>"
      ]
     },
     "metadata": {
      "needs_background": "light"
     },
     "output_type": "display_data"
    },
    {
     "name": "stdout",
     "output_type": "stream",
     "text": [
      "Asian        0.35\n",
      "Black       15.76\n",
      "Hispanic    14.04\n",
      "White       19.85\n",
      "dtype: float64\n",
      "Plurality, case 1 change: probablities = (0.9, 0.1)\n"
     ]
    },
    {
     "name": "stderr",
     "output_type": "stream",
     "text": [
      "100%|███████████████████████████████████████████████████████████████████████████████████████████████████████████████████████| 100/100 [00:07<00:00, 13.73it/s]\n"
     ]
    },
    {
     "data": {
      "image/png": "[encoded data removed]",
      "text/plain": [
       "<Figure size 864x720 with 4 Axes>"
      ]
     },
     "metadata": {
      "needs_background": "light"
     },
     "output_type": "display_data"
    },
    {
     "name": "stdout",
     "output_type": "stream",
     "text": [
      "Asian        0.75\n",
      "Black       15.00\n",
      "Hispanic    15.23\n",
      "White       19.02\n",
      "dtype: float64\n",
      "Plurality, case 1 change: probablities = (0.8, 0.2)\n"
     ]
    },
    {
     "name": "stderr",
     "output_type": "stream",
     "text": [
      "100%|███████████████████████████████████████████████████████████████████████████████████████████████████████████████████████| 100/100 [00:07<00:00, 14.75it/s]\n"
     ]
    },
    {
     "data": {
      "image/png": "[encoded data removed]",
      "text/plain": [
       "<Figure size 864x720 with 4 Axes>"
      ]
     },
     "metadata": {
      "needs_background": "light"
     },
     "output_type": "display_data"
    },
    {
     "name": "stdout",
     "output_type": "stream",
     "text": [
      "Asian        1.13\n",
      "Black       14.62\n",
      "Hispanic    15.65\n",
      "White       18.60\n",
      "dtype: float64\n",
      "Plurality, case 2 change: probablities = (0.55, 0.45)\n"
     ]
    },
    {
     "name": "stderr",
     "output_type": "stream",
     "text": [
      "100%|███████████████████████████████████████████████████████████████████████████████████████████████████████████████████████| 100/100 [00:08<00:00, 11.79it/s]\n"
     ]
    },
    {
     "data": {
      "image/png": "[encoded data removed]",
      "text/plain": [
       "<Figure size 864x720 with 4 Axes>"
      ]
     },
     "metadata": {
      "needs_background": "light"
     },
     "output_type": "display_data"
    },
    {
     "name": "stdout",
     "output_type": "stream",
     "text": [
      "Asian        0.47\n",
      "Black       15.71\n",
      "Hispanic    14.18\n",
      "White       19.64\n",
      "dtype: float64\n",
      "Plurality, case 2 change: probablities = (0.5, 0.5)\n"
     ]
    },
    {
     "name": "stderr",
     "output_type": "stream",
     "text": [
      "100%|███████████████████████████████████████████████████████████████████████████████████████████████████████████████████████| 100/100 [00:06<00:00, 14.93it/s]\n"
     ]
    },
    {
     "data": {
      "image/png": "[encoded data removed]",
      "text/plain": [
       "<Figure size 864x720 with 4 Axes>"
      ]
     },
     "metadata": {
      "needs_background": "light"
     },
     "output_type": "display_data"
    },
    {
     "name": "stdout",
     "output_type": "stream",
     "text": [
      "Asian        0.41\n",
      "Black       15.76\n",
      "Hispanic    14.15\n",
      "White       19.68\n",
      "dtype: float64\n",
      "Plurality, case 2 change: probablities = (0.45, 0.55)\n"
     ]
    },
    {
     "name": "stderr",
     "output_type": "stream",
     "text": [
      "100%|███████████████████████████████████████████████████████████████████████████████████████████████████████████████████████| 100/100 [00:07<00:00, 13.84it/s]\n"
     ]
    },
    {
     "data": {
      "image/png": "[encoded data removed]",
      "text/plain": [
       "<Figure size 864x720 with 4 Axes>"
      ]
     },
     "metadata": {
      "needs_background": "light"
     },
     "output_type": "display_data"
    },
    {
     "name": "stdout",
     "output_type": "stream",
     "text": [
      "Asian        0.50\n",
      "Black       15.72\n",
      "Hispanic    14.27\n",
      "White       19.51\n",
      "dtype: float64\n",
      "Plurality, case 2 change: probablities = (0.4, 0.6)\n"
     ]
    },
    {
     "name": "stderr",
     "output_type": "stream",
     "text": [
      "100%|███████████████████████████████████████████████████████████████████████████████████████████████████████████████████████| 100/100 [00:07<00:00, 11.87it/s]\n"
     ]
    },
    {
     "data": {
      "image/png": "[encoded data removed]",
      "text/plain": [
       "<Figure size 864x720 with 4 Axes>"
      ]
     },
     "metadata": {
      "needs_background": "light"
     },
     "output_type": "display_data"
    },
    {
     "name": "stdout",
     "output_type": "stream",
     "text": [
      "Asian        0.57\n",
      "Black       15.46\n",
      "Hispanic    14.13\n",
      "White       19.84\n",
      "dtype: float64\n",
      "Plurality, case 2 change: probablities = (0.65, 0.35)\n"
     ]
    },
    {
     "name": "stderr",
     "output_type": "stream",
     "text": [
      "100%|███████████████████████████████████████████████████████████████████████████████████████████████████████████████████████| 100/100 [00:07<00:00, 13.36it/s]\n"
     ]
    },
    {
     "data": {
      "image/png": "[encoded data removed]",
      "text/plain": [
       "<Figure size 864x720 with 4 Axes>"
      ]
     },
     "metadata": {
      "needs_background": "light"
     },
     "output_type": "display_data"
    },
    {
     "name": "stdout",
     "output_type": "stream",
     "text": [
      "Asian        0.38\n",
      "Black       15.60\n",
      "Hispanic    14.07\n",
      "White       19.95\n",
      "dtype: float64\n",
      "Plurality, case 2 change: probablities = (0.7, 0.3)\n"
     ]
    },
    {
     "name": "stderr",
     "output_type": "stream",
     "text": [
      "100%|███████████████████████████████████████████████████████████████████████████████████████████████████████████████████████| 100/100 [00:07<00:00, 14.12it/s]\n"
     ]
    },
    {
     "data": {
      "image/png": "[encoded data removed]",
      "text/plain": [
       "<Figure size 864x720 with 4 Axes>"
      ]
     },
     "metadata": {
      "needs_background": "light"
     },
     "output_type": "display_data"
    },
    {
     "name": "stdout",
     "output_type": "stream",
     "text": [
      "Asian        0.43\n",
      "Black       15.47\n",
      "Hispanic    14.24\n",
      "White       19.86\n",
      "dtype: float64\n",
      "Plurality, case 3 change: probablities = (0.5, 0.3, 0.3)\n"
     ]
    },
    {
     "name": "stderr",
     "output_type": "stream",
     "text": [
      "  0%|                                                                                                                                 | 0/100 [00:00<?, ?it/s]\n"
     ]
    },
    {
     "ename": "ValueError",
     "evalue": "('probabilities do not sum to 1', 'occurred at index 2992207')",
     "output_type": "error",
     "traceback": [
      "\u001b[1;31m---------------------------------------------------------------------------\u001b[0m",
      "\u001b[1;31mValueError\u001b[0m                                Traceback (most recent call last)",
      "\u001b[1;32m<ipython-input-26-0a2222716298>\u001b[0m in \u001b[0;36m<module>\u001b[1;34m\u001b[0m\n\u001b[0;32m      4\u001b[0m \u001b[1;32mfor\u001b[0m \u001b[0msampler\u001b[0m \u001b[1;32min\u001b[0m \u001b[0mfivexone\u001b[0m\u001b[1;33m:\u001b[0m\u001b[1;33m\u001b[0m\u001b[1;33m\u001b[0m\u001b[0m\n\u001b[0;32m      5\u001b[0m     \u001b[1;31m# Sample\u001b[0m\u001b[1;33m\u001b[0m\u001b[1;33m\u001b[0m\u001b[1;33m\u001b[0m\u001b[0m\n\u001b[1;32m----> 6\u001b[1;33m     \u001b[0moutcomes\u001b[0m \u001b[1;33m=\u001b[0m \u001b[0mpandas\u001b[0m\u001b[1;33m.\u001b[0m\u001b[0mDataFrame\u001b[0m\u001b[1;33m.\u001b[0m\u001b[0mfrom_records\u001b[0m\u001b[1;33m(\u001b[0m\u001b[0mrandom_sample\u001b[0m\u001b[1;33m(\u001b[0m\u001b[0mdata\u001b[0m\u001b[1;33m,\u001b[0m \u001b[0mnum_samples\u001b[0m\u001b[1;33m,\u001b[0m \u001b[0msampler\u001b[0m\u001b[1;33m)\u001b[0m\u001b[1;33m)\u001b[0m\u001b[1;33m\u001b[0m\u001b[1;33m\u001b[0m\u001b[0m\n\u001b[0m\u001b[0;32m      7\u001b[0m     \u001b[0moutcomes\u001b[0m\u001b[1;33m.\u001b[0m\u001b[0mgroupby\u001b[0m\u001b[1;33m(\u001b[0m\u001b[0mgroups\u001b[0m\u001b[1;33m)\u001b[0m\u001b[1;33m.\u001b[0m\u001b[0msize\u001b[0m\u001b[1;33m(\u001b[0m\u001b[1;33m)\u001b[0m\u001b[1;33m\u001b[0m\u001b[1;33m\u001b[0m\u001b[0m\n\u001b[0;32m      8\u001b[0m     \u001b[1;31m# Plot the results\u001b[0m\u001b[1;33m\u001b[0m\u001b[1;33m\u001b[0m\u001b[1;33m\u001b[0m\u001b[0m\n",
      "\u001b[1;32m~\\Miniconda3\\envs\\max\\lib\\site-packages\\pandas\\core\\frame.py\u001b[0m in \u001b[0;36mfrom_records\u001b[1;34m(cls, data, index, exclude, columns, coerce_float, nrows)\u001b[0m\n\u001b[0;32m   1468\u001b[0m \u001b[1;33m\u001b[0m\u001b[0m\n\u001b[0;32m   1469\u001b[0m             \u001b[1;32mtry\u001b[0m\u001b[1;33m:\u001b[0m\u001b[1;33m\u001b[0m\u001b[1;33m\u001b[0m\u001b[0m\n\u001b[1;32m-> 1470\u001b[1;33m                 \u001b[0mfirst_row\u001b[0m \u001b[1;33m=\u001b[0m \u001b[0mnext\u001b[0m\u001b[1;33m(\u001b[0m\u001b[0mdata\u001b[0m\u001b[1;33m)\u001b[0m\u001b[1;33m\u001b[0m\u001b[1;33m\u001b[0m\u001b[0m\n\u001b[0m\u001b[0;32m   1471\u001b[0m             \u001b[1;32mexcept\u001b[0m \u001b[0mStopIteration\u001b[0m\u001b[1;33m:\u001b[0m\u001b[1;33m\u001b[0m\u001b[1;33m\u001b[0m\u001b[0m\n\u001b[0;32m   1472\u001b[0m                 \u001b[1;32mreturn\u001b[0m \u001b[0mcls\u001b[0m\u001b[1;33m(\u001b[0m\u001b[0mindex\u001b[0m\u001b[1;33m=\u001b[0m\u001b[0mindex\u001b[0m\u001b[1;33m,\u001b[0m \u001b[0mcolumns\u001b[0m\u001b[1;33m=\u001b[0m\u001b[0mcolumns\u001b[0m\u001b[1;33m)\u001b[0m\u001b[1;33m\u001b[0m\u001b[1;33m\u001b[0m\u001b[0m\n",
      "\u001b[1;32m<ipython-input-21-a8c52afd5776>\u001b[0m in \u001b[0;36mrandom_sample\u001b[1;34m(data, size, sampler)\u001b[0m\n\u001b[0;32m      9\u001b[0m     \u001b[1;32mfor\u001b[0m \u001b[0mplan_index\u001b[0m \u001b[1;32min\u001b[0m \u001b[0mtqdm\u001b[0m\u001b[1;33m(\u001b[0m\u001b[0mnumpy\u001b[0m\u001b[1;33m.\u001b[0m\u001b[0mrandom\u001b[0m\u001b[1;33m.\u001b[0m\u001b[0mchoice\u001b[0m\u001b[1;33m(\u001b[0m\u001b[0mplan_indices\u001b[0m\u001b[1;33m,\u001b[0m \u001b[0msize\u001b[0m\u001b[1;33m=\u001b[0m\u001b[0msize\u001b[0m\u001b[1;33m)\u001b[0m\u001b[1;33m)\u001b[0m\u001b[1;33m:\u001b[0m\u001b[1;33m\u001b[0m\u001b[1;33m\u001b[0m\u001b[0m\n\u001b[0;32m     10\u001b[0m         \u001b[0mwards\u001b[0m \u001b[1;33m=\u001b[0m \u001b[0mall_plans\u001b[0m\u001b[1;33m[\u001b[0m\u001b[0mplan_index\u001b[0m\u001b[1;33m]\u001b[0m\u001b[1;33m\u001b[0m\u001b[1;33m\u001b[0m\u001b[0m\n\u001b[1;32m---> 11\u001b[1;33m         \u001b[1;32myield\u001b[0m \u001b[0mwards\u001b[0m\u001b[1;33m[\u001b[0m\u001b[0mgroups\u001b[0m\u001b[1;33m]\u001b[0m\u001b[1;33m.\u001b[0m\u001b[0mapply\u001b[0m\u001b[1;33m(\u001b[0m\u001b[0msampler\u001b[0m\u001b[1;33m.\u001b[0m\u001b[0msample\u001b[0m\u001b[1;33m,\u001b[0m \u001b[0maxis\u001b[0m\u001b[1;33m=\u001b[0m\u001b[1;36m1\u001b[0m\u001b[1;33m)\u001b[0m\u001b[1;33m.\u001b[0m\u001b[0msum\u001b[0m\u001b[1;33m(\u001b[0m\u001b[1;33m)\u001b[0m\u001b[1;33m\u001b[0m\u001b[1;33m\u001b[0m\u001b[0m\n\u001b[0m",
      "\u001b[1;32m~\\Miniconda3\\envs\\max\\lib\\site-packages\\pandas\\core\\frame.py\u001b[0m in \u001b[0;36mapply\u001b[1;34m(self, func, axis, broadcast, raw, reduce, result_type, args, **kwds)\u001b[0m\n\u001b[0;32m   6485\u001b[0m                          \u001b[0margs\u001b[0m\u001b[1;33m=\u001b[0m\u001b[0margs\u001b[0m\u001b[1;33m,\u001b[0m\u001b[1;33m\u001b[0m\u001b[1;33m\u001b[0m\u001b[0m\n\u001b[0;32m   6486\u001b[0m                          kwds=kwds)\n\u001b[1;32m-> 6487\u001b[1;33m         \u001b[1;32mreturn\u001b[0m \u001b[0mop\u001b[0m\u001b[1;33m.\u001b[0m\u001b[0mget_result\u001b[0m\u001b[1;33m(\u001b[0m\u001b[1;33m)\u001b[0m\u001b[1;33m\u001b[0m\u001b[1;33m\u001b[0m\u001b[0m\n\u001b[0m\u001b[0;32m   6488\u001b[0m \u001b[1;33m\u001b[0m\u001b[0m\n\u001b[0;32m   6489\u001b[0m     \u001b[1;32mdef\u001b[0m \u001b[0mapplymap\u001b[0m\u001b[1;33m(\u001b[0m\u001b[0mself\u001b[0m\u001b[1;33m,\u001b[0m \u001b[0mfunc\u001b[0m\u001b[1;33m)\u001b[0m\u001b[1;33m:\u001b[0m\u001b[1;33m\u001b[0m\u001b[1;33m\u001b[0m\u001b[0m\n",
      "\u001b[1;32m~\\Miniconda3\\envs\\max\\lib\\site-packages\\pandas\\core\\apply.py\u001b[0m in \u001b[0;36mget_result\u001b[1;34m(self)\u001b[0m\n\u001b[0;32m    149\u001b[0m             \u001b[1;32mreturn\u001b[0m \u001b[0mself\u001b[0m\u001b[1;33m.\u001b[0m\u001b[0mapply_raw\u001b[0m\u001b[1;33m(\u001b[0m\u001b[1;33m)\u001b[0m\u001b[1;33m\u001b[0m\u001b[1;33m\u001b[0m\u001b[0m\n\u001b[0;32m    150\u001b[0m \u001b[1;33m\u001b[0m\u001b[0m\n\u001b[1;32m--> 151\u001b[1;33m         \u001b[1;32mreturn\u001b[0m \u001b[0mself\u001b[0m\u001b[1;33m.\u001b[0m\u001b[0mapply_standard\u001b[0m\u001b[1;33m(\u001b[0m\u001b[1;33m)\u001b[0m\u001b[1;33m\u001b[0m\u001b[1;33m\u001b[0m\u001b[0m\n\u001b[0m\u001b[0;32m    152\u001b[0m \u001b[1;33m\u001b[0m\u001b[0m\n\u001b[0;32m    153\u001b[0m     \u001b[1;32mdef\u001b[0m \u001b[0mapply_empty_result\u001b[0m\u001b[1;33m(\u001b[0m\u001b[0mself\u001b[0m\u001b[1;33m)\u001b[0m\u001b[1;33m:\u001b[0m\u001b[1;33m\u001b[0m\u001b[1;33m\u001b[0m\u001b[0m\n",
      "\u001b[1;32m~\\Miniconda3\\envs\\max\\lib\\site-packages\\pandas\\core\\apply.py\u001b[0m in \u001b[0;36mapply_standard\u001b[1;34m(self)\u001b[0m\n\u001b[0;32m    255\u001b[0m \u001b[1;33m\u001b[0m\u001b[0m\n\u001b[0;32m    256\u001b[0m         \u001b[1;31m# compute the result using the series generator\u001b[0m\u001b[1;33m\u001b[0m\u001b[1;33m\u001b[0m\u001b[1;33m\u001b[0m\u001b[0m\n\u001b[1;32m--> 257\u001b[1;33m         \u001b[0mself\u001b[0m\u001b[1;33m.\u001b[0m\u001b[0mapply_series_generator\u001b[0m\u001b[1;33m(\u001b[0m\u001b[1;33m)\u001b[0m\u001b[1;33m\u001b[0m\u001b[1;33m\u001b[0m\u001b[0m\n\u001b[0m\u001b[0;32m    258\u001b[0m \u001b[1;33m\u001b[0m\u001b[0m\n\u001b[0;32m    259\u001b[0m         \u001b[1;31m# wrap results\u001b[0m\u001b[1;33m\u001b[0m\u001b[1;33m\u001b[0m\u001b[1;33m\u001b[0m\u001b[0m\n",
      "\u001b[1;32m~\\Miniconda3\\envs\\max\\lib\\site-packages\\pandas\\core\\apply.py\u001b[0m in \u001b[0;36mapply_series_generator\u001b[1;34m(self)\u001b[0m\n\u001b[0;32m    284\u001b[0m             \u001b[1;32mtry\u001b[0m\u001b[1;33m:\u001b[0m\u001b[1;33m\u001b[0m\u001b[1;33m\u001b[0m\u001b[0m\n\u001b[0;32m    285\u001b[0m                 \u001b[1;32mfor\u001b[0m \u001b[0mi\u001b[0m\u001b[1;33m,\u001b[0m \u001b[0mv\u001b[0m \u001b[1;32min\u001b[0m \u001b[0menumerate\u001b[0m\u001b[1;33m(\u001b[0m\u001b[0mseries_gen\u001b[0m\u001b[1;33m)\u001b[0m\u001b[1;33m:\u001b[0m\u001b[1;33m\u001b[0m\u001b[1;33m\u001b[0m\u001b[0m\n\u001b[1;32m--> 286\u001b[1;33m                     \u001b[0mresults\u001b[0m\u001b[1;33m[\u001b[0m\u001b[0mi\u001b[0m\u001b[1;33m]\u001b[0m \u001b[1;33m=\u001b[0m \u001b[0mself\u001b[0m\u001b[1;33m.\u001b[0m\u001b[0mf\u001b[0m\u001b[1;33m(\u001b[0m\u001b[0mv\u001b[0m\u001b[1;33m)\u001b[0m\u001b[1;33m\u001b[0m\u001b[1;33m\u001b[0m\u001b[0m\n\u001b[0m\u001b[0;32m    287\u001b[0m                     \u001b[0mkeys\u001b[0m\u001b[1;33m.\u001b[0m\u001b[0mappend\u001b[0m\u001b[1;33m(\u001b[0m\u001b[0mv\u001b[0m\u001b[1;33m.\u001b[0m\u001b[0mname\u001b[0m\u001b[1;33m)\u001b[0m\u001b[1;33m\u001b[0m\u001b[1;33m\u001b[0m\u001b[0m\n\u001b[0;32m    288\u001b[0m             \u001b[1;32mexcept\u001b[0m \u001b[0mException\u001b[0m \u001b[1;32mas\u001b[0m \u001b[0me\u001b[0m\u001b[1;33m:\u001b[0m\u001b[1;33m\u001b[0m\u001b[1;33m\u001b[0m\u001b[0m\n",
      "\u001b[1;32m<ipython-input-15-e312b2afe484>\u001b[0m in \u001b[0;36msample\u001b[1;34m(self, groups)\u001b[0m\n\u001b[0;32m     13\u001b[0m         \"\"\"\n\u001b[0;32m     14\u001b[0m         \u001b[0moutcomes\u001b[0m\u001b[1;33m,\u001b[0m \u001b[0mprobabilities\u001b[0m \u001b[1;33m=\u001b[0m \u001b[0mself\u001b[0m\u001b[1;33m.\u001b[0m\u001b[0mdecide_case\u001b[0m\u001b[1;33m(\u001b[0m\u001b[0mgroups\u001b[0m\u001b[1;33m)\u001b[0m\u001b[1;33m\u001b[0m\u001b[1;33m\u001b[0m\u001b[0m\n\u001b[1;32m---> 15\u001b[1;33m         \u001b[0moutcome\u001b[0m \u001b[1;33m=\u001b[0m \u001b[0mnumpy\u001b[0m\u001b[1;33m.\u001b[0m\u001b[0mrandom\u001b[0m\u001b[1;33m.\u001b[0m\u001b[0mchoice\u001b[0m\u001b[1;33m(\u001b[0m\u001b[0ma\u001b[0m\u001b[1;33m=\u001b[0m\u001b[0moutcomes\u001b[0m\u001b[1;33m,\u001b[0m \u001b[0mp\u001b[0m\u001b[1;33m=\u001b[0m\u001b[0mprobabilities\u001b[0m\u001b[1;33m)\u001b[0m\u001b[1;33m\u001b[0m\u001b[1;33m\u001b[0m\u001b[0m\n\u001b[0m\u001b[0;32m     16\u001b[0m         \u001b[0mgroups_from_highest_to_lowest\u001b[0m \u001b[1;33m=\u001b[0m \u001b[0mgroups\u001b[0m\u001b[1;33m.\u001b[0m\u001b[0msort_values\u001b[0m\u001b[1;33m(\u001b[0m\u001b[0mascending\u001b[0m\u001b[1;33m=\u001b[0m\u001b[1;32mFalse\u001b[0m\u001b[1;33m)\u001b[0m\u001b[1;33m.\u001b[0m\u001b[0mkeys\u001b[0m\u001b[1;33m(\u001b[0m\u001b[1;33m)\u001b[0m\u001b[1;33m\u001b[0m\u001b[1;33m\u001b[0m\u001b[0m\n\u001b[0;32m     17\u001b[0m         full_outcome = itertools.chain(\n",
      "\u001b[1;32mmtrand.pyx\u001b[0m in \u001b[0;36mmtrand.RandomState.choice\u001b[1;34m()\u001b[0m\n",
      "\u001b[1;31mValueError\u001b[0m: ('probabilities do not sum to 1', 'occurred at index 2992207')"
     ]
    }
   ],
   "source": [
    "# FiftyByOne\n",
    "print(\"FiftyByOne sensitivity analysis\")\n",
    "data = prec50\n",
    "for sampler in fivexone:\n",
    "    # Sample\n",
    "    outcomes = pandas.DataFrame.from_records(random_sample(data, num_samples, sampler))\n",
    "    outcomes.groupby(groups).size()\n",
    "    # Plot the results\n",
    "    outcomes[groups].hist(sharex=True, grid=False, figsize=(12,10), color=\"#0099cd\", bins=list(range(30)))\n",
    "    # Compute statistics for the projected outcomes\n",
    "    plt.show()\n",
    "    print(outcomes.mean())"
   ]
  },
  {
   "cell_type": "code",
   "execution_count": null,
   "metadata": {},
   "outputs": [],
   "source": [
    "# TenByFive\n",
    "print(\"TenByFive sensitivity analysis\")\n",
    "data = prec10\n",
    "for sampler in tenxfive:\n",
    "    # Sample\n",
    "    outcomes = pandas.DataFrame.from_records(random_sample(data, num_samples, sampler))\n",
    "    outcomes.groupby(groups).size()\n",
    "    # Plot the results\n",
    "    outcomes[groups].hist(sharex=True, grid=False, figsize=(12,10), color=\"#0099cd\", bins=list(range(30)))\n",
    "    # Compute statistics for the projected outcomes\n",
    "    outcomes.mean()"
   ]
  },
  {
   "cell_type": "code",
   "execution_count": null,
   "metadata": {},
   "outputs": [],
   "source": [
    "# TenByThree\n",
    "print(\"TenByThree sensitivity analysis\")\n",
    "data = prec10\n",
    "for sampler in tenxthree:\n",
    "    # Sample\n",
    "    outcomes = pandas.DataFrame.from_records(random_sample(data, num_samples, sampler))\n",
    "    outcomes.groupby(groups).size()\n",
    "    # Plot the results\n",
    "    outcomes[groups].hist(sharex=True, grid=False, figsize=(12,10), color=\"#0099cd\", bins=list(range(30)))\n",
    "    # Compute statistics for the projected outcomes\n",
    "    outcomes.mean()"
   ]
  },
  {
   "cell_type": "code",
   "execution_count": null,
   "metadata": {},
   "outputs": [],
   "source": []
  }
 ],
 "metadata": {
  "kernelspec": {
   "display_name": "Python 3",
   "language": "python",
   "name": "python3"
  },
  "language_info": {
   "codemirror_mode": {
    "name": "ipython",
    "version": 3
   },
   "file_extension": ".py",
   "mimetype": "text/x-python",
   "name": "python",
   "nbconvert_exporter": "python",
   "pygments_lexer": "ipython3",
   "version": "3.7.1"
  }
 },
 "nbformat": 4,
 "nbformat_minor": 2
}
