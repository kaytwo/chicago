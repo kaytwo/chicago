{
 "cells": [
  {
   "cell_type": "code",
   "execution_count": 22,
   "metadata": {},
   "outputs": [],
   "source": [
    "import pandas\n",
    "from tqdm import tqdm\n",
    "from itertools import permutations\n",
    "from collections import defaultdict"
   ]
  },
  {
   "cell_type": "markdown",
   "metadata": {},
   "source": [
    "# Frequencies"
   ]
  },
  {
   "cell_type": "code",
   "execution_count": 35,
   "metadata": {},
   "outputs": [],
   "source": [
    "tqdm.pandas()"
   ]
  },
  {
   "cell_type": "code",
   "execution_count": 2,
   "metadata": {},
   "outputs": [],
   "source": [
    "df = pandas.read_csv(\"../ensembles/prec50/results.csv\")"
   ]
  },
  {
   "cell_type": "code",
   "execution_count": 51,
   "metadata": {},
   "outputs": [],
   "source": [
    "groups = [\"HISP\", \"NH_WHITE\", \"NH_BLACK\", \"NH_ASIAN\"]\n",
    "abbreviations = [\"H\", \"W\", \"B\", \"A\"]"
   ]
  },
  {
   "cell_type": "code",
   "execution_count": 32,
   "metadata": {},
   "outputs": [],
   "source": [
    "def number_over_threshold(data, threshold):\n",
    "    return data[groups].apply(lambda x: (x / data[\"TOTPOP\"]) > threshold).sum(axis=1)"
   ]
  },
  {
   "cell_type": "code",
   "execution_count": 69,
   "metadata": {},
   "outputs": [],
   "source": [
    "mapping = {\n",
    "    \"\".join(str(ranking.index(initial) + 1) for initial in abbreviations): \"\".join(ranking)\n",
    "    for ranking in permutations(abbreviations)\n",
    "}"
   ]
  },
  {
   "cell_type": "code",
   "execution_count": 74,
   "metadata": {},
   "outputs": [],
   "source": [
    "def encoded_rankings(df):\n",
    "    ranked = df[groups].rank(ascending=False, axis=1)\n",
    "    encoded = ranked.astype(int).astype(str).sum(axis=1).astype(int).astype(str)\n",
    "    return encoded.map(mapping)"
   ]
  },
  {
   "cell_type": "code",
   "execution_count": 124,
   "metadata": {},
   "outputs": [],
   "source": [
    "all_orderings = list(mapping.values())"
   ]
  },
  {
   "cell_type": "code",
   "execution_count": 123,
   "metadata": {},
   "outputs": [],
   "source": [
    "def case(df, m_or_p, number_over, threshold):\n",
    "    return df[(df[\"maj_or_plur\"] == m_or_p) & (df[threshold] == number_over)].groupby(\"ranking\").size()"
   ]
  },
  {
   "cell_type": "code",
   "execution_count": 125,
   "metadata": {},
   "outputs": [],
   "source": [
    "def frequencies(df, threshold):\n",
    "    return pandas.DataFrame({\n",
    "        (str(i) + m_or_p): case(df, m_or_p, i, threshold) for i, m_or_p in [(1, \"M\"),(1, \"P\"),(2, \"M\"),(2, \"P\"),(3, \"M\"),(3, \"P\")]\n",
    "    }).reindex(all_orderings).fillna(0)"
   ]
  },
  {
   "cell_type": "code",
   "execution_count": 136,
   "metadata": {},
   "outputs": [],
   "source": [
    "def process(df, ensemble_name):\n",
    "    df[\"over_quarter\"] = number_over_threshold(df, 0.25)\n",
    "    df[\"over_sixth\"] = number_over_threshold(df, 1/6)\n",
    "    df[\"majority\"] = number_over_threshold(df, 0.5) > 0\n",
    "    df[\"maj_or_plur\"] = df[\"majority\"].map({True: \"M\", False: \"P\"})\n",
    "    df[\"ranking\"] = encoded_rankings(df)\n",
    "    df[\"ranking\"].value_counts().to_csv(f\"./frequencies/{ensemble_name}/orderings.csv\", header=True)\n",
    "    frequencies(df, \"over_sixth\").to_csv(f\"./frequencies/{ensemble_name}/over_sixth.csv\", header=True)\n",
    "    frequencies(df, \"over_quarter\").to_csv(f\"./frequencies/{ensemble_name}/over_quarter.csv\", header=True)"
   ]
  },
  {
   "cell_type": "code",
   "execution_count": 137,
   "metadata": {},
   "outputs": [],
   "source": [
    "df_10xM = pandas.read_csv(\"../ensembles/prec10/results.csv\")"
   ]
  },
  {
   "cell_type": "code",
   "execution_count": 138,
   "metadata": {},
   "outputs": [],
   "source": [
    "df_10xM_CA = pandas.read_csv(\"../ensembles/ca10/results.csv\")"
   ]
  },
  {
   "cell_type": "code",
   "execution_count": 139,
   "metadata": {},
   "outputs": [],
   "source": [
    "process(df_10xM, \"10xM\")\n"
   ]
  },
  {
   "cell_type": "code",
   "execution_count": 140,
   "metadata": {},
   "outputs": [],
   "source": [
    "process(df_10xM_CA, \"10xM_CA\")"
   ]
  },
  {
   "cell_type": "markdown",
   "metadata": {},
   "source": [
    "## How often is each group 1st, 2nd, 3rd or 4th?"
   ]
  },
  {
   "cell_type": "code",
   "execution_count": 87,
   "metadata": {},
   "outputs": [
    {
     "name": "stdout",
     "output_type": "stream",
     "text": [
      "\n",
      "H\n",
      "Position 1: 0.2834178\n",
      "Position 2: 0.4706782\n",
      "Position 3: 0.1432792\n",
      "Position 4: 0.1026248\n",
      "\n",
      "W\n",
      "Position 1: 0.404036\n",
      "Position 2: 0.2480614\n",
      "Position 3: 0.3471596\n",
      "Position 4: 0.000743\n",
      "\n",
      "B\n",
      "Position 1: 0.3064708\n",
      "Position 2: 0.208257\n",
      "Position 3: 0.2073134\n",
      "Position 4: 0.2779588\n",
      "\n",
      "A\n",
      "Position 1: 0.0060754\n",
      "Position 2: 0.0730034\n",
      "Position 3: 0.3022478\n",
      "Position 4: 0.6186734\n"
     ]
    }
   ],
   "source": [
    "for group in [\"H\", \"W\", \"B\", \"A\"]:\n",
    "    print(\"\\n{}\".format(group))\n",
    "    for position in [0,1,2,3]:\n",
    "        pct = sum(\n",
    "            row.number\n",
    "            for row in orderings.itertuples()\n",
    "            if row.ordering[position] == group\n",
    "        ) / orderings.number.sum()\n",
    "        print(\"Position {}: {}\".format(position+1, pct))"
   ]
  },
  {
   "cell_type": "markdown",
   "metadata": {},
   "source": [
    "---\n",
    "\n",
    "# Expectations\n"
   ]
  },
  {
   "cell_type": "code",
   "execution_count": 3,
   "metadata": {},
   "outputs": [],
   "source": [
    "orderings = pandas.read_csv(\"./frequencies/50x1/orderings.csv\")"
   ]
  },
  {
   "cell_type": "code",
   "execution_count": 5,
   "metadata": {},
   "outputs": [],
   "source": [
    "orderings.columns = [\"ordering\", \"number\"]"
   ]
  },
  {
   "cell_type": "code",
   "execution_count": 34,
   "metadata": {},
   "outputs": [],
   "source": [
    "def first_wins(ordering):\n",
    "    yield (ordering[0], 1)"
   ]
  },
  {
   "cell_type": "code",
   "execution_count": 35,
   "metadata": {},
   "outputs": [],
   "source": [
    "def top_two_equal(ordering):\n",
    "    first, second, *rest = ordering\n",
    "    yield (first, 1/2)\n",
    "    yield (second, 1/2)"
   ]
  },
  {
   "cell_type": "code",
   "execution_count": 36,
   "metadata": {},
   "outputs": [],
   "source": [
    "def top_three_equal(ordering):\n",
    "    first, second, third, *rest = ordering\n",
    "    yield (first, 1/3)\n",
    "    yield (second, 1/3)\n",
    "    yield (third, 1/3)"
   ]
  },
  {
   "cell_type": "code",
   "execution_count": 48,
   "metadata": {},
   "outputs": [],
   "source": [
    "def expected_wins(orderings, compute_wins=first_wins):\n",
    "    total_wins = {'A': 0, 'H': 0, 'B': 0, 'W': 0}\n",
    "\n",
    "    for row in orderings.itertuples():\n",
    "        for group, wins in compute_wins(row.ordering):\n",
    "            total_wins[group] += wins * row.number\n",
    "    \n",
    "    total_wards = orderings.number.sum()\n",
    "    return {group: wins/total_wards for group, wins in total_wins.items()}"
   ]
  },
  {
   "cell_type": "code",
   "execution_count": 73,
   "metadata": {},
   "outputs": [],
   "source": [
    "results = pandas.DataFrame({\n",
    "    \"top_one_wins\": expected_wins(orderings, compute_wins=first_wins),\n",
    "    \"top_two_equal\": expected_wins(orderings, compute_wins=top_two_equal),\n",
    "    \"top_three_equal\": expected_wins(orderings, compute_wins=top_three_equal),\n",
    "})"
   ]
  },
  {
   "cell_type": "code",
   "execution_count": 44,
   "metadata": {},
   "outputs": [],
   "source": [
    "# 10x5 cases\n",
    "\n",
    "def top_one_wins_five(ordering):\n",
    "    yield (ordering[0], 5)\n",
    "\n",
    "def three_two(ordering):\n",
    "    yield (ordering[0], 3)\n",
    "    yield (ordering[1], 2)\n",
    "\n",
    "def two_two_one(ordering):\n",
    "    yield (ordering[0], 2)\n",
    "    yield (ordering[1], 2)\n",
    "    yield (ordering[2], 1)\n",
    "    \n",
    "# 10x3 cases\n",
    "\n",
    "def top_one_wins_three(ordering):\n",
    "    yield (ordering[0], 3)\n",
    "\n",
    "def two_one(ordering):\n",
    "    yield (ordering[0], 2)\n",
    "    yield (ordering[1], 1)\n",
    "\n",
    "def one_one_one(ordering):\n",
    "    yield (ordering[0], 1)\n",
    "    yield (ordering[1], 1)\n",
    "    yield (ordering[2], 1)\n",
    "    "
   ]
  },
  {
   "cell_type": "code",
   "execution_count": 58,
   "metadata": {},
   "outputs": [],
   "source": [
    "orderings10xM = pandas.read_csv(\"./frequencies/10xM/orderings.csv\")\n",
    "orderings10xM.columns = ['ordering', 'number']\n",
    "results10x5 = pandas.DataFrame({\n",
    "    \"top_one_wins_five\": expected_wins(orderings10xM, compute_wins=top_one_wins_five),\n",
    "    \"three_two\": expected_wins(orderings10xM, compute_wins=three_two),\n",
    "    \"two_two_one\": expected_wins(orderings10xM, compute_wins=two_two_one)\n",
    "})\n"
   ]
  },
  {
   "cell_type": "code",
   "execution_count": 59,
   "metadata": {},
   "outputs": [],
   "source": [
    "results10x3 = pandas.DataFrame({\n",
    "    \"top_one_wins_three\": expected_wins(orderings10xM, compute_wins=top_one_wins_three),\n",
    "    \"two_one\": expected_wins(orderings10xM, compute_wins=two_one),\n",
    "    \"one_one_one\": expected_wins(orderings10xM, compute_wins=one_one_one)\n",
    "})\n"
   ]
  },
  {
   "cell_type": "code",
   "execution_count": 74,
   "metadata": {},
   "outputs": [],
   "source": [
    "results *= 50\n",
    "# results10x3 *= 10\n",
    "# results10x5 *= 10"
   ]
  },
  {
   "cell_type": "code",
   "execution_count": 76,
   "metadata": {},
   "outputs": [],
   "source": [
    "results10x3.to_csv(\"./expectations_10x3.csv\")\n",
    "results10x5.to_csv(\"./expectations_10x5.csv\")\n",
    "results.to_csv(\"./expectations_50x1.csv\")"
   ]
  },
  {
   "cell_type": "code",
   "execution_count": 75,
   "metadata": {},
   "outputs": [
    {
     "data": {
      "text/html": [
       "<div>\n",
       "<style scoped>\n",
       "    .dataframe tbody tr th:only-of-type {\n",
       "        vertical-align: middle;\n",
       "    }\n",
       "\n",
       "    .dataframe tbody tr th {\n",
       "        vertical-align: top;\n",
       "    }\n",
       "\n",
       "    .dataframe thead th {\n",
       "        text-align: right;\n",
       "    }\n",
       "</style>\n",
       "<table border=\"1\" class=\"dataframe\">\n",
       "  <thead>\n",
       "    <tr style=\"text-align: right;\">\n",
       "      <th></th>\n",
       "      <th>top_one_wins</th>\n",
       "      <th>top_two_equal</th>\n",
       "      <th>top_three_equal</th>\n",
       "    </tr>\n",
       "  </thead>\n",
       "  <tbody>\n",
       "    <tr>\n",
       "      <th>A</th>\n",
       "      <td>0.30377</td>\n",
       "      <td>1.976970</td>\n",
       "      <td>6.355443</td>\n",
       "    </tr>\n",
       "    <tr>\n",
       "      <th>B</th>\n",
       "      <td>15.32354</td>\n",
       "      <td>12.868195</td>\n",
       "      <td>12.034020</td>\n",
       "    </tr>\n",
       "    <tr>\n",
       "      <th>H</th>\n",
       "      <td>14.17089</td>\n",
       "      <td>18.852400</td>\n",
       "      <td>14.956253</td>\n",
       "    </tr>\n",
       "    <tr>\n",
       "      <th>W</th>\n",
       "      <td>20.20180</td>\n",
       "      <td>16.302435</td>\n",
       "      <td>16.654283</td>\n",
       "    </tr>\n",
       "  </tbody>\n",
       "</table>\n",
       "</div>"
      ],
      "text/plain": [
       "   top_one_wins  top_two_equal  top_three_equal\n",
       "A       0.30377       1.976970         6.355443\n",
       "B      15.32354      12.868195        12.034020\n",
       "H      14.17089      18.852400        14.956253\n",
       "W      20.20180      16.302435        16.654283"
      ]
     },
     "execution_count": 75,
     "metadata": {},
     "output_type": "execute_result"
    }
   ],
   "source": [
    "results"
   ]
  },
  {
   "cell_type": "code",
   "execution_count": 70,
   "metadata": {},
   "outputs": [
    {
     "data": {
      "text/html": [
       "<div>\n",
       "<style scoped>\n",
       "    .dataframe tbody tr th:only-of-type {\n",
       "        vertical-align: middle;\n",
       "    }\n",
       "\n",
       "    .dataframe tbody tr th {\n",
       "        vertical-align: top;\n",
       "    }\n",
       "\n",
       "    .dataframe thead th {\n",
       "        text-align: right;\n",
       "    }\n",
       "</style>\n",
       "<table border=\"1\" class=\"dataframe\">\n",
       "  <thead>\n",
       "    <tr style=\"text-align: right;\">\n",
       "      <th></th>\n",
       "      <th>top_one_wins_five</th>\n",
       "      <th>three_two</th>\n",
       "      <th>two_two_one</th>\n",
       "    </tr>\n",
       "  </thead>\n",
       "  <tbody>\n",
       "    <tr>\n",
       "      <th>A</th>\n",
       "      <td>0.00000</td>\n",
       "      <td>0.42184</td>\n",
       "      <td>2.64339</td>\n",
       "    </tr>\n",
       "    <tr>\n",
       "      <th>B</th>\n",
       "      <td>17.58505</td>\n",
       "      <td>14.04715</td>\n",
       "      <td>13.30003</td>\n",
       "    </tr>\n",
       "    <tr>\n",
       "      <th>H</th>\n",
       "      <td>12.96330</td>\n",
       "      <td>18.36052</td>\n",
       "      <td>17.42098</td>\n",
       "    </tr>\n",
       "    <tr>\n",
       "      <th>W</th>\n",
       "      <td>19.45165</td>\n",
       "      <td>17.17049</td>\n",
       "      <td>16.63560</td>\n",
       "    </tr>\n",
       "  </tbody>\n",
       "</table>\n",
       "</div>"
      ],
      "text/plain": [
       "   top_one_wins_five  three_two  two_two_one\n",
       "A            0.00000    0.42184      2.64339\n",
       "B           17.58505   14.04715     13.30003\n",
       "H           12.96330   18.36052     17.42098\n",
       "W           19.45165   17.17049     16.63560"
      ]
     },
     "execution_count": 70,
     "metadata": {},
     "output_type": "execute_result"
    }
   ],
   "source": [
    "results10x5"
   ]
  },
  {
   "cell_type": "code",
   "execution_count": 71,
   "metadata": {},
   "outputs": [
    {
     "data": {
      "text/html": [
       "<div>\n",
       "<style scoped>\n",
       "    .dataframe tbody tr th:only-of-type {\n",
       "        vertical-align: middle;\n",
       "    }\n",
       "\n",
       "    .dataframe tbody tr th {\n",
       "        vertical-align: top;\n",
       "    }\n",
       "\n",
       "    .dataframe thead th {\n",
       "        text-align: right;\n",
       "    }\n",
       "</style>\n",
       "<table border=\"1\" class=\"dataframe\">\n",
       "  <thead>\n",
       "    <tr style=\"text-align: right;\">\n",
       "      <th></th>\n",
       "      <th>top_one_wins_three</th>\n",
       "      <th>two_one</th>\n",
       "      <th>one_one_one</th>\n",
       "    </tr>\n",
       "  </thead>\n",
       "  <tbody>\n",
       "    <tr>\n",
       "      <th>A</th>\n",
       "      <td>0.00000</td>\n",
       "      <td>0.21092</td>\n",
       "      <td>2.43247</td>\n",
       "    </tr>\n",
       "    <tr>\n",
       "      <th>B</th>\n",
       "      <td>10.55103</td>\n",
       "      <td>8.78208</td>\n",
       "      <td>8.03496</td>\n",
       "    </tr>\n",
       "    <tr>\n",
       "      <th>H</th>\n",
       "      <td>7.77798</td>\n",
       "      <td>10.47659</td>\n",
       "      <td>9.53705</td>\n",
       "    </tr>\n",
       "    <tr>\n",
       "      <th>W</th>\n",
       "      <td>11.67099</td>\n",
       "      <td>10.53041</td>\n",
       "      <td>9.99552</td>\n",
       "    </tr>\n",
       "  </tbody>\n",
       "</table>\n",
       "</div>"
      ],
      "text/plain": [
       "   top_one_wins_three   two_one  one_one_one\n",
       "A             0.00000   0.21092      2.43247\n",
       "B            10.55103   8.78208      8.03496\n",
       "H             7.77798  10.47659      9.53705\n",
       "W            11.67099  10.53041      9.99552"
      ]
     },
     "execution_count": 71,
     "metadata": {},
     "output_type": "execute_result"
    }
   ],
   "source": [
    "results10x3"
   ]
  }
 ],
 "metadata": {
  "kernelspec": {
   "display_name": "Python 3",
   "language": "python",
   "name": "python3"
  },
  "language_info": {
   "codemirror_mode": {
    "name": "ipython",
    "version": 3
   },
   "file_extension": ".py",
   "mimetype": "text/x-python",
   "name": "python",
   "nbconvert_exporter": "python",
   "pygments_lexer": "ipython3",
   "version": "3.7.1"
  }
 },
 "nbformat": 4,
 "nbformat_minor": 2
}
