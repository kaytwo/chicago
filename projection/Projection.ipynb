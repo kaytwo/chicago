{
 "cells": [
  {
   "cell_type": "markdown",
   "metadata": {},
   "source": [
    "# Projected outcomes\n",
    "\n",
    "This notebook contains the code we used to project outcomes under the 10x5 and 50x1 districting plans using demographic threshold inference model (see section 5 of the report)."
   ]
  },
  {
   "cell_type": "code",
   "execution_count": 14,
   "metadata": {},
   "outputs": [],
   "source": [
    "import pandas\n",
    "import numpy\n",
    "from collections import namedtuple\n",
    "from tqdm import tqdm\n",
    "import matplotlib.pyplot as plt\n",
    "import random"
   ]
  },
  {
   "cell_type": "markdown",
   "metadata": {},
   "source": [
    "## Projection model code"
   ]
  },
  {
   "cell_type": "code",
   "execution_count": 2,
   "metadata": {},
   "outputs": [],
   "source": [
    "class ElectionSampler:\n",
    "    cases = None\n",
    "    threshold = None\n",
    "    \n",
    "    def decide_case(self, groups: pandas.Series):\n",
    "        number_over_threshold = (groups > self.threshold).sum()\n",
    "        return self.cases[number_over_threshold]\n",
    "\n",
    "    def sample(self, groups: pandas.Series):\n",
    "        \"\"\"\n",
    "        :param pandas.Series groups: a single row of a DataFrame with the percentages\n",
    "            of each racial group in a ward.\n",
    "        \"\"\"\n",
    "        outcomes, probabilities = self.decide_case(groups)\n",
    "        outcome = random.choices(outcomes, weights=probabilities)[0]\n",
    "        groups_from_highest_to_lowest = groups.sort_values(ascending=False).keys()\n",
    "        result = zip(groups_from_highest_to_lowest, outcome)\n",
    "        return result"
   ]
  },
  {
   "cell_type": "code",
   "execution_count": 3,
   "metadata": {},
   "outputs": [],
   "source": [
    "Case = namedtuple(\"Case\", [\"outcomes\", \"probabilities\"])"
   ]
  },
  {
   "cell_type": "code",
   "execution_count": 4,
   "metadata": {},
   "outputs": [],
   "source": [
    "class TenByFiveSampler(ElectionSampler):\n",
    "    cases = {\n",
    "        1: Case(outcomes=((5,), (4,1)), probabilities=(0.5, 0.5)),\n",
    "        2: Case(((4, 1), (3, 2), (2, 3), (2, 2, 1)), (0.25, 0.6, 0.1, 0.05)),\n",
    "        3: Case(((3, 1, 1), (3, 2), (2, 3), (2, 2, 1), (2, 1, 2)), (0.2, 0.2, 0.2, 0.2, 0.2)),\n",
    "        4: Case(((3, 1, 1), (3, 2), (2, 3), (2, 2, 1), (2, 1, 2)), (0.2, 0.2, 0.2, 0.2, 0.2))\n",
    "    }\n",
    "    threshold = 1/6\n",
    "\n",
    "class FiftyByOneSampler(ElectionSampler):\n",
    "    cases = {\n",
    "        1: Case(outcomes=((1,),), probabilities=(1,)),\n",
    "        2: Case(((1,), (0, 1)), (0.9, 0.1)),\n",
    "        3: Case(((1,), (0, 1), (0,0,1)), (0.8, 0.18, 0.02))\n",
    "    }\n",
    "    threshold = 0.25"
   ]
  },
  {
   "cell_type": "code",
   "execution_count": 5,
   "metadata": {},
   "outputs": [],
   "source": [
    "def load_data(filename):\n",
    "    df = pandas.read_csv(filename)\n",
    "    data = pandas.DataFrame(\n",
    "        {\n",
    "            \"step\": df[\"step\"],\n",
    "            \"ward\": df[\"ward\"],\n",
    "            \"White\": df[\"NH_WHITE\"] / df[\"TOTPOP\"],\n",
    "            \"Black\": df[\"NH_BLACK\"] / df[\"TOTPOP\"],\n",
    "            \"Hispanic\": df[\"HISP\"] / df[\"TOTPOP\"],\n",
    "            \"Asian\": df[\"NH_ASIAN\"] / df[\"TOTPOP\"],\n",
    "        }\n",
    "    )\n",
    "    return data"
   ]
  },
  {
   "cell_type": "markdown",
   "metadata": {},
   "source": [
    "## Generating the projections"
   ]
  },
  {
   "cell_type": "code",
   "execution_count": 7,
   "metadata": {},
   "outputs": [],
   "source": [
    "data = load_data(\"../ensembles/prec50/results.csv\")\n",
    "outcomes_prec50 = pandas.DataFrame.from_records(random_sample(data, 100000, FiftyByOneSampler()))\n",
    "outcomes_prec50.to_csv(\"./projection_50x1.csv\")\n",
    "outcomes.groupby(groups).size().to_csv(\"./projection_50x1_counts.csv\", header=True)"
   ]
  },
  {
   "cell_type": "code",
   "execution_count": null,
   "metadata": {},
   "outputs": [],
   "source": [
    "data = load_data(\"../ensembles/prec10/results.csv\")\n",
    "outcomes_prec10 = pandas.DataFrame.from_records(random_sample(data, 100000, FiftyByOneSampler()))\n",
    "outcomes_prec10.to_csv(\"./projection_10x5.csv\")\n",
    "outcomes.groupby(groups).size().to_csv(\"./projection_10x5_counts.csv\", header=True)"
   ]
  },
  {
   "cell_type": "code",
   "execution_count": null,
   "metadata": {},
   "outputs": [],
   "source": [
    "data = load_data(\"../ensembles/ca10/results.csv\")\n",
    "outcomes_prec10ca = pandas.DataFrame.from_records(random_sample(data, 100000, FiftyByOneSampler()))\n",
    "outcomes_prec10ca.to_csv(\"./projection_10x5_CA.csv\")\n",
    "outcomes.groupby(groups).size().to_csv(\"./projection_10x5_CA_counts.csv\", header=True)"
   ]
  },
  {
   "cell_type": "markdown",
   "metadata": {},
   "source": [
    "## Plotting the results\n",
    "\n",
    "Here's an example plot of the projections we just made using the 50x1 ensemble."
   ]
  },
  {
   "cell_type": "code",
   "execution_count": 15,
   "metadata": {},
   "outputs": [
    {
     "data": {
      "text/plain": [
       "array([[<matplotlib.axes._subplots.AxesSubplot object at 0x000002B22D4C90B8>,\n",
       "        <matplotlib.axes._subplots.AxesSubplot object at 0x000002B22D4F07B8>],\n",
       "       [<matplotlib.axes._subplots.AxesSubplot object at 0x000002B22D834C18>,\n",
       "        <matplotlib.axes._subplots.AxesSubplot object at 0x000002B22D865080>]],\n",
       "      dtype=object)"
      ]
     },
     "execution_count": 15,
     "metadata": {},
     "output_type": "execute_result"
    },
    {
     "data": {
      "image/png": "[encoded data removed]",
      "text/plain": [
       "<Figure size 864x720 with 4 Axes>"
      ]
     },
     "metadata": {
      "needs_background": "light"
     },
     "output_type": "display_data"
    }
   ],
   "source": [
    "groups = [\"Asian\", \"Black\", \"Hispanic\", \"White\"]\n",
    "outcomes_prec50[groups].hist(sharex=True, grid=False, figsize=(12,10), color=\"#0099cd\", bins=list(range(30)))"
   ]
  },
  {
   "cell_type": "markdown",
   "metadata": {},
   "source": [
    "## Statistics\n",
    "\n",
    "We can use `pandas` to compute statistics for the projected outcomes:"
   ]
  },
  {
   "cell_type": "code",
   "execution_count": 16,
   "metadata": {},
   "outputs": [
    {
     "data": {
      "text/plain": [
       "Asian        0.44428\n",
       "Black       15.23303\n",
       "Hispanic    14.39651\n",
       "White       19.92618\n",
       "dtype: float64"
      ]
     },
     "execution_count": 16,
     "metadata": {},
     "output_type": "execute_result"
    }
   ],
   "source": [
    "outcomes_prec50.mean()"
   ]
  }
 ],
 "metadata": {
  "kernelspec": {
   "display_name": "Python 3",
   "language": "python",
   "name": "python3"
  },
  "language_info": {
   "codemirror_mode": {
    "name": "ipython",
    "version": 3
   },
   "file_extension": ".py",
   "mimetype": "text/x-python",
   "name": "python",
   "nbconvert_exporter": "python",
   "pygments_lexer": "ipython3",
   "version": "3.7.2"
  }
 },
 "nbformat": 4,
 "nbformat_minor": 2
}
