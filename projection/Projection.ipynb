{
 "cells": [
  {
   "cell_type": "markdown",
   "metadata": {},
   "source": [
    "# Projected outcomes\n",
    "\n",
    "This notebook contains the code we used to project outcomes under the 10x5 and 50x1 districting plans using demographic threshold inference model (see section 5 of the report)."
   ]
  },
  {
   "cell_type": "code",
   "execution_count": 1,
   "metadata": {},
   "outputs": [],
   "source": [
    "import pandas\n",
    "import numpy\n",
    "from collections import namedtuple\n",
    "from tqdm import tqdm\n",
    "import matplotlib.pyplot as plt\n",
    "import random\n",
    "import itertools"
   ]
  },
  {
   "cell_type": "markdown",
   "metadata": {},
   "source": [
    "## Projection model code"
   ]
  },
  {
   "cell_type": "code",
   "execution_count": 2,
   "metadata": {},
   "outputs": [],
   "source": [
    "class ElectionSampler:\n",
    "    cases = None\n",
    "    threshold = None\n",
    "    \n",
    "    def decide_case(self, groups: pandas.Series):\n",
    "        number_over_threshold = (groups > self.threshold).sum()\n",
    "        return self.cases[number_over_threshold]\n",
    "\n",
    "    def sample(self, groups: pandas.Series):\n",
    "        \"\"\"\n",
    "        :param pandas.Series groups: a single row of a DataFrame with the percentages\n",
    "            of each racial group in a ward.\n",
    "        \"\"\"\n",
    "        outcomes, probabilities = self.decide_case(groups)\n",
    "        outcome = numpy.random.choice(a=outcomes, p=probabilities)\n",
    "        groups_from_highest_to_lowest = groups.sort_values(ascending=False).keys()\n",
    "        full_outcome = itertools.chain(\n",
    "            outcome,\n",
    "            itertools.repeat(0, len(groups_from_highest_to_lowest) - len(outcome))\n",
    "        )\n",
    "        return pandas.Series(full_outcome, index=groups_from_highest_to_lowest)\n",
    "\n",
    "class ElectionSamplerWithMajority(ElectionSampler):\n",
    "    def decide_case(self, groups: pandas.Series):\n",
    "        number_over_threshold = (groups > self.threshold).sum()\n",
    "        any_majority = (groups > 0.5).any()\n",
    "        if any_majority and number_over_threshold in self.cases[\"majority\"]:\n",
    "            return self.cases[\"majority\"][number_over_threshold]\n",
    "        else:\n",
    "            return self.cases[\"plurality\"][number_over_threshold]\n"
   ]
  },
  {
   "cell_type": "code",
   "execution_count": 3,
   "metadata": {},
   "outputs": [],
   "source": [
    "Case = namedtuple(\"Case\", [\"outcomes\", \"probabilities\"])"
   ]
  },
  {
   "cell_type": "code",
   "execution_count": 4,
   "metadata": {},
   "outputs": [],
   "source": [
    "class TenByFiveSampler(ElectionSampler):\n",
    "    cases = {\n",
    "        1: Case(outcomes=((5,), (4,1)), probabilities=(0.5, 0.5)),\n",
    "        2: Case(((4, 1), (3, 2), (2, 3), (2, 2, 1), (3, 1, 1)), (0.25, 0.55, 0.1, 0.05, 0.05)),\n",
    "        3: Case(((3, 1, 1), (3, 2), (2, 3), (2, 2, 1), (2, 1, 2)), (0.25, 0.25, 0.15, 0.2, 0.15)),\n",
    "        4: Case(((3, 1, 1), (3, 2), (2, 3), (2, 2, 1), (2, 1, 2)), (0.2, 0.2, 0.2, 0.2, 0.2))\n",
    "    }\n",
    "    threshold = 1/6\n",
    "\n",
    "class FiftyByOneSampler(ElectionSamplerWithMajority):\n",
    "    cases = {\n",
    "        \"majority\": {\n",
    "            2: Case(((1,), (0,1)), (0.9, 0.1)),\n",
    "            3: Case(((1,), (0,1,), (0,0,1)), (0.8, 0.18, 0.02))\n",
    "        },\n",
    "        \"plurality\": {\n",
    "            1: Case(outcomes=((1,), (0,1)), probabilities=(1, 0)),\n",
    "            2: Case(((1,), (0,1)), (0.6, 0.4)),\n",
    "            3: Case(((1,), (0,1), (0,0,1)),(0.45, 0.3, 0.25))\n",
    "        }\n",
    "    }\n",
    "    threshold = 0.25\n",
    "    \n",
    "class TenByThreeSampler(ElectionSamplerWithMajority):\n",
    "    cases = {\n",
    "        \"majority\": {\n",
    "            1: Case(outcomes=((3,), (2,1)), probabilities=(0.9, 0.1)),\n",
    "            2: Case(((3,), (2,1)), (0.2, 0.8)),\n",
    "            3: Case(((3,), (2,1), (1,2), (1,1,1)), (0.1, 0.5, 0.3, 0.1)),\n",
    "            \n",
    "        },\n",
    "        \"plurality\": {\n",
    "            1: Case(((3,), (2,1)), (0.5, 0.5)),\n",
    "            2: Case(((3,), (2,1), (1,2), (1,1,1)), (0.1, 0.5, 0.3, 0.1)),\n",
    "            3: Case(((3,), (2,1), (1,2), (1,1,1)), (0.05, 0.15, 0.1, 0.7))\n",
    "        }\n",
    "    }\n",
    "    threshold = 0.25"
   ]
  },
  {
   "cell_type": "code",
   "execution_count": 5,
   "metadata": {},
   "outputs": [],
   "source": [
    "def load_data(filename):\n",
    "    df = pandas.read_csv(filename)\n",
    "    data = pandas.DataFrame(\n",
    "        {\n",
    "            \"step\": df[\"step\"],\n",
    "            \"ward\": df[\"ward\"],\n",
    "            \"White\": df[\"NH_WHITE\"] / df[\"TOTPOP\"],\n",
    "            \"Black\": df[\"NH_BLACK\"] / df[\"TOTPOP\"],\n",
    "            \"Hispanic\": df[\"HISP\"] / df[\"TOTPOP\"],\n",
    "            \"Asian\": df[\"NH_ASIAN\"] / df[\"TOTPOP\"],\n",
    "        }\n",
    "    )\n",
    "    return data"
   ]
  },
  {
   "cell_type": "markdown",
   "metadata": {},
   "source": [
    "## Generating the projections"
   ]
  },
  {
   "cell_type": "code",
   "execution_count": 6,
   "metadata": {},
   "outputs": [],
   "source": [
    "def random_sample(data, size, sampler):\n",
    "    all_plans = {step: data.loc[indices] for step, indices in data.groupby(\"step\").groups.items()}\n",
    "    groups = [\"White\", \"Black\", \"Hispanic\", \"Asian\"]\n",
    "    plan_indices = data[\"step\"].unique()\n",
    "    \n",
    "    for plan_index in tqdm(numpy.random.choice(plan_indices, size=size)):\n",
    "        wards = all_plans[plan_index]\n",
    "        yield wards[groups].apply(sampler.sample, axis=1).sum()"
   ]
  },
  {
   "cell_type": "code",
   "execution_count": 7,
   "metadata": {},
   "outputs": [],
   "source": [
    "groups = [\"Asian\", \"Black\", \"Hispanic\", \"White\"]"
   ]
  },
  {
   "cell_type": "code",
   "execution_count": 8,
   "metadata": {},
   "outputs": [],
   "source": [
    "data = load_data(\"../ensembles/ca10/results.csv\")"
   ]
  },
  {
   "cell_type": "code",
   "execution_count": 9,
   "metadata": {},
   "outputs": [
    {
     "name": "stderr",
     "output_type": "stream",
     "text": [
      "100%|███████████████████████████████████████████████████████████████████████████████████████████████████████████████████████| 100/100 [00:01<00:00, 73.21it/s]\n"
     ]
    }
   ],
   "source": [
    "outcomes = pandas.DataFrame.from_records(random_sample(data, 100, TenByFiveSampler()))"
   ]
  },
  {
   "cell_type": "code",
   "execution_count": 12,
   "metadata": {},
   "outputs": [
    {
     "data": {
      "text/plain": [
       "Asian  Black  Hispanic  White\n",
       "0      14     14        22       1\n",
       "              16        20       1\n",
       "              17        19       1\n",
       "              18        18       1\n",
       "              19        17       2\n",
       "       15     12        23       1\n",
       "              13        22       1\n",
       "              14        21       1\n",
       "              15        20       1\n",
       "              16        19       3\n",
       "              17        18       2\n",
       "              18        17       2\n",
       "              19        16       1\n",
       "              21        14       1\n",
       "       16     14        20       3\n",
       "              15        19       2\n",
       "              16        18       4\n",
       "              17        17       2\n",
       "              18        16       2\n",
       "       17     12        21       1\n",
       "              13        20       1\n",
       "              14        19       1\n",
       "              15        18       1\n",
       "              16        17       5\n",
       "              17        16       2\n",
       "              18        15       1\n",
       "              19        14       1\n",
       "       18     12        20       1\n",
       "              14        18       4\n",
       "              15        17       2\n",
       "              16        16       5\n",
       "              17        15       5\n",
       "              18        14       3\n",
       "              19        13       1\n",
       "       19     14        17       4\n",
       "              15        16       3\n",
       "              16        15       3\n",
       "              18        13       1\n",
       "       20     12        18       2\n",
       "              13        17       1\n",
       "              16        14       1\n",
       "       21     15        14       1\n",
       "1      14     14        21       1\n",
       "              16        19       3\n",
       "       15     15        19       1\n",
       "              16        18       1\n",
       "              17        17       1\n",
       "              18        16       1\n",
       "              19        15       1\n",
       "       16     12        21       2\n",
       "              15        18       1\n",
       "       17     12        20       1\n",
       "              14        18       2\n",
       "              15        17       1\n",
       "       20     14        15       2\n",
       "dtype: int64"
      ]
     },
     "execution_count": 12,
     "metadata": {},
     "output_type": "execute_result"
    }
   ],
   "source": [
    "outcomes.groupby(groups).size()"
   ]
  },
  {
   "cell_type": "code",
   "execution_count": 11,
   "metadata": {},
   "outputs": [
    {
     "name": "stderr",
     "output_type": "stream",
     "text": [
      "100%|███████████████████████████████████████████████████████████████████████████████████████████████████████████████████| 10000/10000 [11:10<00:00, 14.89it/s]\n"
     ]
    }
   ],
   "source": [
    "data = load_data(\"../ensembles/prec50/results.csv\")\n",
    "outcomes_prec50 = pandas.DataFrame.from_records(random_sample(data, 10_000, FiftyByOneSampler()))\n",
    "outcomes_prec50.to_csv(\"./projection_50x1.csv\")\n",
    "outcomes_prec50.groupby(groups).size().to_csv(\"./projection_50x1_counts.csv\", header=True)"
   ]
  },
  {
   "cell_type": "code",
   "execution_count": 17,
   "metadata": {},
   "outputs": [
    {
     "name": "stderr",
     "output_type": "stream",
     "text": [
      "100%|███████████████████████████████████████████████████████████████████████████████████████████████████████████████████| 10000/10000 [02:20<00:00, 71.31it/s]\n"
     ]
    }
   ],
   "source": [
    "data = load_data(\"../ensembles/prec10/results.csv\")\n",
    "outcomes_prec10 = pandas.DataFrame.from_records(random_sample(data, 10_000, TenByFiveSampler()))\n",
    "outcomes_prec10.to_csv(\"./projection_10x5.csv\")\n",
    "outcomes_prec10.groupby(groups).size().to_csv(\"./projection_10x5_counts.csv\", header=True)"
   ]
  },
  {
   "cell_type": "code",
   "execution_count": 14,
   "metadata": {},
   "outputs": [
    {
     "name": "stderr",
     "output_type": "stream",
     "text": [
      "100%|███████████████████████████████████████████████████████████████████████████████████████████████████████████████████| 10000/10000 [02:46<00:00, 60.89it/s]\n"
     ]
    }
   ],
   "source": [
    "data = load_data(\"../ensembles/ca10/results.csv\")\n",
    "outcomes_ca10_by_5 = pandas.DataFrame.from_records(random_sample(data, 10_000, TenByFiveSampler()))\n",
    "outcomes_ca10_by_5.to_csv(\"./projection_10x5_CA.csv\")\n",
    "outcomes_ca10_by_5.groupby(groups).size().to_csv(\"./projection_10x5_CA_counts.csv\", header=True)"
   ]
  },
  {
   "cell_type": "code",
   "execution_count": 22,
   "metadata": {},
   "outputs": [
    {
     "name": "stderr",
     "output_type": "stream",
     "text": [
      "100%|███████████████████████████████████████████████████████████████████████████████████████████████████████████████████| 10000/10000 [03:03<00:00, 54.44it/s]\n"
     ]
    }
   ],
   "source": [
    "data = load_data(\"../ensembles/ca10/results.csv\")\n",
    "outcomes_ca10_by_3 = pandas.DataFrame.from_records(random_sample(data, 10_000, TenByThreeSampler()))\n",
    "outcomes_ca10_by_3.to_csv(\"./projection_10x3_CA.csv\")\n",
    "outcomes_ca10_by_3.groupby(groups).size().to_csv(\"./projection_10x3_CA_counts.csv\", header=True)"
   ]
  },
  {
   "cell_type": "markdown",
   "metadata": {},
   "source": [
    "## Plotting the results\n",
    "\n",
    "Here's an example plot of the projections we just made using the 50x1 ensemble."
   ]
  },
  {
   "cell_type": "code",
   "execution_count": 13,
   "metadata": {},
   "outputs": [
    {
     "data": {
      "text/plain": [
       "array([[<matplotlib.axes._subplots.AxesSubplot object at 0x000001EDAED04080>,\n",
       "        <matplotlib.axes._subplots.AxesSubplot object at 0x000001EDAECE1828>],\n",
       "       [<matplotlib.axes._subplots.AxesSubplot object at 0x000001EDAED53898>,\n",
       "        <matplotlib.axes._subplots.AxesSubplot object at 0x000001EDAEE6E5C0>]],\n",
       "      dtype=object)"
      ]
     },
     "execution_count": 13,
     "metadata": {},
     "output_type": "execute_result"
    },
    {
     "data": {
      "image/png": "[encoded data removed]",
      "text/plain": [
       "<Figure size 864x720 with 4 Axes>"
      ]
     },
     "metadata": {
      "needs_background": "light"
     },
     "output_type": "display_data"
    }
   ],
   "source": [
    "\n",
    "outcomes_prec50[groups].hist(sharex=True, grid=False, figsize=(12,10), color=\"#0099cd\", bins=list(range(30)))"
   ]
  },
  {
   "cell_type": "code",
   "execution_count": 16,
   "metadata": {},
   "outputs": [
    {
     "data": {
      "text/plain": [
       "array([[<matplotlib.axes._subplots.AxesSubplot object at 0x000001EDAE4F77B8>,\n",
       "        <matplotlib.axes._subplots.AxesSubplot object at 0x000001EDFA29F4E0>],\n",
       "       [<matplotlib.axes._subplots.AxesSubplot object at 0x000001EDFA2905F8>,\n",
       "        <matplotlib.axes._subplots.AxesSubplot object at 0x000001EDFA287710>]],\n",
       "      dtype=object)"
      ]
     },
     "execution_count": 16,
     "metadata": {},
     "output_type": "execute_result"
    },
    {
     "data": {
      "image/png": "[encoded data removed]",
      "text/plain": [
       "<Figure size 864x720 with 4 Axes>"
      ]
     },
     "metadata": {
      "needs_background": "light"
     },
     "output_type": "display_data"
    }
   ],
   "source": [
    "outcomes_prec10_by_5 = pandas.read_csv(\"./projection_10x5.csv\")\n",
    "outcomes_prec10_by_5[groups].hist(sharex=True, grid=False, figsize=(12,10), color=\"#0099cd\", bins=list(range(30)))"
   ]
  },
  {
   "cell_type": "markdown",
   "metadata": {},
   "source": [
    "## Statistics\n",
    "\n",
    "We can use `pandas` to compute statistics for the projected outcomes:"
   ]
  },
  {
   "cell_type": "code",
   "execution_count": null,
   "metadata": {},
   "outputs": [],
   "source": [
    "outcomes_prec50.mean()"
   ]
  }
 ],
 "metadata": {
  "kernelspec": {
   "display_name": "Python 3",
   "language": "python",
   "name": "python3"
  },
  "language_info": {
   "codemirror_mode": {
    "name": "ipython",
    "version": 3
   },
   "file_extension": ".py",
   "mimetype": "text/x-python",
   "name": "python",
   "nbconvert_exporter": "python",
   "pygments_lexer": "ipython3",
   "version": "3.7.1"
  }
 },
 "nbformat": 4,
 "nbformat_minor": 2
}
