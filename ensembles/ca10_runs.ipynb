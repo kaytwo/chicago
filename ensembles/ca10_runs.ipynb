{
 "cells": [
  {
   "cell_type": "markdown",
   "metadata": {},
   "source": [
    "## Chicago Chain Runs\n",
    "#### 10 Wards Out Of Community Areas\n",
    "\n",
    "This notebook performs the following chain run:\n",
    "- Out of Community Areas:\n",
    "    - 10 wards of equal population\n",
    "        - Population deviation tolerance of 5%"
   ]
  },
  {
   "cell_type": "code",
   "execution_count": 1,
   "metadata": {},
   "outputs": [],
   "source": [
    "import pandas as pd\n",
    "import matplotlib.pyplot as plt\n",
    "import sys\n",
    "from functools import partial\n",
    "import pickle\n",
    "import geopandas\n",
    "from tqdm import tqdm\n",
    "\n",
    "from gerrychain.random import random\n",
    "import gerrychain as gc\n",
    "from gerrychain.updaters import Tally, cut_edges\n",
    "from gerrychain.proposals import recom\n",
    "from gerrychain import accept\n",
    "from gerrychain.tree import bipartition_tree, predecessors, random_spanning_tree\n",
    "import json"
   ]
  },
  {
   "cell_type": "code",
   "execution_count": 2,
   "metadata": {},
   "outputs": [],
   "source": [
    "# Create the graph\n",
    "df = geopandas.read_file(\"./shapefiles/chicago_community_areas.shp\").set_index(\"area_num_1\")\n",
    "precincts = gc.Graph.from_geodataframe(df)\n",
    "precincts.add_data(df)"
   ]
  },
  {
   "cell_type": "markdown",
   "metadata": {},
   "source": [
    "## Generating a seed plan with < 5% deviation"
   ]
  },
  {
   "cell_type": "code",
   "execution_count": 3,
   "metadata": {},
   "outputs": [],
   "source": [
    "def recursive_tree_part(graph, parts, pop_col, epsilon, node_repeats=18):\n",
    "    \"\"\"Uses :func:`~gerrychain.tree_methods.bipartition_tree` recursively to partition a tree into\n",
    "    ``len(parts)`` parts of population ``pop_target`` (within ``epsilon``). Can be used to\n",
    "    generate initial seed plans or to implement ReCom-like \"merge walk\" proposals.\n",
    "    :param graph: The graph\n",
    "    :param parts: Iterable of part labels (like ``[0,1,2]`` or ``range(4)``\n",
    "    :param pop_target: Target population for each part of the partition\n",
    "    :param pop_col: Node attribute key holding population data\n",
    "    :param epsilon: How far (as a percentage of ``pop_target``) from ``pop_target`` the parts\n",
    "        of the partition can be\n",
    "    :param node_repeats: Parameter for :func:`~gerrychain.tree_methods.bipartition_tree` to use.\n",
    "    :return: New assignments for the nodes of ``graph``.\n",
    "    :rtype: dict\n",
    "    \"\"\"\n",
    "    flips = {}\n",
    "    remaining_nodes = set(graph.nodes)\n",
    "    \n",
    "    total_pop = sum(graph.nodes[node][pop_col] for node in graph)\n",
    "    remaining_pop = total_pop\n",
    "    ideal_pop = total_pop / len(parts)\n",
    "    pop_target = ideal_pop\n",
    "    initial_epsilon = epsilon\n",
    "    \n",
    "    for i, part in enumerate(parts[:-1]):\n",
    "        pop_target = remaining_pop / (len(parts) - i)\n",
    "        nodes = bipartition_tree(\n",
    "            graph.subgraph(remaining_nodes), pop_col, pop_target, epsilon, node_repeats\n",
    "        )\n",
    "\n",
    "        for node in nodes:\n",
    "            flips[node] = part\n",
    "        remaining_pop -= sum(graph.nodes[node][pop_col] for node in nodes)\n",
    "        remaining_nodes -= nodes\n",
    "\n",
    "    # All of the remaining nodes go in the last part\n",
    "    for node in remaining_nodes:\n",
    "        flips[node] = parts[-1]\n",
    "\n",
    "    return flips"
   ]
  },
  {
   "cell_type": "code",
   "execution_count": 4,
   "metadata": {},
   "outputs": [],
   "source": [
    "# Create an initial plan that does not violate population constraints\n",
    "num_partitions = 10\n",
    "pop_col = \"TOTPOP\"\n",
    "\n",
    "# This modified recursive_tree_part manages to get below 5% deviation if\n",
    "# you ask for 3%\n",
    "assignment = recursive_tree_part(\n",
    "    precincts,\n",
    "    parts=range(num_partitions),\n",
    "    pop_col=pop_col,\n",
    "    epsilon=0.03,\n",
    ")"
   ]
  },
  {
   "cell_type": "markdown",
   "metadata": {},
   "source": [
    "## Running the chain"
   ]
  },
  {
   "cell_type": "code",
   "execution_count": 5,
   "metadata": {},
   "outputs": [],
   "source": [
    "# Create an election object and updaters\n",
    "# election = gc.Election(\"M15\", [\"Emanuel_M1\", \"Wilson_M15\", \"Fioretti_M\", \"Garcia_M15\", \"Walls_M15\"])\n",
    "\n",
    "updaters = {\"population\": gc.updaters.Tally(\"TOTPOP\", alias=\"population\"), \"cut_edges\": gc.updaters.cut_edges}\n",
    "variables = [\n",
    "    \"TOTPOP\", \"HISP\", \"NH_WHITE\", \"NH_BLACK\", \"NH_ASIAN\",\n",
    "    \"VAP\", \"HVAP\", \"WVAP\", \"BVAP\", \"ASIANVAP\",\n",
    "    'TOTPOP17', 'NH_WHITE17', 'NH_BLACK17', 'NH_ASIAN17', 'HISP17',\n",
    "]\n",
    "attrs = {key: gc.updaters.Tally(key, alias=key) for key in variables}\n",
    "updaters.update(attrs)\n",
    "\n",
    "# Create an initial partition\n",
    "initial = gc.Partition(\n",
    "    precincts,\n",
    "    assignment=assignment,\n",
    "    updaters=updaters)"
   ]
  },
  {
   "cell_type": "code",
   "execution_count": 6,
   "metadata": {},
   "outputs": [
    {
     "data": {
      "text/plain": [
       "<matplotlib.axes._subplots.AxesSubplot at 0x1db68ede8d0>"
      ]
     },
     "execution_count": 6,
     "metadata": {},
     "output_type": "execute_result"
    },
    {
     "data": {
      "image/png": "[encoded data removed]",
      "text/plain": [
       "<Figure size 432x288 with 1 Axes>"
      ]
     },
     "metadata": {
      "needs_background": "light"
     },
     "output_type": "display_data"
    }
   ],
   "source": [
    "initial.plot(df)"
   ]
  },
  {
   "cell_type": "code",
   "execution_count": 7,
   "metadata": {},
   "outputs": [
    {
     "data": {
      "text/plain": [
       "0.036067897371677246"
      ]
     },
     "execution_count": 7,
     "metadata": {},
     "output_type": "execute_result"
    }
   ],
   "source": [
    "max(map(abs, gc.constraints.validity.deviation_from_ideal(initial).values()))"
   ]
  },
  {
   "cell_type": "code",
   "execution_count": 8,
   "metadata": {},
   "outputs": [],
   "source": [
    "pop_target = df.TOTPOP.sum() / 10\n",
    "pop_col = \"TOTPOP\""
   ]
  },
  {
   "cell_type": "code",
   "execution_count": 9,
   "metadata": {},
   "outputs": [],
   "source": [
    "# Configure the ReCom proposal and constraints\n",
    "proposal_10 = partial(recom,\n",
    "                      pop_col=pop_col,\n",
    "                      pop_target=pop_target,\n",
    "                      epsilon=0.05,\n",
    "                      node_repeats=10)\n",
    "\n",
    "compactness_bound = gc.constraints.UpperBound(\n",
    "    lambda p: len(p[\"cut_edges\"]),\n",
    "    2 * len(initial[\"cut_edges\"]))\n",
    "\n",
    "population_constraint = gc.constraints.within_percent_of_ideal_population(initial, 0.05)"
   ]
  },
  {
   "cell_type": "code",
   "execution_count": 11,
   "metadata": {},
   "outputs": [],
   "source": [
    "# Configure the Markov Chain\n",
    "chain_CA = gc.MarkovChain(\n",
    "    proposal=proposal_10,\n",
    "    constraints=[compactness_bound, population_constraint],\n",
    "    accept=accept.always_accept,\n",
    "    initial_state=initial,\n",
    "    total_steps=5000)"
   ]
  },
  {
   "cell_type": "code",
   "execution_count": null,
   "metadata": {},
   "outputs": [
    {
     "name": "stderr",
     "output_type": "stream",
     "text": [
      " 67%|████████████████████████████████████████████████████▋                         | 3374/5000 [01:38<00:53, 30.14it/s]"
     ]
    }
   ],
   "source": [
    "for i, partition in enumerate(tqdm(chain_CA)):\n",
    "    with open(f\"./ca10/assignments/assignment{i}.json\", \"w\") as f:\n",
    "        json.dump(partition.assignment.to_dict(), f)"
   ]
  },
  {
   "cell_type": "markdown",
   "metadata": {},
   "source": [
    "## Create results CSV\n",
    "\n",
    "This CSV will have ward-level demographic information for each step of the chain."
   ]
  },
  {
   "cell_type": "code",
   "execution_count": 1,
   "metadata": {},
   "outputs": [],
   "source": [
    "def partitions(run, graph, updaters):\n",
    "    for step in range(5000):\n",
    "        path = pathlib.Path(f\"./{run}/assignments/assignment{step}.json\")\n",
    "        with open(path) as f:\n",
    "            assignment = json.load(f)\n",
    "        partition = gc.Partition(graph, assignment, updaters=updaters)\n",
    "        yield step, partition"
   ]
  },
  {
   "cell_type": "code",
   "execution_count": null,
   "metadata": {},
   "outputs": [],
   "source": [
    "data = pd.DataFrame.from_records(\n",
    "    ([step, ward] + [partition[variable][ward] for variable in variables]\n",
    "    for step, partition in partitions(\"ca10\", precincts, updaters)\n",
    "    for ward in partition.parts),\n",
    "    columns=[\"step\", \"ward\"] + variables\n",
    ")"
   ]
  },
  {
   "cell_type": "code",
   "execution_count": 47,
   "metadata": {},
   "outputs": [],
   "source": [
    "data.to_csv(\"./ca10/results.csv\")"
   ]
  }
 ],
 "metadata": {
  "kernelspec": {
   "display_name": "Python 3",
   "language": "python",
   "name": "python3"
  },
  "language_info": {
   "codemirror_mode": {
    "name": "ipython",
    "version": 3
   },
   "file_extension": ".py",
   "mimetype": "text/x-python",
   "name": "python",
   "nbconvert_exporter": "python",
   "pygments_lexer": "ipython3",
   "version": "3.7.2"
  }
 },
 "nbformat": 4,
 "nbformat_minor": 2
}
