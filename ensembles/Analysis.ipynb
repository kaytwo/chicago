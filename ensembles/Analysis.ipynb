{
 "cells": [
  {
   "cell_type": "markdown",
   "metadata": {},
   "source": [
    "# Analysis of ensembles"
   ]
  },
  {
   "cell_type": "code",
   "execution_count": 75,
   "metadata": {},
   "outputs": [
    {
     "name": "stderr",
     "output_type": "stream",
     "text": [
      "Unable to open EPSG support file gcs.csv.  Try setting the GDAL_DATA environment variable to point to the directory containing EPSG csv files.\n"
     ]
    }
   ],
   "source": [
    "import pandas\n",
    "import matplotlib.pyplot as plt\n",
    "import geopandas"
   ]
  },
  {
   "cell_type": "code",
   "execution_count": 76,
   "metadata": {},
   "outputs": [],
   "source": [
    "gdf = geopandas.read_file(\"../shapefiles/chicago_precincts_economic.shp\")"
   ]
  },
  {
   "cell_type": "code",
   "execution_count": null,
   "metadata": {},
   "outputs": [],
   "source": []
  },
  {
   "cell_type": "code",
   "execution_count": 2,
   "metadata": {},
   "outputs": [],
   "source": [
    "def analysis(data):\n",
    "    first_plan = data[data[\"step\"] == 0]\n",
    "    ideal = first_plan[\"TOTPOP\"].sum() / len(first_plan)\n",
    "    deviation = abs(data[\"TOTPOP\"] - ideal) / ideal\n",
    "    print(\"Min. max. population deviation:\", deviation.groupby(data[\"step\"]).max().min())"
   ]
  },
  {
   "cell_type": "code",
   "execution_count": 3,
   "metadata": {},
   "outputs": [],
   "source": [
    "def majority_black_wards(data):\n",
    "    number_majority_black = (data[\"NH_BLACK\"] / data[\"TOTPOP\"] > 0.5).groupby(data[\"step\"]).sum()\n",
    "    return number_majority_black"
   ]
  },
  {
   "cell_type": "code",
   "execution_count": 59,
   "metadata": {},
   "outputs": [],
   "source": [
    "def segregated(data):\n",
    "    groups = [\"NH_BLACK\", \"NH_WHITE\", \"NH_ASIAN\", \"HISP\"]\n",
    "    return data[groups].apply(lambda x: (x / data[\"TOTPOP\"]) > 0.5).any(axis=1)"
   ]
  },
  {
   "cell_type": "code",
   "execution_count": 62,
   "metadata": {},
   "outputs": [
    {
     "data": {
      "text/plain": [
       "<matplotlib.axes._subplots.AxesSubplot at 0x1c5ab7433c8>"
      ]
     },
     "execution_count": 62,
     "metadata": {},
     "output_type": "execute_result"
    },
    {
     "data": {
      "image/png": "[encoded data removed]",
      "text/plain": [
       "<Figure size 432x288 with 1 Axes>"
      ]
     },
     "metadata": {
      "needs_background": "light"
     },
     "output_type": "display_data"
    }
   ],
   "source": [
    "segregated(df).groupby(df[\"step\"]).sum().hist()"
   ]
  },
  {
   "cell_type": "code",
   "execution_count": 4,
   "metadata": {},
   "outputs": [],
   "source": [
    "def compactness(plans):\n",
    "    return plans[\"cut_edges\"].min()"
   ]
  },
  {
   "cell_type": "code",
   "execution_count": 30,
   "metadata": {},
   "outputs": [],
   "source": [
    "df50x1 = pandas.read_csv(\"../projection/projection_50x1.csv\")\n",
    "df10x5 = pandas.read_csv(\"../projection/projection_10x5.csv\")\n",
    "df10x3 = pandas.read_csv(\"../projection/projection_10x3.csv\")\n",
    "df10x3_CA = pandas.read_csv(\"../projection/projection_10x3_CA.csv\")\n",
    "df10x5_CA = pandas.read_csv(\"../projection/projection_10x5_CA.csv\")"
   ]
  },
  {
   "cell_type": "code",
   "execution_count": 9,
   "metadata": {},
   "outputs": [],
   "source": [
    "groups = ['Asian', 'Black', 'Hispanic', 'White']"
   ]
  },
  {
   "cell_type": "code",
   "execution_count": 31,
   "metadata": {},
   "outputs": [
    {
     "data": {
      "text/plain": [
       "array([[<matplotlib.axes._subplots.AxesSubplot object at 0x000001C5A9822588>,\n",
       "        <matplotlib.axes._subplots.AxesSubplot object at 0x000001C5A9F30080>],\n",
       "       [<matplotlib.axes._subplots.AxesSubplot object at 0x000001C5A9CA15C0>,\n",
       "        <matplotlib.axes._subplots.AxesSubplot object at 0x000001C5A9CCAB38>]],\n",
       "      dtype=object)"
      ]
     },
     "execution_count": 31,
     "metadata": {},
     "output_type": "execute_result"
    },
    {
     "data": {
      "image/png": "[encoded data removed]",
      "text/plain": [
       "<Figure size 864x720 with 4 Axes>"
      ]
     },
     "metadata": {
      "needs_background": "light"
     },
     "output_type": "display_data"
    }
   ],
   "source": [
    "df10x3[groups].hist(figsize=(12,10), bins=list(range(30)))\n"
   ]
  },
  {
   "cell_type": "code",
   "execution_count": 35,
   "metadata": {},
   "outputs": [],
   "source": [
    "means = pandas.DataFrame({\"50x1\": df50x1[groups].mean(), \"10x5\": df10x5[groups].mean(), \"10x3\": df10x3[groups].mean(), \"10x5_CA\": df10x5_CA[groups].mean(), \"10x3_CA\": df10x3_CA[groups].mean()})"
   ]
  },
  {
   "cell_type": "code",
   "execution_count": 37,
   "metadata": {},
   "outputs": [],
   "source": [
    "means.to_csv(\"../means.csv\")"
   ]
  },
  {
   "cell_type": "code",
   "execution_count": 165,
   "metadata": {},
   "outputs": [],
   "source": [
    "df = pandas.read_csv(\"../ensembles/prec50/results.csv\")"
   ]
  },
  {
   "cell_type": "code",
   "execution_count": 166,
   "metadata": {},
   "outputs": [],
   "source": [
    "first_plan = df[df[\"step\"] == 0]\n",
    "ideal = first_plan[\"TOTPOP\"].sum() / len(first_plan)\n",
    "deviation = abs(df[\"TOTPOP\"] - ideal) / ideal"
   ]
  },
  {
   "cell_type": "code",
   "execution_count": 167,
   "metadata": {},
   "outputs": [
    {
     "data": {
      "text/plain": [
       "0.041221472097357735"
      ]
     },
     "execution_count": 167,
     "metadata": {},
     "output_type": "execute_result"
    }
   ],
   "source": [
    "deviation.groupby(df[\"step\"]).max().min()"
   ]
  },
  {
   "cell_type": "code",
   "execution_count": 126,
   "metadata": {},
   "outputs": [],
   "source": [
    "all_households = df[[ 'LESS_10K', '10K_15K', '15K_20K', '20K_25K', '25K_30K', '30K_35K',\n",
    "       '35K_40K', '40K_45K', '45K_50K', '50K_60K', '60K_75K', '75K_100K',\n",
    "       '100K_125K', '125K_150K', '150K_200K', '200K_MORE']].sum(axis=1)"
   ]
  },
  {
   "cell_type": "code",
   "execution_count": 153,
   "metadata": {},
   "outputs": [],
   "source": [
    "below_20k = df[[ 'LESS_10K', '10K_15K', '15K_20K']].sum(axis=1)"
   ]
  },
  {
   "cell_type": "code",
   "execution_count": 128,
   "metadata": {},
   "outputs": [],
   "source": [
    "citywide_below20k = first_plan[[ 'LESS_10K', '10K_15K', '15K_20K']].sum().sum() / first_plan[[ 'LESS_10K', '10K_15K', '15K_20K', '20K_25K', '25K_30K', '30K_35K',\n",
    "       '35K_40K', '40K_45K', '45K_50K', '50K_60K', '60K_75K', '75K_100K',\n",
    "       '100K_125K', '125K_150K', '150K_200K', '200K_MORE']].sum().sum()"
   ]
  },
  {
   "cell_type": "code",
   "execution_count": 140,
   "metadata": {},
   "outputs": [],
   "source": [
    "citywide_over200k = first_plan[[ '200K_MORE']].sum().sum() / first_plan[[ 'LESS_10K', '10K_15K', '15K_20K', '20K_25K', '25K_30K', '30K_35K',\n",
    "       '35K_40K', '40K_45K', '45K_50K', '50K_60K', '60K_75K', '75K_100K',\n",
    "       '100K_125K', '125K_150K', '150K_200K', '200K_MORE']].sum().sum()"
   ]
  },
  {
   "cell_type": "code",
   "execution_count": 78,
   "metadata": {},
   "outputs": [],
   "source": [
    "current_plan = gdf.groupby(\"ward\").sum()"
   ]
  },
  {
   "cell_type": "code",
   "execution_count": 146,
   "metadata": {},
   "outputs": [],
   "source": [
    "above_150k = df[['150K_200K', '200K_MORE']].sum(axis=1)"
   ]
  },
  {
   "cell_type": "code",
   "execution_count": 147,
   "metadata": {},
   "outputs": [],
   "source": [
    "ensemble_concentrated_wealth = ((above_150k / all_households) > 0.25).groupby(df[\"step\"]).sum()"
   ]
  },
  {
   "cell_type": "code",
   "execution_count": 154,
   "metadata": {},
   "outputs": [],
   "source": [
    "ensemble_concentrated_poverty = ((below_20k / all_households) > 0.25).groupby(df[\"step\"]).sum()"
   ]
  },
  {
   "cell_type": "code",
   "execution_count": 156,
   "metadata": {},
   "outputs": [],
   "source": [
    "wealth_or_poverty_ensemble = (((above_150k / all_households) > 0.25) | ((below_20k / all_households) > 0.25)).groupby(df[\"step\"]).sum()"
   ]
  },
  {
   "cell_type": "code",
   "execution_count": 161,
   "metadata": {},
   "outputs": [
    {
     "data": {
      "text/plain": [
       "<matplotlib.axes._subplots.AxesSubplot at 0x1c5861ddb38>"
      ]
     },
     "execution_count": 161,
     "metadata": {},
     "output_type": "execute_result"
    },
    {
     "data": {
      "image/png": "[encoded data removed]",
      "text/plain": [
       "<Figure size 432x288 with 1 Axes>"
      ]
     },
     "metadata": {
      "needs_background": "light"
     },
     "output_type": "display_data"
    }
   ],
   "source": [
    "wealth_or_poverty_ensemble.hist(bins=list(range(18,31)))"
   ]
  },
  {
   "cell_type": "code",
   "execution_count": 149,
   "metadata": {},
   "outputs": [],
   "source": [
    "wealth_current = current_plan[['150K_200K', '200K_MORE']].sum(axis=1) / current_plan[[ 'LESS_10K', '10K_15K', '15K_20K', '20K_25K', '25K_30K', '30K_35K',\n",
    "       '35K_40K', '40K_45K', '45K_50K', '50K_60K', '60K_75K', '75K_100K',\n",
    "       '100K_125K', '125K_150K', '150K_200K', '200K_MORE']].sum(axis=1)"
   ]
  },
  {
   "cell_type": "code",
   "execution_count": 150,
   "metadata": {},
   "outputs": [
    {
     "data": {
      "text/plain": [
       "5"
      ]
     },
     "execution_count": 150,
     "metadata": {},
     "output_type": "execute_result"
    }
   ],
   "source": [
    "(wealth_current > 0.25).sum()"
   ]
  },
  {
   "cell_type": "code",
   "execution_count": 137,
   "metadata": {},
   "outputs": [],
   "source": [
    "extreme_wealth_current = current_plan[['200K_MORE']].sum(axis=1) / current_plan[[ 'LESS_10K', '10K_15K', '15K_20K', '20K_25K', '25K_30K', '30K_35K',\n",
    "       '35K_40K', '40K_45K', '45K_50K', '50K_60K', '60K_75K', '75K_100K',\n",
    "       '100K_125K', '125K_150K', '150K_200K', '200K_MORE']].sum(axis=1)"
   ]
  },
  {
   "cell_type": "code",
   "execution_count": 139,
   "metadata": {},
   "outputs": [
    {
     "data": {
      "text/plain": [
       "0"
      ]
     },
     "execution_count": 139,
     "metadata": {},
     "output_type": "execute_result"
    }
   ],
   "source": [
    "(extreme_wealth_current > 0.25).sum()"
   ]
  },
  {
   "cell_type": "code",
   "execution_count": 115,
   "metadata": {},
   "outputs": [],
   "source": [
    "poverty_current = current_plan[[ 'LESS_10K', '10K_15K', '15K_20K']].sum(axis=1) / current_plan[[ 'LESS_10K', '10K_15K', '15K_20K', '20K_25K', '25K_30K', '30K_35K',\n",
    "       '35K_40K', '40K_45K', '45K_50K', '50K_60K', '60K_75K', '75K_100K',\n",
    "       '100K_125K', '125K_150K', '150K_200K', '200K_MORE']].sum(axis=1)"
   ]
  },
  {
   "cell_type": "code",
   "execution_count": 131,
   "metadata": {},
   "outputs": [
    {
     "data": {
      "text/plain": [
       "18"
      ]
     },
     "execution_count": 131,
     "metadata": {},
     "output_type": "execute_result"
    }
   ],
   "source": [
    "(wealth_current > 0.25).sum()"
   ]
  },
  {
   "cell_type": "code",
   "execution_count": 101,
   "metadata": {},
   "outputs": [
    {
     "data": {
      "text/plain": [
       "3.41109"
      ]
     },
     "execution_count": 101,
     "metadata": {},
     "output_type": "execute_result"
    }
   ],
   "source": [
    "wealth_current"
   ]
  },
  {
   "cell_type": "code",
   "execution_count": 74,
   "metadata": {},
   "outputs": [
    {
     "data": {
      "text/plain": [
       "<matplotlib.axes._subplots.AxesSubplot at 0x1c5ab751978>"
      ]
     },
     "execution_count": 74,
     "metadata": {},
     "output_type": "execute_result"
    },
    {
     "data": {
      "image/png": "[encoded data removed]",
      "text/plain": [
       "<Figure size 432x288 with 1 Axes>"
      ]
     },
     "metadata": {
      "needs_background": "light"
     },
     "output_type": "display_data"
    }
   ],
   "source": [
    "(below_20k / all_households).hist()"
   ]
  },
  {
   "cell_type": "code",
   "execution_count": 55,
   "metadata": {},
   "outputs": [
    {
     "data": {
      "text/plain": [
       "<matplotlib.axes._subplots.AxesSubplot at 0x1c5ab8daf60>"
      ]
     },
     "execution_count": 55,
     "metadata": {},
     "output_type": "execute_result"
    },
    {
     "data": {
      "image/png": "[encoded data removed]",
      "text/plain": [
       "<Figure size 432x288 with 1 Axes>"
      ]
     },
     "metadata": {
      "needs_background": "light"
     },
     "output_type": "display_data"
    }
   ],
   "source": [
    "majority_black_wards(df).hist(bins=list(range(25)))"
   ]
  },
  {
   "cell_type": "code",
   "execution_count": 19,
   "metadata": {},
   "outputs": [],
   "source": [
    "with_seventeen = majority_black_wards(df) == 17"
   ]
  },
  {
   "cell_type": "code",
   "execution_count": 27,
   "metadata": {},
   "outputs": [
    {
     "data": {
      "text/plain": [
       "<matplotlib.axes._subplots.AxesSubplot at 0x2aaa3370c50>"
      ]
     },
     "execution_count": 27,
     "metadata": {},
     "output_type": "execute_result"
    },
    {
     "data": {
      "image/png": "[encoded data removed]",
      "text/plain": [
       "<Figure size 432x288 with 1 Axes>"
      ]
     },
     "metadata": {
      "needs_background": "light"
     },
     "output_type": "display_data"
    }
   ],
   "source": [
    "df[\"cut_edges\"].groupby(df[\"step\"]).min()[with_seventeen].hist()"
   ]
  },
  {
   "cell_type": "code",
   "execution_count": 28,
   "metadata": {},
   "outputs": [
    {
     "data": {
      "text/plain": [
       "<matplotlib.axes._subplots.AxesSubplot at 0x2aa8e85c7b8>"
      ]
     },
     "execution_count": 28,
     "metadata": {},
     "output_type": "execute_result"
    },
    {
     "data": {
      "image/png": "[encoded data removed]",
      "text/plain": [
       "<Figure size 432x288 with 1 Axes>"
      ]
     },
     "metadata": {
      "needs_background": "light"
     },
     "output_type": "display_data"
    }
   ],
   "source": [
    "df[\"cut_edges\"].groupby(df[\"step\"]).min()[with_seventeen].hist()"
   ]
  },
  {
   "cell_type": "code",
   "execution_count": 29,
   "metadata": {},
   "outputs": [
    {
     "data": {
      "text/plain": [
       "([array([   46.,   969.,  4858., 15723., 28642., 28125., 15155.,  5126.,\n",
       "          1179.,   177.]),\n",
       "  array([ 0.,  0., 41., 87., 84., 38., 48., 31., 13.,  6.])],\n",
       " array([1077. , 1102.2, 1127.4, 1152.6, 1177.8, 1203. , 1228.2, 1253.4,\n",
       "        1278.6, 1303.8, 1329. ]),\n",
       " <a list of 2 Lists of Patches objects>)"
      ]
     },
     "execution_count": 29,
     "metadata": {},
     "output_type": "execute_result"
    },
    {
     "data": {
      "image/png": "[encoded data removed]",
      "text/plain": [
       "<Figure size 432x288 with 1 Axes>"
      ]
     },
     "metadata": {
      "needs_background": "light"
     },
     "output_type": "display_data"
    }
   ],
   "source": []
  },
  {
   "cell_type": "code",
   "execution_count": 31,
   "metadata": {},
   "outputs": [],
   "source": [
    "gdf = geopandas.read_file(\"../shapefiles/chicago_precincts_economic.shp\")"
   ]
  },
  {
   "cell_type": "code",
   "execution_count": null,
   "metadata": {},
   "outputs": [],
   "source": [
    "from gerrychain "
   ]
  }
 ],
 "metadata": {
  "kernelspec": {
   "display_name": "Python 3",
   "language": "python",
   "name": "python3"
  },
  "language_info": {
   "codemirror_mode": {
    "name": "ipython",
    "version": 3
   },
   "file_extension": ".py",
   "mimetype": "text/x-python",
   "name": "python",
   "nbconvert_exporter": "python",
   "pygments_lexer": "ipython3",
   "version": "3.7.1"
  }
 },
 "nbformat": 4,
 "nbformat_minor": 2
}
