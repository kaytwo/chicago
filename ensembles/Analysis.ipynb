{
 "cells": [
  {
   "cell_type": "markdown",
   "metadata": {},
   "source": [
    "# Analysis of ensembles"
   ]
  },
  {
   "cell_type": "code",
   "execution_count": 1,
   "metadata": {},
   "outputs": [],
   "source": [
    "import pandas\n",
    "import matplotlib.pyplot as plt\n",
    "import geopandas\n",
    "from gerrychain import Graph, Partition, updaters"
   ]
  },
  {
   "cell_type": "code",
   "execution_count": 2,
   "metadata": {},
   "outputs": [
    {
     "name": "stderr",
     "output_type": "stream",
     "text": [
      "C:\\Users\\MGGG\\Miniconda3\\envs\\max\\lib\\site-packages\\gerrychain-0.2.7+98.gbf11fe5-py3.7.egg\\gerrychain\\graph\\adjacency.py:68: UserWarning: Found overlaps among the given polygons. Indices of overlaps: {(410, 1381), (410, 717), (26, 410)}\n"
     ]
    }
   ],
   "source": [
    "gdf = geopandas.read_file(\"../shapefiles/chicago_precincts_economic.shp\")\n",
    "current_plan = gdf.groupby(\"ward\").sum()\n",
    "current_partition = Partition(Graph.from_geodataframe(gdf), gdf[\"ward\"], {\"cut_edges\": updaters.cut_edges})"
   ]
  },
  {
   "cell_type": "markdown",
   "metadata": {},
   "source": [
    "## Finding interesting plans"
   ]
  },
  {
   "cell_type": "code",
   "execution_count": 99,
   "metadata": {},
   "outputs": [],
   "source": [
    "def population_deviation(data):\n",
    "    first_plan = data[data[\"step\"] == 0]\n",
    "    ideal = first_plan[\"TOTPOP\"].sum() / len(first_plan)\n",
    "    deviation = abs(data[\"TOTPOP\"] - ideal) / ideal\n",
    "    return deviation"
   ]
  },
  {
   "cell_type": "code",
   "execution_count": 16,
   "metadata": {},
   "outputs": [],
   "source": [
    "def majority_black_wards(data):\n",
    "    number_majority_black = (data[\"NH_BLACK\"] / data[\"TOTPOP\"] > 0.5)\n",
    "    return number_majority_black"
   ]
  },
  {
   "cell_type": "code",
   "execution_count": 17,
   "metadata": {},
   "outputs": [],
   "source": [
    "def segregated(data):\n",
    "    groups = [\"NH_BLACK\", \"NH_WHITE\", \"NH_ASIAN\", \"HISP\"]\n",
    "    return data[groups].apply(lambda x: (x / data[\"TOTPOP\"]) > 0.5).any(axis=1)"
   ]
  },
  {
   "cell_type": "code",
   "execution_count": 18,
   "metadata": {},
   "outputs": [],
   "source": [
    "def compactness(plans):\n",
    "    return plans[\"cut_edges\"].min()"
   ]
  },
  {
   "cell_type": "code",
   "execution_count": 19,
   "metadata": {},
   "outputs": [],
   "source": [
    "def all_households(df):\n",
    "    return df[[ 'LESS_10K', '10K_15K', '15K_20K', '20K_25K', '25K_30K', '30K_35K',\n",
    "       '35K_40K', '40K_45K', '45K_50K', '50K_60K', '60K_75K', '75K_100K',\n",
    "       '100K_125K', '125K_150K', '150K_200K', '200K_MORE']].sum(axis=1)"
   ]
  },
  {
   "cell_type": "code",
   "execution_count": 20,
   "metadata": {},
   "outputs": [],
   "source": [
    "def below_20k(df):\n",
    "    return df[[ 'LESS_10K', '10K_15K', '15K_20K']].sum(axis=1)"
   ]
  },
  {
   "cell_type": "code",
   "execution_count": 21,
   "metadata": {},
   "outputs": [],
   "source": [
    "def above_150k(df):\n",
    "    return df[['150K_200K', '200K_MORE']].sum(axis=1)"
   ]
  },
  {
   "cell_type": "code",
   "execution_count": 22,
   "metadata": {},
   "outputs": [],
   "source": [
    "def has_concentrated_wealth(df):\n",
    "    return ((above_150k(df) / all_households(df)) > 0.25)\n",
    "\n",
    "def has_concentrated_poverty(df):\n",
    "    return ((below_20k(df) / all_households(df)) > 0.25)\n",
    "\n",
    "def has_concentrated_wealth_or_poverty(df):\n",
    "    return has_concentrated_wealth(df) | has_concentrated_poverty(df)"
   ]
  },
  {
   "cell_type": "code",
   "execution_count": 39,
   "metadata": {},
   "outputs": [],
   "source": [
    "def groups_over_threshold(data, threshold):\n",
    "    groups = [\"NH_BLACK\", \"NH_WHITE\", \"NH_ASIAN\", \"HISP\"]\n",
    "    return data[groups].apply(lambda x: (x / data[\"TOTPOP\"]) > threshold).sum(axis=1)"
   ]
  },
  {
   "cell_type": "code",
   "execution_count": 83,
   "metadata": {},
   "outputs": [],
   "source": [
    "def multiracial(data, threshold=0.25):\n",
    "    over_threshold = groups_over_threshold(data, threshold)\n",
    "    return (over_threshold >= 3) | (over_threshold == 0)"
   ]
  },
  {
   "cell_type": "code",
   "execution_count": 40,
   "metadata": {},
   "outputs": [],
   "source": [
    "def hypersegregated(data, threshold=0.25):\n",
    "    return groups_over_threshold(data, threshold) == 1"
   ]
  },
  {
   "cell_type": "code",
   "execution_count": 7,
   "metadata": {},
   "outputs": [],
   "source": [
    "df = pandas.read_csv(\"../ensembles/prec50/results.csv\")"
   ]
  },
  {
   "cell_type": "code",
   "execution_count": 14,
   "metadata": {},
   "outputs": [
    {
     "data": {
      "text/plain": [
       "<matplotlib.axes._subplots.AxesSubplot at 0x22d0fd0bc50>"
      ]
     },
     "execution_count": 14,
     "metadata": {},
     "output_type": "execute_result"
    },
    {
     "data": {
      "image/png": "[encoded data removed]",
      "text/plain": [
       "<Figure size 432x288 with 1 Axes>"
      ]
     },
     "metadata": {
      "needs_background": "light"
     },
     "output_type": "display_data"
    }
   ],
   "source": [
    "segregated(df).groupby(df[\"step\"]).sum().hist()"
   ]
  },
  {
   "cell_type": "markdown",
   "metadata": {},
   "source": [
    "## Analyzing outcomes"
   ]
  },
  {
   "cell_type": "markdown",
   "metadata": {},
   "source": [
    "### Loading the projected outcomes"
   ]
  },
  {
   "cell_type": "code",
   "execution_count": 15,
   "metadata": {},
   "outputs": [],
   "source": [
    "df50x1 = pandas.read_csv(\"../projection/projection_50x1.csv\")\n",
    "df10x5 = pandas.read_csv(\"../projection/projection_10x5.csv\")\n",
    "df10x3 = pandas.read_csv(\"../projection/projection_10x3.csv\")\n",
    "df10x3_CA = pandas.read_csv(\"../projection/projection_10x3_CA.csv\")\n",
    "df10x5_CA = pandas.read_csv(\"../projection/projection_10x5_CA.csv\")"
   ]
  },
  {
   "cell_type": "markdown",
   "metadata": {},
   "source": [
    "### Projected number of city council seats"
   ]
  },
  {
   "cell_type": "code",
   "execution_count": 16,
   "metadata": {},
   "outputs": [],
   "source": [
    "groups = ['Asian', 'Black', 'Hispanic', 'White']"
   ]
  },
  {
   "cell_type": "code",
   "execution_count": 17,
   "metadata": {},
   "outputs": [
    {
     "data": {
      "text/plain": [
       "array([[<matplotlib.axes._subplots.AxesSubplot object at 0x0000022D126601D0>,\n",
       "        <matplotlib.axes._subplots.AxesSubplot object at 0x0000022D1268BBE0>],\n",
       "       [<matplotlib.axes._subplots.AxesSubplot object at 0x0000022D126AC128>,\n",
       "        <matplotlib.axes._subplots.AxesSubplot object at 0x0000022D126C76A0>]],\n",
       "      dtype=object)"
      ]
     },
     "execution_count": 17,
     "metadata": {},
     "output_type": "execute_result"
    },
    {
     "data": {
      "image/png": "[encoded data removed]",
      "text/plain": [
       "<Figure size 864x720 with 4 Axes>"
      ]
     },
     "metadata": {
      "needs_background": "light"
     },
     "output_type": "display_data"
    }
   ],
   "source": [
    "df10x3[groups].hist(figsize=(12,10), bins=list(range(30)))\n"
   ]
  },
  {
   "cell_type": "markdown",
   "metadata": {},
   "source": [
    "### Average outcomes"
   ]
  },
  {
   "cell_type": "code",
   "execution_count": 18,
   "metadata": {},
   "outputs": [],
   "source": [
    "means = pandas.DataFrame({\"50x1\": df50x1[groups].mean(), \"10x5\": df10x5[groups].mean(), \"10x3\": df10x3[groups].mean(), \"10x5_CA\": df10x5_CA[groups].mean(), \"10x3_CA\": df10x3_CA[groups].mean()})"
   ]
  },
  {
   "cell_type": "code",
   "execution_count": 19,
   "metadata": {},
   "outputs": [
    {
     "data": {
      "text/html": [
       "<div>\n",
       "<style scoped>\n",
       "    .dataframe tbody tr th:only-of-type {\n",
       "        vertical-align: middle;\n",
       "    }\n",
       "\n",
       "    .dataframe tbody tr th {\n",
       "        vertical-align: top;\n",
       "    }\n",
       "\n",
       "    .dataframe thead th {\n",
       "        text-align: right;\n",
       "    }\n",
       "</style>\n",
       "<table border=\"1\" class=\"dataframe\">\n",
       "  <thead>\n",
       "    <tr style=\"text-align: right;\">\n",
       "      <th></th>\n",
       "      <th>50x1</th>\n",
       "      <th>10x5</th>\n",
       "      <th>10x3</th>\n",
       "      <th>10x5_CA</th>\n",
       "      <th>10x3_CA</th>\n",
       "    </tr>\n",
       "  </thead>\n",
       "  <tbody>\n",
       "    <tr>\n",
       "      <th>Asian</th>\n",
       "      <td>0.4472</td>\n",
       "      <td>0.3421</td>\n",
       "      <td>0.0625</td>\n",
       "      <td>0.2251</td>\n",
       "      <td>0.0318</td>\n",
       "    </tr>\n",
       "    <tr>\n",
       "      <th>Black</th>\n",
       "      <td>15.6336</td>\n",
       "      <td>16.4632</td>\n",
       "      <td>10.3181</td>\n",
       "      <td>16.8474</td>\n",
       "      <td>10.7753</td>\n",
       "    </tr>\n",
       "    <tr>\n",
       "      <th>Hispanic</th>\n",
       "      <td>14.1536</td>\n",
       "      <td>15.6148</td>\n",
       "      <td>8.7613</td>\n",
       "      <td>15.6802</td>\n",
       "      <td>8.8673</td>\n",
       "    </tr>\n",
       "    <tr>\n",
       "      <th>White</th>\n",
       "      <td>19.7656</td>\n",
       "      <td>17.5799</td>\n",
       "      <td>10.8581</td>\n",
       "      <td>17.2473</td>\n",
       "      <td>10.3256</td>\n",
       "    </tr>\n",
       "  </tbody>\n",
       "</table>\n",
       "</div>"
      ],
      "text/plain": [
       "             50x1     10x5     10x3  10x5_CA  10x3_CA\n",
       "Asian      0.4472   0.3421   0.0625   0.2251   0.0318\n",
       "Black     15.6336  16.4632  10.3181  16.8474  10.7753\n",
       "Hispanic  14.1536  15.6148   8.7613  15.6802   8.8673\n",
       "White     19.7656  17.5799  10.8581  17.2473  10.3256"
      ]
     },
     "execution_count": 19,
     "metadata": {},
     "output_type": "execute_result"
    }
   ],
   "source": [
    "means"
   ]
  },
  {
   "cell_type": "code",
   "execution_count": 20,
   "metadata": {},
   "outputs": [],
   "source": [
    "means.to_csv(\"../projection/means.csv\")"
   ]
  },
  {
   "cell_type": "markdown",
   "metadata": {},
   "source": [
    "### City-wide"
   ]
  },
  {
   "cell_type": "code",
   "execution_count": 21,
   "metadata": {},
   "outputs": [],
   "source": [
    "first_plan = df[df[\"step\"] == 0]"
   ]
  },
  {
   "cell_type": "code",
   "execution_count": 167,
   "metadata": {},
   "outputs": [
    {
     "data": {
      "text/plain": [
       "0.041221472097357735"
      ]
     },
     "execution_count": 167,
     "metadata": {},
     "output_type": "execute_result"
    }
   ],
   "source": [
    "deviation.groupby(df[\"step\"]).max().min()"
   ]
  },
  {
   "cell_type": "code",
   "execution_count": 26,
   "metadata": {},
   "outputs": [
    {
     "data": {
      "text/plain": [
       "0.21333095756908763"
      ]
     },
     "execution_count": 26,
     "metadata": {},
     "output_type": "execute_result"
    }
   ],
   "source": [
    "# citywide_below20k\n",
    "below_20k(first_plan).sum() / all_households(first_plan).sum()"
   ]
  },
  {
   "cell_type": "code",
   "execution_count": 140,
   "metadata": {},
   "outputs": [],
   "source": [
    "# citywide_over200k\n",
    "above_200k(first_plan).sum() / all_households(first_plan).sum()"
   ]
  },
  {
   "cell_type": "markdown",
   "metadata": {},
   "source": [
    "### Comparing to current plan"
   ]
  },
  {
   "cell_type": "code",
   "execution_count": 78,
   "metadata": {},
   "outputs": [],
   "source": [
    "current_plan = gdf.groupby(\"ward\").sum()"
   ]
  },
  {
   "cell_type": "code",
   "execution_count": 65,
   "metadata": {},
   "outputs": [],
   "source": [
    "# Number of wards with concentrated wealth or poverty, over the ensemble\n",
    "def hist_with_line_for_current(function, df=df, current_plan=current_plan, bins=range(18,31), **kwargs):\n",
    "    fig, ax = plt.subplots()\n",
    "    function(df).groupby(df[\"step\"]).sum().hist(bins=bins, ax=ax, **kwargs)\n",
    "    ax.axvline(function(current_plan).sum(), color=\"r\")\n",
    "    return fig, ax"
   ]
  },
  {
   "cell_type": "code",
   "execution_count": 58,
   "metadata": {},
   "outputs": [
    {
     "data": {
      "image/png": "[encoded data removed]",
      "text/plain": [
       "<Figure size 432x288 with 1 Axes>"
      ]
     },
     "metadata": {
      "needs_background": "light"
     },
     "output_type": "display_data"
    }
   ],
   "source": [
    "hist_with_line_for_current(has_concentrated_wealth, bins=range(3,9))\n",
    "plt.show()"
   ]
  },
  {
   "cell_type": "code",
   "execution_count": 61,
   "metadata": {},
   "outputs": [
    {
     "data": {
      "image/png": "[encoded data removed]",
      "text/plain": [
       "<Figure size 432x288 with 1 Axes>"
      ]
     },
     "metadata": {
      "needs_background": "light"
     },
     "output_type": "display_data"
    }
   ],
   "source": [
    "hist_with_line_for_current(majority_black_wards, bins=range(12,18))\n",
    "plt.show()"
   ]
  },
  {
   "cell_type": "code",
   "execution_count": 59,
   "metadata": {},
   "outputs": [
    {
     "data": {
      "image/png": "[encoded data removed]",
      "text/plain": [
       "<Figure size 432x288 with 1 Axes>"
      ]
     },
     "metadata": {
      "needs_background": "light"
     },
     "output_type": "display_data"
    }
   ],
   "source": [
    "hist_with_line_for_current(segregated, bins=range(34,50))\n",
    "plt.show()"
   ]
  },
  {
   "cell_type": "code",
   "execution_count": 55,
   "metadata": {},
   "outputs": [
    {
     "data": {
      "text/plain": [
       "<matplotlib.axes._subplots.AxesSubplot at 0x1c5ab8daf60>"
      ]
     },
     "execution_count": 55,
     "metadata": {},
     "output_type": "execute_result"
    },
    {
     "data": {
      "image/png": "[encoded data removed]",
      "text/plain": [
       "<Figure size 432x288 with 1 Axes>"
      ]
     },
     "metadata": {
      "needs_background": "light"
     },
     "output_type": "display_data"
    }
   ],
   "source": [
    "majority_black_wards(df).hist(bins=list(range(25)))\n",
    "plt.show()"
   ]
  },
  {
   "cell_type": "markdown",
   "metadata": {},
   "source": [
    "### Segregation and hypersegregation"
   ]
  },
  {
   "cell_type": "code",
   "execution_count": 77,
   "metadata": {},
   "outputs": [
    {
     "data": {
      "image/png": "[encoded data removed]",
      "text/plain": [
       "<Figure size 576x432 with 1 Axes>"
      ]
     },
     "metadata": {
      "needs_background": "light"
     },
     "output_type": "display_data"
    }
   ],
   "source": [
    "fig, ax = hist_with_line_for_current(hypersegregated, df=df, bins=range(24, 40), figsize=(8,6))\n",
    "ax.set_xticks(list(range(24, 40, 2)))\n",
    "ax.set_title(\"Number of hypersegregated wards\")\n",
    "plt.savefig(\"../figures/prec50_hypersegregated.png\")\n",
    "plt.show()"
   ]
  },
  {
   "cell_type": "code",
   "execution_count": 78,
   "metadata": {},
   "outputs": [
    {
     "data": {
      "image/png": "[encoded data removed]",
      "text/plain": [
       "<Figure size 576x432 with 1 Axes>"
      ]
     },
     "metadata": {
      "needs_background": "light"
     },
     "output_type": "display_data"
    }
   ],
   "source": [
    "fig, ax = hist_with_line_for_current(segregated, df=df, bins=range(34, 50), figsize=(8,6))\n",
    "ax.set_xticks(list(range(34, 50, 2)))\n",
    "ax.set_title(\"Number of segregated wards\")\n",
    "fig.savefig(\"../figures/prec50_segregated.png\")\n",
    "plt.show()"
   ]
  },
  {
   "cell_type": "markdown",
   "metadata": {},
   "source": [
    "## Finding interesting plans\n",
    "\n",
    "1. Least-segregated\n",
    "2. Current plan\n",
    "3. Most majority-black\n",
    "4. Fewest concentrated poverty"
   ]
  },
  {
   "cell_type": "markdown",
   "metadata": {},
   "source": [
    "#### 50x1"
   ]
  },
  {
   "cell_type": "code",
   "execution_count": 97,
   "metadata": {},
   "outputs": [
    {
     "data": {
      "text/plain": [
       "34.0"
      ]
     },
     "execution_count": 97,
     "metadata": {},
     "output_type": "execute_result"
    }
   ],
   "source": [
    "segregated(df).groupby(df[\"step\"]).sum().min()"
   ]
  },
  {
   "cell_type": "code",
   "execution_count": 96,
   "metadata": {},
   "outputs": [
    {
     "data": {
      "text/plain": [
       "17.0"
      ]
     },
     "execution_count": 96,
     "metadata": {},
     "output_type": "execute_result"
    }
   ],
   "source": [
    "majority_black_wards(df).groupby(df[\"step\"]).sum().max()"
   ]
  },
  {
   "cell_type": "code",
   "execution_count": 95,
   "metadata": {},
   "outputs": [
    {
     "data": {
      "text/plain": [
       "13.0"
      ]
     },
     "execution_count": 95,
     "metadata": {},
     "output_type": "execute_result"
    }
   ],
   "source": [
    "has_concentrated_poverty(df).groupby(df[\"step\"]).sum().min()"
   ]
  },
  {
   "cell_type": "markdown",
   "metadata": {},
   "source": [
    "#### 10xM"
   ]
  },
  {
   "cell_type": "code",
   "execution_count": 24,
   "metadata": {},
   "outputs": [],
   "source": [
    "prec10 = pandas.read_csv(\"../ensembles/prec10/results.csv\")"
   ]
  },
  {
   "cell_type": "code",
   "execution_count": 86,
   "metadata": {},
   "outputs": [
    {
     "data": {
      "text/plain": [
       "<matplotlib.axes._subplots.AxesSubplot at 0x28fba606a58>"
      ]
     },
     "execution_count": 86,
     "metadata": {},
     "output_type": "execute_result"
    },
    {
     "data": {
      "image/png": "[encoded data removed]",
      "text/plain": [
       "<Figure size 432x288 with 1 Axes>"
      ]
     },
     "metadata": {
      "needs_background": "light"
     },
     "output_type": "display_data"
    }
   ],
   "source": [
    "hypersegregated(prec10, threshold=1/6).groupby(prec10[\"step\"]).sum().hist(bins=range(0, 11))"
   ]
  },
  {
   "cell_type": "code",
   "execution_count": 85,
   "metadata": {},
   "outputs": [
    {
     "data": {
      "text/plain": [
       "<matplotlib.axes._subplots.AxesSubplot at 0x28fba5ed860>"
      ]
     },
     "execution_count": 85,
     "metadata": {},
     "output_type": "execute_result"
    },
    {
     "data": {
      "image/png": "[encoded data removed]",
      "text/plain": [
       "<Figure size 432x288 with 1 Axes>"
      ]
     },
     "metadata": {
      "needs_background": "light"
     },
     "output_type": "display_data"
    }
   ],
   "source": [
    "multiracial(prec10, threshold=1/6).groupby(prec10[\"step\"]).sum().hist(bins=range(0,11))"
   ]
  },
  {
   "cell_type": "code",
   "execution_count": 89,
   "metadata": {},
   "outputs": [
    {
     "data": {
      "text/plain": [
       "55213"
      ]
     },
     "execution_count": 89,
     "metadata": {},
     "output_type": "execute_result"
    }
   ],
   "source": [
    "multiracial(prec10, threshold=1/6).groupby(prec10[\"step\"]).sum().idxmax()"
   ]
  },
  {
   "cell_type": "code",
   "execution_count": 94,
   "metadata": {},
   "outputs": [
    {
     "data": {
      "text/plain": [
       "205"
      ]
     },
     "execution_count": 94,
     "metadata": {},
     "output_type": "execute_result"
    }
   ],
   "source": [
    "has_concentrated_wealth_or_poverty(prec10).groupby(prec10[\"step\"]).sum().idxmin()"
   ]
  },
  {
   "cell_type": "code",
   "execution_count": 102,
   "metadata": {},
   "outputs": [
    {
     "data": {
      "text/plain": [
       "0.017025676427120568"
      ]
     },
     "execution_count": 102,
     "metadata": {},
     "output_type": "execute_result"
    }
   ],
   "source": [
    "population_deviation(prec10).groupby(prec10[\"step\"]).max().min()"
   ]
  },
  {
   "cell_type": "code",
   "execution_count": 126,
   "metadata": {},
   "outputs": [
    {
     "data": {
      "text/plain": [
       "3.0"
      ]
     },
     "execution_count": 126,
     "metadata": {},
     "output_type": "execute_result"
    }
   ],
   "source": [
    "segregated(prec10).groupby(prec10[\"step\"]).sum().min()"
   ]
  },
  {
   "cell_type": "code",
   "execution_count": null,
   "metadata": {},
   "outputs": [],
   "source": [
    "segregated(prec10)"
   ]
  },
  {
   "cell_type": "markdown",
   "metadata": {},
   "source": [
    "#### 10xM CA"
   ]
  },
  {
   "cell_type": "code",
   "execution_count": 127,
   "metadata": {},
   "outputs": [],
   "source": [
    "ca10 = pandas.read_csv(\"../ensembles/ca10/results.csv\")"
   ]
  },
  {
   "cell_type": "code",
   "execution_count": 128,
   "metadata": {},
   "outputs": [
    {
     "data": {
      "text/plain": [
       "<matplotlib.axes._subplots.AxesSubplot at 0x28fba56f9b0>"
      ]
     },
     "execution_count": 128,
     "metadata": {},
     "output_type": "execute_result"
    },
    {
     "data": {
      "image/png": "[encoded data removed]",
      "text/plain": [
       "<Figure size 432x288 with 1 Axes>"
      ]
     },
     "metadata": {
      "needs_background": "light"
     },
     "output_type": "display_data"
    }
   ],
   "source": [
    "hypersegregated(ca10, threshold=1/6).groupby(ca10[\"step\"]).sum().hist(bins=range(0, 11))"
   ]
  },
  {
   "cell_type": "code",
   "execution_count": 133,
   "metadata": {},
   "outputs": [
    {
     "data": {
      "text/plain": [
       "<matplotlib.axes._subplots.AxesSubplot at 0x28fba54ba58>"
      ]
     },
     "execution_count": 133,
     "metadata": {},
     "output_type": "execute_result"
    },
    {
     "data": {
      "image/png": "[encoded data removed]",
      "text/plain": [
       "<Figure size 432x288 with 1 Axes>"
      ]
     },
     "metadata": {
      "needs_background": "light"
     },
     "output_type": "display_data"
    }
   ],
   "source": [
    "multiracial(ca10, threshold=1/6).groupby(ca10[\"step\"]).sum().hist(bins=range(0,11))"
   ]
  },
  {
   "cell_type": "code",
   "execution_count": 134,
   "metadata": {},
   "outputs": [
    {
     "data": {
      "text/plain": [
       "25218"
      ]
     },
     "execution_count": 134,
     "metadata": {},
     "output_type": "execute_result"
    }
   ],
   "source": [
    "multiracial(ca10, threshold=1/6).groupby(ca10[\"step\"]).sum().idxmax()"
   ]
  },
  {
   "cell_type": "code",
   "execution_count": 137,
   "metadata": {},
   "outputs": [
    {
     "data": {
      "text/plain": [
       "5848"
      ]
     },
     "execution_count": 137,
     "metadata": {},
     "output_type": "execute_result"
    }
   ],
   "source": [
    "has_concentrated_wealth_or_poverty(ca10).groupby(ca10[\"step\"]).sum().idxmin()"
   ]
  },
  {
   "cell_type": "code",
   "execution_count": 141,
   "metadata": {},
   "outputs": [
    {
     "data": {
      "text/plain": [
       "0.016237681479992973"
      ]
     },
     "execution_count": 141,
     "metadata": {},
     "output_type": "execute_result"
    }
   ],
   "source": [
    "population_deviation(ca10).groupby(ca10[\"step\"]).max().min()"
   ]
  },
  {
   "cell_type": "code",
   "execution_count": 153,
   "metadata": {},
   "outputs": [
    {
     "data": {
      "text/plain": [
       "1042"
      ]
     },
     "execution_count": 153,
     "metadata": {},
     "output_type": "execute_result"
    }
   ],
   "source": [
    "segregated(ca10).groupby(ca10[\"step\"]).sum().idxmin()"
   ]
  },
  {
   "cell_type": "code",
   "execution_count": 144,
   "metadata": {},
   "outputs": [
    {
     "data": {
      "text/plain": [
       "937"
      ]
     },
     "execution_count": 144,
     "metadata": {},
     "output_type": "execute_result"
    }
   ],
   "source": [
    "hypersegregated(ca10, 1/6).groupby(ca10[\"step\"]).sum().idxmin()"
   ]
  },
  {
   "cell_type": "code",
   "execution_count": 157,
   "metadata": {},
   "outputs": [
    {
     "data": {
      "text/plain": [
       "3.0"
      ]
     },
     "execution_count": 157,
     "metadata": {},
     "output_type": "execute_result"
    }
   ],
   "source": [
    "hypersegregated(ca10, 1/4).groupby(ca10[\"step\"]).sum().min()"
   ]
  },
  {
   "cell_type": "code",
   "execution_count": null,
   "metadata": {},
   "outputs": [],
   "source": []
  }
 ],
 "metadata": {
  "kernelspec": {
   "display_name": "Python 3",
   "language": "python",
   "name": "python3"
  },
  "language_info": {
   "codemirror_mode": {
    "name": "ipython",
    "version": 3
   },
   "file_extension": ".py",
   "mimetype": "text/x-python",
   "name": "python",
   "nbconvert_exporter": "python",
   "pygments_lexer": "ipython3",
   "version": "3.7.1"
  }
 },
 "nbformat": 4,
 "nbformat_minor": 2
}
